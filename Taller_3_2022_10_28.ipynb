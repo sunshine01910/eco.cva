{
  "nbformat": 4,
  "nbformat_minor": 0,
  "metadata": {
    "colab": {
      "provenance": [],
      "collapsed_sections": [],
      "include_colab_link": true
    },
    "kernelspec": {
      "name": "python3",
      "display_name": "Python 3"
    },
    "language_info": {
      "name": "python"
    }
  },
  "cells": [
    {
      "cell_type": "markdown",
      "metadata": {
        "id": "view-in-github",
        "colab_type": "text"
      },
      "source": [
        "<a href=\"https://colab.research.google.com/github/sunshine01910/eco.cva/blob/main/Taller_3_2022_10_28.ipynb\" target=\"_parent\"><img src=\"https://colab.research.google.com/assets/colab-badge.svg\" alt=\"Open In Colab\"/></a>"
      ]
    },
    {
      "cell_type": "markdown",
      "source": [
        "Integrantes: Maria Estefania Silva Leal, Juliette Alexandra Garavito Tique y \n",
        "Sara Lucia Pulido Reina"
      ],
      "metadata": {
        "id": "yE6e4XQA96st"
      }
    },
    {
      "cell_type": "markdown",
      "source": [
        "# Taller: efecto de haber visto ballenas en la probabilidad de pagar por conservar\n",
        "\n",
        "El siguiente taller es opcional. Usted puede decidir hacerlo o no, no tendrá efecto en su nota si no lo hace, pero si decide hacerlo y lo entrega, tendrá un valor del 5% sobre la nota del parcial final."
      ],
      "metadata": {
        "id": "b0JolUHHOarH"
      }
    },
    {
      "cell_type": "markdown",
      "source": [
        "El dataset a analizar y con el cual se va a modelar contiene las siguientes variables:\n",
        "\n",
        "`Country`: país de origen\n",
        "\n",
        "`SeeWhales`: vio o no ballenas\n",
        "\n",
        "`Age`: edad\n",
        "\n",
        "`Gender`: género\n",
        "\n",
        "`Education`: nivel educativo\n",
        "\n",
        "`Income_AUD`: ingreso categorizado\n",
        "\n",
        "`Income`: ingreso en dólares australianos\n",
        "\n",
        "`AdultWhales`: número de ballenas adultas vistas\n",
        "\n",
        "`YoungWhales`: vio o no ballenas jóvenes\n",
        "\n",
        "`Max_wtp`: Máxima disposición a pagar\n",
        "\n",
        "`wtp`: qué tan dispuesto está a pagar por la conservación de las ballenas\n",
        "\n",
        "`PayConserve`: disposición a pagar o no 2 dólares cada semana durante 10 años por conservar el espacio para avistar ballenas \n",
        "\n",
        "El objetivo es responder a la pregunta ¿cuál es el efecto de haber visto ballenas (adultas o jóvenes) en la probabilidad de pagar por conservar 2 dólares cada semana durante 10 años?\n",
        "\n",
        "Para resolver el ejercicio, siga la estructura del taller anterior. Tenga presente que muchas de estas variables son categóricas, será necesario hacer la transformación correspondiente.\n",
        "\n",
        "Además de las variables indicadas, utilice al menos tres adicionales para estimar el modelo."
      ],
      "metadata": {
        "id": "YmBRuwfvOiQY"
      }
    },
    {
      "cell_type": "markdown",
      "source": [
        "#Importación de librerías y datos\n",
        "importe las librerías que considere necesarias para manipular datos"
      ],
      "metadata": {
        "id": "y9YarkpEngfD"
      }
    },
    {
      "cell_type": "code",
      "source": [
        "import pandas as pd\n",
        "import numpy as np\n",
        "import scipy.stats as st\n",
        "import statsmodels.api as sm\n",
        "import matplotlib.pyplot as plt\n",
        "import seaborn as sns "
      ],
      "metadata": {
        "id": "a-24VdEmnchM"
      },
      "execution_count": null,
      "outputs": []
    },
    {
      "cell_type": "code",
      "source": [
        "df = pd.read_csv('datos_whales.csv')"
      ],
      "metadata": {
        "id": "b47nKlKLn_B1"
      },
      "execution_count": null,
      "outputs": []
    },
    {
      "cell_type": "markdown",
      "source": [
        "#Exploración inicial"
      ],
      "metadata": {
        "id": "dhp23XfdoYxE"
      }
    },
    {
      "cell_type": "code",
      "source": [
        "df.head(10)"
      ],
      "metadata": {
        "colab": {
          "base_uri": "https://localhost:8080/",
          "height": 363
        },
        "id": "4eCBkT8FoWKc",
        "outputId": "38972012-d48d-4ad4-c03f-c5096400a809"
      },
      "execution_count": null,
      "outputs": [
        {
          "output_type": "execute_result",
          "data": {
            "text/plain": [
              "     Country  SeeWhales   Age  Gender             Education  \\\n",
              "0  Australia          1  31.0  Female               Diploma   \n",
              "1         UK          0  22.0  Female                Degree   \n",
              "2        USA          0  46.0  Female                Degree   \n",
              "3     France          0  37.0  Female               Diploma   \n",
              "4         UK          0  66.0  Female                Degree   \n",
              "5  Australia          0  65.0    Male  Post-graduate degree   \n",
              "6  Australia          0  49.0    Male  Post-graduate degree   \n",
              "7         UK          0  38.0  Female  Post-graduate degree   \n",
              "8  Australia          0  54.0    Male     Completed year 12   \n",
              "9  Australia          0  59.0  Female     Completed year 10   \n",
              "\n",
              "          Income_AUD   Income  AdultWhales YoungWhales  Max_wtp   wtp  \\\n",
              "0  $60,001 - $70,000  65000.5            2         Yes      0.0  Less   \n",
              "1  Less than $20,000  10000.0            6          No      0.0  More   \n",
              "2  More than $70,000  85000.5            7          No      0.0  More   \n",
              "3  $20,001 - $30,000  25000.5            4         Yes      0.0  More   \n",
              "4                NaN      NaN            6          No      0.0  More   \n",
              "5  $40,001 - $50,000  45000.5            3         Yes      1.0  Same   \n",
              "6  $20,001 - $30,000  25000.5            2          No      2.0  Less   \n",
              "7  More than $70,000  85000.5            0         Yes      0.0  More   \n",
              "8  More than $70,000  85000.5            6         Yes      5.0  Same   \n",
              "9  Less than $20,000  10000.0            4          No      0.0  More   \n",
              "\n",
              "   PayConserve  \n",
              "0            1  \n",
              "1            0  \n",
              "2            0  \n",
              "3            1  \n",
              "4            0  \n",
              "5            1  \n",
              "6            1  \n",
              "7            0  \n",
              "8            1  \n",
              "9            0  "
            ],
            "text/html": [
              "\n",
              "  <div id=\"df-87407c36-e14e-49e6-8ca6-54c0c0933553\">\n",
              "    <div class=\"colab-df-container\">\n",
              "      <div>\n",
              "<style scoped>\n",
              "    .dataframe tbody tr th:only-of-type {\n",
              "        vertical-align: middle;\n",
              "    }\n",
              "\n",
              "    .dataframe tbody tr th {\n",
              "        vertical-align: top;\n",
              "    }\n",
              "\n",
              "    .dataframe thead th {\n",
              "        text-align: right;\n",
              "    }\n",
              "</style>\n",
              "<table border=\"1\" class=\"dataframe\">\n",
              "  <thead>\n",
              "    <tr style=\"text-align: right;\">\n",
              "      <th></th>\n",
              "      <th>Country</th>\n",
              "      <th>SeeWhales</th>\n",
              "      <th>Age</th>\n",
              "      <th>Gender</th>\n",
              "      <th>Education</th>\n",
              "      <th>Income_AUD</th>\n",
              "      <th>Income</th>\n",
              "      <th>AdultWhales</th>\n",
              "      <th>YoungWhales</th>\n",
              "      <th>Max_wtp</th>\n",
              "      <th>wtp</th>\n",
              "      <th>PayConserve</th>\n",
              "    </tr>\n",
              "  </thead>\n",
              "  <tbody>\n",
              "    <tr>\n",
              "      <th>0</th>\n",
              "      <td>Australia</td>\n",
              "      <td>1</td>\n",
              "      <td>31.0</td>\n",
              "      <td>Female</td>\n",
              "      <td>Diploma</td>\n",
              "      <td>$60,001 - $70,000</td>\n",
              "      <td>65000.5</td>\n",
              "      <td>2</td>\n",
              "      <td>Yes</td>\n",
              "      <td>0.0</td>\n",
              "      <td>Less</td>\n",
              "      <td>1</td>\n",
              "    </tr>\n",
              "    <tr>\n",
              "      <th>1</th>\n",
              "      <td>UK</td>\n",
              "      <td>0</td>\n",
              "      <td>22.0</td>\n",
              "      <td>Female</td>\n",
              "      <td>Degree</td>\n",
              "      <td>Less than $20,000</td>\n",
              "      <td>10000.0</td>\n",
              "      <td>6</td>\n",
              "      <td>No</td>\n",
              "      <td>0.0</td>\n",
              "      <td>More</td>\n",
              "      <td>0</td>\n",
              "    </tr>\n",
              "    <tr>\n",
              "      <th>2</th>\n",
              "      <td>USA</td>\n",
              "      <td>0</td>\n",
              "      <td>46.0</td>\n",
              "      <td>Female</td>\n",
              "      <td>Degree</td>\n",
              "      <td>More than $70,000</td>\n",
              "      <td>85000.5</td>\n",
              "      <td>7</td>\n",
              "      <td>No</td>\n",
              "      <td>0.0</td>\n",
              "      <td>More</td>\n",
              "      <td>0</td>\n",
              "    </tr>\n",
              "    <tr>\n",
              "      <th>3</th>\n",
              "      <td>France</td>\n",
              "      <td>0</td>\n",
              "      <td>37.0</td>\n",
              "      <td>Female</td>\n",
              "      <td>Diploma</td>\n",
              "      <td>$20,001 - $30,000</td>\n",
              "      <td>25000.5</td>\n",
              "      <td>4</td>\n",
              "      <td>Yes</td>\n",
              "      <td>0.0</td>\n",
              "      <td>More</td>\n",
              "      <td>1</td>\n",
              "    </tr>\n",
              "    <tr>\n",
              "      <th>4</th>\n",
              "      <td>UK</td>\n",
              "      <td>0</td>\n",
              "      <td>66.0</td>\n",
              "      <td>Female</td>\n",
              "      <td>Degree</td>\n",
              "      <td>NaN</td>\n",
              "      <td>NaN</td>\n",
              "      <td>6</td>\n",
              "      <td>No</td>\n",
              "      <td>0.0</td>\n",
              "      <td>More</td>\n",
              "      <td>0</td>\n",
              "    </tr>\n",
              "    <tr>\n",
              "      <th>5</th>\n",
              "      <td>Australia</td>\n",
              "      <td>0</td>\n",
              "      <td>65.0</td>\n",
              "      <td>Male</td>\n",
              "      <td>Post-graduate degree</td>\n",
              "      <td>$40,001 - $50,000</td>\n",
              "      <td>45000.5</td>\n",
              "      <td>3</td>\n",
              "      <td>Yes</td>\n",
              "      <td>1.0</td>\n",
              "      <td>Same</td>\n",
              "      <td>1</td>\n",
              "    </tr>\n",
              "    <tr>\n",
              "      <th>6</th>\n",
              "      <td>Australia</td>\n",
              "      <td>0</td>\n",
              "      <td>49.0</td>\n",
              "      <td>Male</td>\n",
              "      <td>Post-graduate degree</td>\n",
              "      <td>$20,001 - $30,000</td>\n",
              "      <td>25000.5</td>\n",
              "      <td>2</td>\n",
              "      <td>No</td>\n",
              "      <td>2.0</td>\n",
              "      <td>Less</td>\n",
              "      <td>1</td>\n",
              "    </tr>\n",
              "    <tr>\n",
              "      <th>7</th>\n",
              "      <td>UK</td>\n",
              "      <td>0</td>\n",
              "      <td>38.0</td>\n",
              "      <td>Female</td>\n",
              "      <td>Post-graduate degree</td>\n",
              "      <td>More than $70,000</td>\n",
              "      <td>85000.5</td>\n",
              "      <td>0</td>\n",
              "      <td>Yes</td>\n",
              "      <td>0.0</td>\n",
              "      <td>More</td>\n",
              "      <td>0</td>\n",
              "    </tr>\n",
              "    <tr>\n",
              "      <th>8</th>\n",
              "      <td>Australia</td>\n",
              "      <td>0</td>\n",
              "      <td>54.0</td>\n",
              "      <td>Male</td>\n",
              "      <td>Completed year 12</td>\n",
              "      <td>More than $70,000</td>\n",
              "      <td>85000.5</td>\n",
              "      <td>6</td>\n",
              "      <td>Yes</td>\n",
              "      <td>5.0</td>\n",
              "      <td>Same</td>\n",
              "      <td>1</td>\n",
              "    </tr>\n",
              "    <tr>\n",
              "      <th>9</th>\n",
              "      <td>Australia</td>\n",
              "      <td>0</td>\n",
              "      <td>59.0</td>\n",
              "      <td>Female</td>\n",
              "      <td>Completed year 10</td>\n",
              "      <td>Less than $20,000</td>\n",
              "      <td>10000.0</td>\n",
              "      <td>4</td>\n",
              "      <td>No</td>\n",
              "      <td>0.0</td>\n",
              "      <td>More</td>\n",
              "      <td>0</td>\n",
              "    </tr>\n",
              "  </tbody>\n",
              "</table>\n",
              "</div>\n",
              "      <button class=\"colab-df-convert\" onclick=\"convertToInteractive('df-87407c36-e14e-49e6-8ca6-54c0c0933553')\"\n",
              "              title=\"Convert this dataframe to an interactive table.\"\n",
              "              style=\"display:none;\">\n",
              "        \n",
              "  <svg xmlns=\"http://www.w3.org/2000/svg\" height=\"24px\"viewBox=\"0 0 24 24\"\n",
              "       width=\"24px\">\n",
              "    <path d=\"M0 0h24v24H0V0z\" fill=\"none\"/>\n",
              "    <path d=\"M18.56 5.44l.94 2.06.94-2.06 2.06-.94-2.06-.94-.94-2.06-.94 2.06-2.06.94zm-11 1L8.5 8.5l.94-2.06 2.06-.94-2.06-.94L8.5 2.5l-.94 2.06-2.06.94zm10 10l.94 2.06.94-2.06 2.06-.94-2.06-.94-.94-2.06-.94 2.06-2.06.94z\"/><path d=\"M17.41 7.96l-1.37-1.37c-.4-.4-.92-.59-1.43-.59-.52 0-1.04.2-1.43.59L10.3 9.45l-7.72 7.72c-.78.78-.78 2.05 0 2.83L4 21.41c.39.39.9.59 1.41.59.51 0 1.02-.2 1.41-.59l7.78-7.78 2.81-2.81c.8-.78.8-2.07 0-2.86zM5.41 20L4 18.59l7.72-7.72 1.47 1.35L5.41 20z\"/>\n",
              "  </svg>\n",
              "      </button>\n",
              "      \n",
              "  <style>\n",
              "    .colab-df-container {\n",
              "      display:flex;\n",
              "      flex-wrap:wrap;\n",
              "      gap: 12px;\n",
              "    }\n",
              "\n",
              "    .colab-df-convert {\n",
              "      background-color: #E8F0FE;\n",
              "      border: none;\n",
              "      border-radius: 50%;\n",
              "      cursor: pointer;\n",
              "      display: none;\n",
              "      fill: #1967D2;\n",
              "      height: 32px;\n",
              "      padding: 0 0 0 0;\n",
              "      width: 32px;\n",
              "    }\n",
              "\n",
              "    .colab-df-convert:hover {\n",
              "      background-color: #E2EBFA;\n",
              "      box-shadow: 0px 1px 2px rgba(60, 64, 67, 0.3), 0px 1px 3px 1px rgba(60, 64, 67, 0.15);\n",
              "      fill: #174EA6;\n",
              "    }\n",
              "\n",
              "    [theme=dark] .colab-df-convert {\n",
              "      background-color: #3B4455;\n",
              "      fill: #D2E3FC;\n",
              "    }\n",
              "\n",
              "    [theme=dark] .colab-df-convert:hover {\n",
              "      background-color: #434B5C;\n",
              "      box-shadow: 0px 1px 3px 1px rgba(0, 0, 0, 0.15);\n",
              "      filter: drop-shadow(0px 1px 2px rgba(0, 0, 0, 0.3));\n",
              "      fill: #FFFFFF;\n",
              "    }\n",
              "  </style>\n",
              "\n",
              "      <script>\n",
              "        const buttonEl =\n",
              "          document.querySelector('#df-87407c36-e14e-49e6-8ca6-54c0c0933553 button.colab-df-convert');\n",
              "        buttonEl.style.display =\n",
              "          google.colab.kernel.accessAllowed ? 'block' : 'none';\n",
              "\n",
              "        async function convertToInteractive(key) {\n",
              "          const element = document.querySelector('#df-87407c36-e14e-49e6-8ca6-54c0c0933553');\n",
              "          const dataTable =\n",
              "            await google.colab.kernel.invokeFunction('convertToInteractive',\n",
              "                                                     [key], {});\n",
              "          if (!dataTable) return;\n",
              "\n",
              "          const docLinkHtml = 'Like what you see? Visit the ' +\n",
              "            '<a target=\"_blank\" href=https://colab.research.google.com/notebooks/data_table.ipynb>data table notebook</a>'\n",
              "            + ' to learn more about interactive tables.';\n",
              "          element.innerHTML = '';\n",
              "          dataTable['output_type'] = 'display_data';\n",
              "          await google.colab.output.renderOutput(dataTable, element);\n",
              "          const docLink = document.createElement('div');\n",
              "          docLink.innerHTML = docLinkHtml;\n",
              "          element.appendChild(docLink);\n",
              "        }\n",
              "      </script>\n",
              "    </div>\n",
              "  </div>\n",
              "  "
            ]
          },
          "metadata": {},
          "execution_count": 27
        }
      ]
    },
    {
      "cell_type": "markdown",
      "source": [
        "Conclusiones: En estos 10 primeros datos el mayor número de ballenas vistas adultas fue de 7, correspondiente a un estadounidense, todos son mayores de edad, 5 personas están dispuestas a pagar 2 dólares cada semana durante 10 años por conservar el ecosistema."
      ],
      "metadata": {
        "id": "0tGYuH9FpLO3"
      }
    },
    {
      "cell_type": "code",
      "source": [
        "df.tail(10)"
      ],
      "metadata": {
        "colab": {
          "base_uri": "https://localhost:8080/",
          "height": 363
        },
        "id": "T-l4SfdAohvj",
        "outputId": "46d5e348-0717-4803-c723-210a84461ce9"
      },
      "execution_count": null,
      "outputs": [
        {
          "output_type": "execute_result",
          "data": {
            "text/plain": [
              "             Country  SeeWhales   Age  Gender             Education  \\\n",
              "691            Italy          0  58.0  Female               Diploma   \n",
              "692        Australia          0  53.0  Female  Post-graduate degree   \n",
              "693        Australia          0  34.0  Female     Completed year 10   \n",
              "694  The Netherlands          0  31.0  Female                Degree   \n",
              "695        Australia          0  40.0  Female     Completed year 12   \n",
              "696        Australia          0  56.0  Female     Completed year 10   \n",
              "697        Australia          0  38.0  Female     Completed year 10   \n",
              "698        Australia          0  24.0  Female               Diploma   \n",
              "699        Australia          0  50.0    Male  Post-graduate degree   \n",
              "700        Australia          0  32.0    Male                Degree   \n",
              "\n",
              "            Income_AUD   Income  AdultWhales YoungWhales  Max_wtp   wtp  \\\n",
              "691                NaN      NaN            8         Yes      0.0  Less   \n",
              "692  More than $70,000  85000.5            4         Yes      0.0  Less   \n",
              "693  $50,001 - $60,000  55000.5            4         Yes      5.0  Less   \n",
              "694  $50,001 - $60,000  55000.5            4          No      0.0  More   \n",
              "695  $50,001 - $60,000  55000.5           15          No     10.0  Same   \n",
              "696  Less than $20,000  10000.0            0         Yes      1.0  Same   \n",
              "697  $30,001 - $40,000  35000.5            6         Yes      2.0  Same   \n",
              "698  $20,001 - $30,000  25000.5            6          No      2.0  Less   \n",
              "699  $30,001 - $40,000  35000.5            2         Yes      5.0  Same   \n",
              "700  More than $70,000  85000.5            8         Yes      0.0  Same   \n",
              "\n",
              "     PayConserve  \n",
              "691            1  \n",
              "692            1  \n",
              "693            1  \n",
              "694            1  \n",
              "695            1  \n",
              "696            1  \n",
              "697            1  \n",
              "698            1  \n",
              "699            1  \n",
              "700            0  "
            ],
            "text/html": [
              "\n",
              "  <div id=\"df-317bc09a-0aec-4f83-becf-088f47faed77\">\n",
              "    <div class=\"colab-df-container\">\n",
              "      <div>\n",
              "<style scoped>\n",
              "    .dataframe tbody tr th:only-of-type {\n",
              "        vertical-align: middle;\n",
              "    }\n",
              "\n",
              "    .dataframe tbody tr th {\n",
              "        vertical-align: top;\n",
              "    }\n",
              "\n",
              "    .dataframe thead th {\n",
              "        text-align: right;\n",
              "    }\n",
              "</style>\n",
              "<table border=\"1\" class=\"dataframe\">\n",
              "  <thead>\n",
              "    <tr style=\"text-align: right;\">\n",
              "      <th></th>\n",
              "      <th>Country</th>\n",
              "      <th>SeeWhales</th>\n",
              "      <th>Age</th>\n",
              "      <th>Gender</th>\n",
              "      <th>Education</th>\n",
              "      <th>Income_AUD</th>\n",
              "      <th>Income</th>\n",
              "      <th>AdultWhales</th>\n",
              "      <th>YoungWhales</th>\n",
              "      <th>Max_wtp</th>\n",
              "      <th>wtp</th>\n",
              "      <th>PayConserve</th>\n",
              "    </tr>\n",
              "  </thead>\n",
              "  <tbody>\n",
              "    <tr>\n",
              "      <th>691</th>\n",
              "      <td>Italy</td>\n",
              "      <td>0</td>\n",
              "      <td>58.0</td>\n",
              "      <td>Female</td>\n",
              "      <td>Diploma</td>\n",
              "      <td>NaN</td>\n",
              "      <td>NaN</td>\n",
              "      <td>8</td>\n",
              "      <td>Yes</td>\n",
              "      <td>0.0</td>\n",
              "      <td>Less</td>\n",
              "      <td>1</td>\n",
              "    </tr>\n",
              "    <tr>\n",
              "      <th>692</th>\n",
              "      <td>Australia</td>\n",
              "      <td>0</td>\n",
              "      <td>53.0</td>\n",
              "      <td>Female</td>\n",
              "      <td>Post-graduate degree</td>\n",
              "      <td>More than $70,000</td>\n",
              "      <td>85000.5</td>\n",
              "      <td>4</td>\n",
              "      <td>Yes</td>\n",
              "      <td>0.0</td>\n",
              "      <td>Less</td>\n",
              "      <td>1</td>\n",
              "    </tr>\n",
              "    <tr>\n",
              "      <th>693</th>\n",
              "      <td>Australia</td>\n",
              "      <td>0</td>\n",
              "      <td>34.0</td>\n",
              "      <td>Female</td>\n",
              "      <td>Completed year 10</td>\n",
              "      <td>$50,001 - $60,000</td>\n",
              "      <td>55000.5</td>\n",
              "      <td>4</td>\n",
              "      <td>Yes</td>\n",
              "      <td>5.0</td>\n",
              "      <td>Less</td>\n",
              "      <td>1</td>\n",
              "    </tr>\n",
              "    <tr>\n",
              "      <th>694</th>\n",
              "      <td>The Netherlands</td>\n",
              "      <td>0</td>\n",
              "      <td>31.0</td>\n",
              "      <td>Female</td>\n",
              "      <td>Degree</td>\n",
              "      <td>$50,001 - $60,000</td>\n",
              "      <td>55000.5</td>\n",
              "      <td>4</td>\n",
              "      <td>No</td>\n",
              "      <td>0.0</td>\n",
              "      <td>More</td>\n",
              "      <td>1</td>\n",
              "    </tr>\n",
              "    <tr>\n",
              "      <th>695</th>\n",
              "      <td>Australia</td>\n",
              "      <td>0</td>\n",
              "      <td>40.0</td>\n",
              "      <td>Female</td>\n",
              "      <td>Completed year 12</td>\n",
              "      <td>$50,001 - $60,000</td>\n",
              "      <td>55000.5</td>\n",
              "      <td>15</td>\n",
              "      <td>No</td>\n",
              "      <td>10.0</td>\n",
              "      <td>Same</td>\n",
              "      <td>1</td>\n",
              "    </tr>\n",
              "    <tr>\n",
              "      <th>696</th>\n",
              "      <td>Australia</td>\n",
              "      <td>0</td>\n",
              "      <td>56.0</td>\n",
              "      <td>Female</td>\n",
              "      <td>Completed year 10</td>\n",
              "      <td>Less than $20,000</td>\n",
              "      <td>10000.0</td>\n",
              "      <td>0</td>\n",
              "      <td>Yes</td>\n",
              "      <td>1.0</td>\n",
              "      <td>Same</td>\n",
              "      <td>1</td>\n",
              "    </tr>\n",
              "    <tr>\n",
              "      <th>697</th>\n",
              "      <td>Australia</td>\n",
              "      <td>0</td>\n",
              "      <td>38.0</td>\n",
              "      <td>Female</td>\n",
              "      <td>Completed year 10</td>\n",
              "      <td>$30,001 - $40,000</td>\n",
              "      <td>35000.5</td>\n",
              "      <td>6</td>\n",
              "      <td>Yes</td>\n",
              "      <td>2.0</td>\n",
              "      <td>Same</td>\n",
              "      <td>1</td>\n",
              "    </tr>\n",
              "    <tr>\n",
              "      <th>698</th>\n",
              "      <td>Australia</td>\n",
              "      <td>0</td>\n",
              "      <td>24.0</td>\n",
              "      <td>Female</td>\n",
              "      <td>Diploma</td>\n",
              "      <td>$20,001 - $30,000</td>\n",
              "      <td>25000.5</td>\n",
              "      <td>6</td>\n",
              "      <td>No</td>\n",
              "      <td>2.0</td>\n",
              "      <td>Less</td>\n",
              "      <td>1</td>\n",
              "    </tr>\n",
              "    <tr>\n",
              "      <th>699</th>\n",
              "      <td>Australia</td>\n",
              "      <td>0</td>\n",
              "      <td>50.0</td>\n",
              "      <td>Male</td>\n",
              "      <td>Post-graduate degree</td>\n",
              "      <td>$30,001 - $40,000</td>\n",
              "      <td>35000.5</td>\n",
              "      <td>2</td>\n",
              "      <td>Yes</td>\n",
              "      <td>5.0</td>\n",
              "      <td>Same</td>\n",
              "      <td>1</td>\n",
              "    </tr>\n",
              "    <tr>\n",
              "      <th>700</th>\n",
              "      <td>Australia</td>\n",
              "      <td>0</td>\n",
              "      <td>32.0</td>\n",
              "      <td>Male</td>\n",
              "      <td>Degree</td>\n",
              "      <td>More than $70,000</td>\n",
              "      <td>85000.5</td>\n",
              "      <td>8</td>\n",
              "      <td>Yes</td>\n",
              "      <td>0.0</td>\n",
              "      <td>Same</td>\n",
              "      <td>0</td>\n",
              "    </tr>\n",
              "  </tbody>\n",
              "</table>\n",
              "</div>\n",
              "      <button class=\"colab-df-convert\" onclick=\"convertToInteractive('df-317bc09a-0aec-4f83-becf-088f47faed77')\"\n",
              "              title=\"Convert this dataframe to an interactive table.\"\n",
              "              style=\"display:none;\">\n",
              "        \n",
              "  <svg xmlns=\"http://www.w3.org/2000/svg\" height=\"24px\"viewBox=\"0 0 24 24\"\n",
              "       width=\"24px\">\n",
              "    <path d=\"M0 0h24v24H0V0z\" fill=\"none\"/>\n",
              "    <path d=\"M18.56 5.44l.94 2.06.94-2.06 2.06-.94-2.06-.94-.94-2.06-.94 2.06-2.06.94zm-11 1L8.5 8.5l.94-2.06 2.06-.94-2.06-.94L8.5 2.5l-.94 2.06-2.06.94zm10 10l.94 2.06.94-2.06 2.06-.94-2.06-.94-.94-2.06-.94 2.06-2.06.94z\"/><path d=\"M17.41 7.96l-1.37-1.37c-.4-.4-.92-.59-1.43-.59-.52 0-1.04.2-1.43.59L10.3 9.45l-7.72 7.72c-.78.78-.78 2.05 0 2.83L4 21.41c.39.39.9.59 1.41.59.51 0 1.02-.2 1.41-.59l7.78-7.78 2.81-2.81c.8-.78.8-2.07 0-2.86zM5.41 20L4 18.59l7.72-7.72 1.47 1.35L5.41 20z\"/>\n",
              "  </svg>\n",
              "      </button>\n",
              "      \n",
              "  <style>\n",
              "    .colab-df-container {\n",
              "      display:flex;\n",
              "      flex-wrap:wrap;\n",
              "      gap: 12px;\n",
              "    }\n",
              "\n",
              "    .colab-df-convert {\n",
              "      background-color: #E8F0FE;\n",
              "      border: none;\n",
              "      border-radius: 50%;\n",
              "      cursor: pointer;\n",
              "      display: none;\n",
              "      fill: #1967D2;\n",
              "      height: 32px;\n",
              "      padding: 0 0 0 0;\n",
              "      width: 32px;\n",
              "    }\n",
              "\n",
              "    .colab-df-convert:hover {\n",
              "      background-color: #E2EBFA;\n",
              "      box-shadow: 0px 1px 2px rgba(60, 64, 67, 0.3), 0px 1px 3px 1px rgba(60, 64, 67, 0.15);\n",
              "      fill: #174EA6;\n",
              "    }\n",
              "\n",
              "    [theme=dark] .colab-df-convert {\n",
              "      background-color: #3B4455;\n",
              "      fill: #D2E3FC;\n",
              "    }\n",
              "\n",
              "    [theme=dark] .colab-df-convert:hover {\n",
              "      background-color: #434B5C;\n",
              "      box-shadow: 0px 1px 3px 1px rgba(0, 0, 0, 0.15);\n",
              "      filter: drop-shadow(0px 1px 2px rgba(0, 0, 0, 0.3));\n",
              "      fill: #FFFFFF;\n",
              "    }\n",
              "  </style>\n",
              "\n",
              "      <script>\n",
              "        const buttonEl =\n",
              "          document.querySelector('#df-317bc09a-0aec-4f83-becf-088f47faed77 button.colab-df-convert');\n",
              "        buttonEl.style.display =\n",
              "          google.colab.kernel.accessAllowed ? 'block' : 'none';\n",
              "\n",
              "        async function convertToInteractive(key) {\n",
              "          const element = document.querySelector('#df-317bc09a-0aec-4f83-becf-088f47faed77');\n",
              "          const dataTable =\n",
              "            await google.colab.kernel.invokeFunction('convertToInteractive',\n",
              "                                                     [key], {});\n",
              "          if (!dataTable) return;\n",
              "\n",
              "          const docLinkHtml = 'Like what you see? Visit the ' +\n",
              "            '<a target=\"_blank\" href=https://colab.research.google.com/notebooks/data_table.ipynb>data table notebook</a>'\n",
              "            + ' to learn more about interactive tables.';\n",
              "          element.innerHTML = '';\n",
              "          dataTable['output_type'] = 'display_data';\n",
              "          await google.colab.output.renderOutput(dataTable, element);\n",
              "          const docLink = document.createElement('div');\n",
              "          docLink.innerHTML = docLinkHtml;\n",
              "          element.appendChild(docLink);\n",
              "        }\n",
              "      </script>\n",
              "    </div>\n",
              "  </div>\n",
              "  "
            ]
          },
          "metadata": {},
          "execution_count": 28
        }
      ]
    },
    {
      "cell_type": "markdown",
      "source": [
        "Conclusiones: En estos 10 últimos datos el mayor número de ballenas vistas adultas fue de 15, correspondiente a un australiano, todos son mayores de edad, 9 personas estan dispuestas a pagar 2 dólares cada semana durante 10 años por conservar el ecosistema.\n"
      ],
      "metadata": {
        "id": "vTDz9GiMqq39"
      }
    },
    {
      "cell_type": "code",
      "source": [
        "len(df.columns)"
      ],
      "metadata": {
        "colab": {
          "base_uri": "https://localhost:8080/"
        },
        "id": "EUZLBv4nrIel",
        "outputId": "508a3d7e-278c-4f10-feda-b99abf02ae95"
      },
      "execution_count": null,
      "outputs": [
        {
          "output_type": "execute_result",
          "data": {
            "text/plain": [
              "12"
            ]
          },
          "metadata": {},
          "execution_count": 29
        }
      ]
    },
    {
      "cell_type": "code",
      "source": [
        "print(\"Number of Rows\", len(df))"
      ],
      "metadata": {
        "colab": {
          "base_uri": "https://localhost:8080/"
        },
        "id": "EeC1WwlnrMts",
        "outputId": "fe538b5d-fb04-43eb-d5b8-bd76f479ff91"
      },
      "execution_count": null,
      "outputs": [
        {
          "output_type": "stream",
          "name": "stdout",
          "text": [
            "Number of Rows 701\n"
          ]
        }
      ]
    },
    {
      "cell_type": "code",
      "source": [
        "df.info()"
      ],
      "metadata": {
        "colab": {
          "base_uri": "https://localhost:8080/"
        },
        "id": "RXBclFPIo0XE",
        "outputId": "43394a29-bd38-4a1f-e8c0-21f1645b065e"
      },
      "execution_count": null,
      "outputs": [
        {
          "output_type": "stream",
          "name": "stdout",
          "text": [
            "<class 'pandas.core.frame.DataFrame'>\n",
            "RangeIndex: 701 entries, 0 to 700\n",
            "Data columns (total 12 columns):\n",
            " #   Column       Non-Null Count  Dtype  \n",
            "---  ------       --------------  -----  \n",
            " 0   Country      701 non-null    object \n",
            " 1   SeeWhales    701 non-null    int64  \n",
            " 2   Age          691 non-null    float64\n",
            " 3   Gender       701 non-null    object \n",
            " 4   Education    701 non-null    object \n",
            " 5   Income_AUD   674 non-null    object \n",
            " 6   Income       674 non-null    float64\n",
            " 7   AdultWhales  701 non-null    int64  \n",
            " 8   YoungWhales  701 non-null    object \n",
            " 9   Max_wtp      701 non-null    float64\n",
            " 10  wtp          701 non-null    object \n",
            " 11  PayConserve  701 non-null    int64  \n",
            "dtypes: float64(3), int64(3), object(6)\n",
            "memory usage: 65.8+ KB\n"
          ]
        }
      ]
    },
    {
      "cell_type": "markdown",
      "source": [
        "Conclusiones: 6 datos son objetos, 3 datos son enteros y 4 datos que tienen números con decimales."
      ],
      "metadata": {
        "id": "m2eLbPsBroTD"
      }
    },
    {
      "cell_type": "code",
      "source": [
        "df.describe()"
      ],
      "metadata": {
        "colab": {
          "base_uri": "https://localhost:8080/",
          "height": 300
        },
        "id": "kGfXWmWfo37k",
        "outputId": "cd5b0770-1ab3-4dc3-a7b8-21d022a2c570"
      },
      "execution_count": null,
      "outputs": [
        {
          "output_type": "execute_result",
          "data": {
            "text/plain": [
              "        SeeWhales         Age        Income  AdultWhales     Max_wtp  \\\n",
              "count  701.000000  691.000000    674.000000   701.000000  701.000000   \n",
              "mean     0.126961   42.918958  44540.456973     6.058488    3.149786   \n",
              "std      0.333168   15.562472  26362.209685     3.779758   18.043962   \n",
              "min      0.000000   13.000000  10000.000000     0.000000    0.000000   \n",
              "25%      0.000000   30.000000  25000.500000     4.000000    0.000000   \n",
              "50%      0.000000   41.000000  35000.500000     6.000000    0.000000   \n",
              "75%      0.000000   54.500000  65000.500000     8.000000    2.000000   \n",
              "max      1.000000   82.000000  85000.500000    30.000000  250.000000   \n",
              "\n",
              "       PayConserve  \n",
              "count   701.000000  \n",
              "mean      0.660485  \n",
              "std       0.473883  \n",
              "min       0.000000  \n",
              "25%       0.000000  \n",
              "50%       1.000000  \n",
              "75%       1.000000  \n",
              "max       1.000000  "
            ],
            "text/html": [
              "\n",
              "  <div id=\"df-170ce195-a6e0-4612-b43b-bee3679afb75\">\n",
              "    <div class=\"colab-df-container\">\n",
              "      <div>\n",
              "<style scoped>\n",
              "    .dataframe tbody tr th:only-of-type {\n",
              "        vertical-align: middle;\n",
              "    }\n",
              "\n",
              "    .dataframe tbody tr th {\n",
              "        vertical-align: top;\n",
              "    }\n",
              "\n",
              "    .dataframe thead th {\n",
              "        text-align: right;\n",
              "    }\n",
              "</style>\n",
              "<table border=\"1\" class=\"dataframe\">\n",
              "  <thead>\n",
              "    <tr style=\"text-align: right;\">\n",
              "      <th></th>\n",
              "      <th>SeeWhales</th>\n",
              "      <th>Age</th>\n",
              "      <th>Income</th>\n",
              "      <th>AdultWhales</th>\n",
              "      <th>Max_wtp</th>\n",
              "      <th>PayConserve</th>\n",
              "    </tr>\n",
              "  </thead>\n",
              "  <tbody>\n",
              "    <tr>\n",
              "      <th>count</th>\n",
              "      <td>701.000000</td>\n",
              "      <td>691.000000</td>\n",
              "      <td>674.000000</td>\n",
              "      <td>701.000000</td>\n",
              "      <td>701.000000</td>\n",
              "      <td>701.000000</td>\n",
              "    </tr>\n",
              "    <tr>\n",
              "      <th>mean</th>\n",
              "      <td>0.126961</td>\n",
              "      <td>42.918958</td>\n",
              "      <td>44540.456973</td>\n",
              "      <td>6.058488</td>\n",
              "      <td>3.149786</td>\n",
              "      <td>0.660485</td>\n",
              "    </tr>\n",
              "    <tr>\n",
              "      <th>std</th>\n",
              "      <td>0.333168</td>\n",
              "      <td>15.562472</td>\n",
              "      <td>26362.209685</td>\n",
              "      <td>3.779758</td>\n",
              "      <td>18.043962</td>\n",
              "      <td>0.473883</td>\n",
              "    </tr>\n",
              "    <tr>\n",
              "      <th>min</th>\n",
              "      <td>0.000000</td>\n",
              "      <td>13.000000</td>\n",
              "      <td>10000.000000</td>\n",
              "      <td>0.000000</td>\n",
              "      <td>0.000000</td>\n",
              "      <td>0.000000</td>\n",
              "    </tr>\n",
              "    <tr>\n",
              "      <th>25%</th>\n",
              "      <td>0.000000</td>\n",
              "      <td>30.000000</td>\n",
              "      <td>25000.500000</td>\n",
              "      <td>4.000000</td>\n",
              "      <td>0.000000</td>\n",
              "      <td>0.000000</td>\n",
              "    </tr>\n",
              "    <tr>\n",
              "      <th>50%</th>\n",
              "      <td>0.000000</td>\n",
              "      <td>41.000000</td>\n",
              "      <td>35000.500000</td>\n",
              "      <td>6.000000</td>\n",
              "      <td>0.000000</td>\n",
              "      <td>1.000000</td>\n",
              "    </tr>\n",
              "    <tr>\n",
              "      <th>75%</th>\n",
              "      <td>0.000000</td>\n",
              "      <td>54.500000</td>\n",
              "      <td>65000.500000</td>\n",
              "      <td>8.000000</td>\n",
              "      <td>2.000000</td>\n",
              "      <td>1.000000</td>\n",
              "    </tr>\n",
              "    <tr>\n",
              "      <th>max</th>\n",
              "      <td>1.000000</td>\n",
              "      <td>82.000000</td>\n",
              "      <td>85000.500000</td>\n",
              "      <td>30.000000</td>\n",
              "      <td>250.000000</td>\n",
              "      <td>1.000000</td>\n",
              "    </tr>\n",
              "  </tbody>\n",
              "</table>\n",
              "</div>\n",
              "      <button class=\"colab-df-convert\" onclick=\"convertToInteractive('df-170ce195-a6e0-4612-b43b-bee3679afb75')\"\n",
              "              title=\"Convert this dataframe to an interactive table.\"\n",
              "              style=\"display:none;\">\n",
              "        \n",
              "  <svg xmlns=\"http://www.w3.org/2000/svg\" height=\"24px\"viewBox=\"0 0 24 24\"\n",
              "       width=\"24px\">\n",
              "    <path d=\"M0 0h24v24H0V0z\" fill=\"none\"/>\n",
              "    <path d=\"M18.56 5.44l.94 2.06.94-2.06 2.06-.94-2.06-.94-.94-2.06-.94 2.06-2.06.94zm-11 1L8.5 8.5l.94-2.06 2.06-.94-2.06-.94L8.5 2.5l-.94 2.06-2.06.94zm10 10l.94 2.06.94-2.06 2.06-.94-2.06-.94-.94-2.06-.94 2.06-2.06.94z\"/><path d=\"M17.41 7.96l-1.37-1.37c-.4-.4-.92-.59-1.43-.59-.52 0-1.04.2-1.43.59L10.3 9.45l-7.72 7.72c-.78.78-.78 2.05 0 2.83L4 21.41c.39.39.9.59 1.41.59.51 0 1.02-.2 1.41-.59l7.78-7.78 2.81-2.81c.8-.78.8-2.07 0-2.86zM5.41 20L4 18.59l7.72-7.72 1.47 1.35L5.41 20z\"/>\n",
              "  </svg>\n",
              "      </button>\n",
              "      \n",
              "  <style>\n",
              "    .colab-df-container {\n",
              "      display:flex;\n",
              "      flex-wrap:wrap;\n",
              "      gap: 12px;\n",
              "    }\n",
              "\n",
              "    .colab-df-convert {\n",
              "      background-color: #E8F0FE;\n",
              "      border: none;\n",
              "      border-radius: 50%;\n",
              "      cursor: pointer;\n",
              "      display: none;\n",
              "      fill: #1967D2;\n",
              "      height: 32px;\n",
              "      padding: 0 0 0 0;\n",
              "      width: 32px;\n",
              "    }\n",
              "\n",
              "    .colab-df-convert:hover {\n",
              "      background-color: #E2EBFA;\n",
              "      box-shadow: 0px 1px 2px rgba(60, 64, 67, 0.3), 0px 1px 3px 1px rgba(60, 64, 67, 0.15);\n",
              "      fill: #174EA6;\n",
              "    }\n",
              "\n",
              "    [theme=dark] .colab-df-convert {\n",
              "      background-color: #3B4455;\n",
              "      fill: #D2E3FC;\n",
              "    }\n",
              "\n",
              "    [theme=dark] .colab-df-convert:hover {\n",
              "      background-color: #434B5C;\n",
              "      box-shadow: 0px 1px 3px 1px rgba(0, 0, 0, 0.15);\n",
              "      filter: drop-shadow(0px 1px 2px rgba(0, 0, 0, 0.3));\n",
              "      fill: #FFFFFF;\n",
              "    }\n",
              "  </style>\n",
              "\n",
              "      <script>\n",
              "        const buttonEl =\n",
              "          document.querySelector('#df-170ce195-a6e0-4612-b43b-bee3679afb75 button.colab-df-convert');\n",
              "        buttonEl.style.display =\n",
              "          google.colab.kernel.accessAllowed ? 'block' : 'none';\n",
              "\n",
              "        async function convertToInteractive(key) {\n",
              "          const element = document.querySelector('#df-170ce195-a6e0-4612-b43b-bee3679afb75');\n",
              "          const dataTable =\n",
              "            await google.colab.kernel.invokeFunction('convertToInteractive',\n",
              "                                                     [key], {});\n",
              "          if (!dataTable) return;\n",
              "\n",
              "          const docLinkHtml = 'Like what you see? Visit the ' +\n",
              "            '<a target=\"_blank\" href=https://colab.research.google.com/notebooks/data_table.ipynb>data table notebook</a>'\n",
              "            + ' to learn more about interactive tables.';\n",
              "          element.innerHTML = '';\n",
              "          dataTable['output_type'] = 'display_data';\n",
              "          await google.colab.output.renderOutput(dataTable, element);\n",
              "          const docLink = document.createElement('div');\n",
              "          docLink.innerHTML = docLinkHtml;\n",
              "          element.appendChild(docLink);\n",
              "        }\n",
              "      </script>\n",
              "    </div>\n",
              "  </div>\n",
              "  "
            ]
          },
          "metadata": {},
          "execution_count": 32
        }
      ]
    },
    {
      "cell_type": "markdown",
      "source": [
        "* Al observar la variable *PayConserve*, se evidencia que la media es un valor pequeño, lo que indica que en esta variable la mayoría de las respuestas fueron cercanas a 0, es decir que pocas personas estarian dispuestas a pagar  2 dolares cada semana durante 10 años por conservar el ecosistema.\n",
        "* *SeeWhales*, *AdultWhales*, *Max_wtp* y *PayConserve* tienen la misma cantidad de datos, correspondientes al mismo número de filas.\n"
      ],
      "metadata": {
        "id": "jtwu6s-RsV9M"
      }
    },
    {
      "cell_type": "markdown",
      "source": [
        "# Limpieza de datos"
      ],
      "metadata": {
        "id": "xBiMhL9yYVOH"
      }
    },
    {
      "cell_type": "code",
      "source": [
        "df.duplicated().sum()"
      ],
      "metadata": {
        "colab": {
          "base_uri": "https://localhost:8080/"
        },
        "id": "1UW8AHWno9lh",
        "outputId": "797531f3-a64d-4a8b-daaf-6be5ed33ca60"
      },
      "execution_count": null,
      "outputs": [
        {
          "output_type": "execute_result",
          "data": {
            "text/plain": [
              "1"
            ]
          },
          "metadata": {},
          "execution_count": 33
        }
      ]
    },
    {
      "cell_type": "code",
      "source": [
        "df.drop_duplicates()"
      ],
      "metadata": {
        "colab": {
          "base_uri": "https://localhost:8080/",
          "height": 424
        },
        "id": "gLYdB8rJsVAl",
        "outputId": "abdb69a4-4513-47a4-ff73-5881799a4ace"
      },
      "execution_count": null,
      "outputs": [
        {
          "output_type": "execute_result",
          "data": {
            "text/plain": [
              "       Country  SeeWhales   Age  Gender             Education  \\\n",
              "0    Australia          1  31.0  Female               Diploma   \n",
              "1           UK          0  22.0  Female                Degree   \n",
              "2          USA          0  46.0  Female                Degree   \n",
              "3       France          0  37.0  Female               Diploma   \n",
              "4           UK          0  66.0  Female                Degree   \n",
              "..         ...        ...   ...     ...                   ...   \n",
              "696  Australia          0  56.0  Female     Completed year 10   \n",
              "697  Australia          0  38.0  Female     Completed year 10   \n",
              "698  Australia          0  24.0  Female               Diploma   \n",
              "699  Australia          0  50.0    Male  Post-graduate degree   \n",
              "700  Australia          0  32.0    Male                Degree   \n",
              "\n",
              "            Income_AUD   Income  AdultWhales YoungWhales  Max_wtp   wtp  \\\n",
              "0    $60,001 - $70,000  65000.5            2         Yes      0.0  Less   \n",
              "1    Less than $20,000  10000.0            6          No      0.0  More   \n",
              "2    More than $70,000  85000.5            7          No      0.0  More   \n",
              "3    $20,001 - $30,000  25000.5            4         Yes      0.0  More   \n",
              "4                  NaN      NaN            6          No      0.0  More   \n",
              "..                 ...      ...          ...         ...      ...   ...   \n",
              "696  Less than $20,000  10000.0            0         Yes      1.0  Same   \n",
              "697  $30,001 - $40,000  35000.5            6         Yes      2.0  Same   \n",
              "698  $20,001 - $30,000  25000.5            6          No      2.0  Less   \n",
              "699  $30,001 - $40,000  35000.5            2         Yes      5.0  Same   \n",
              "700  More than $70,000  85000.5            8         Yes      0.0  Same   \n",
              "\n",
              "     PayConserve  \n",
              "0              1  \n",
              "1              0  \n",
              "2              0  \n",
              "3              1  \n",
              "4              0  \n",
              "..           ...  \n",
              "696            1  \n",
              "697            1  \n",
              "698            1  \n",
              "699            1  \n",
              "700            0  \n",
              "\n",
              "[700 rows x 12 columns]"
            ],
            "text/html": [
              "\n",
              "  <div id=\"df-23b62519-413a-48c3-8269-c72f6bdb1728\">\n",
              "    <div class=\"colab-df-container\">\n",
              "      <div>\n",
              "<style scoped>\n",
              "    .dataframe tbody tr th:only-of-type {\n",
              "        vertical-align: middle;\n",
              "    }\n",
              "\n",
              "    .dataframe tbody tr th {\n",
              "        vertical-align: top;\n",
              "    }\n",
              "\n",
              "    .dataframe thead th {\n",
              "        text-align: right;\n",
              "    }\n",
              "</style>\n",
              "<table border=\"1\" class=\"dataframe\">\n",
              "  <thead>\n",
              "    <tr style=\"text-align: right;\">\n",
              "      <th></th>\n",
              "      <th>Country</th>\n",
              "      <th>SeeWhales</th>\n",
              "      <th>Age</th>\n",
              "      <th>Gender</th>\n",
              "      <th>Education</th>\n",
              "      <th>Income_AUD</th>\n",
              "      <th>Income</th>\n",
              "      <th>AdultWhales</th>\n",
              "      <th>YoungWhales</th>\n",
              "      <th>Max_wtp</th>\n",
              "      <th>wtp</th>\n",
              "      <th>PayConserve</th>\n",
              "    </tr>\n",
              "  </thead>\n",
              "  <tbody>\n",
              "    <tr>\n",
              "      <th>0</th>\n",
              "      <td>Australia</td>\n",
              "      <td>1</td>\n",
              "      <td>31.0</td>\n",
              "      <td>Female</td>\n",
              "      <td>Diploma</td>\n",
              "      <td>$60,001 - $70,000</td>\n",
              "      <td>65000.5</td>\n",
              "      <td>2</td>\n",
              "      <td>Yes</td>\n",
              "      <td>0.0</td>\n",
              "      <td>Less</td>\n",
              "      <td>1</td>\n",
              "    </tr>\n",
              "    <tr>\n",
              "      <th>1</th>\n",
              "      <td>UK</td>\n",
              "      <td>0</td>\n",
              "      <td>22.0</td>\n",
              "      <td>Female</td>\n",
              "      <td>Degree</td>\n",
              "      <td>Less than $20,000</td>\n",
              "      <td>10000.0</td>\n",
              "      <td>6</td>\n",
              "      <td>No</td>\n",
              "      <td>0.0</td>\n",
              "      <td>More</td>\n",
              "      <td>0</td>\n",
              "    </tr>\n",
              "    <tr>\n",
              "      <th>2</th>\n",
              "      <td>USA</td>\n",
              "      <td>0</td>\n",
              "      <td>46.0</td>\n",
              "      <td>Female</td>\n",
              "      <td>Degree</td>\n",
              "      <td>More than $70,000</td>\n",
              "      <td>85000.5</td>\n",
              "      <td>7</td>\n",
              "      <td>No</td>\n",
              "      <td>0.0</td>\n",
              "      <td>More</td>\n",
              "      <td>0</td>\n",
              "    </tr>\n",
              "    <tr>\n",
              "      <th>3</th>\n",
              "      <td>France</td>\n",
              "      <td>0</td>\n",
              "      <td>37.0</td>\n",
              "      <td>Female</td>\n",
              "      <td>Diploma</td>\n",
              "      <td>$20,001 - $30,000</td>\n",
              "      <td>25000.5</td>\n",
              "      <td>4</td>\n",
              "      <td>Yes</td>\n",
              "      <td>0.0</td>\n",
              "      <td>More</td>\n",
              "      <td>1</td>\n",
              "    </tr>\n",
              "    <tr>\n",
              "      <th>4</th>\n",
              "      <td>UK</td>\n",
              "      <td>0</td>\n",
              "      <td>66.0</td>\n",
              "      <td>Female</td>\n",
              "      <td>Degree</td>\n",
              "      <td>NaN</td>\n",
              "      <td>NaN</td>\n",
              "      <td>6</td>\n",
              "      <td>No</td>\n",
              "      <td>0.0</td>\n",
              "      <td>More</td>\n",
              "      <td>0</td>\n",
              "    </tr>\n",
              "    <tr>\n",
              "      <th>...</th>\n",
              "      <td>...</td>\n",
              "      <td>...</td>\n",
              "      <td>...</td>\n",
              "      <td>...</td>\n",
              "      <td>...</td>\n",
              "      <td>...</td>\n",
              "      <td>...</td>\n",
              "      <td>...</td>\n",
              "      <td>...</td>\n",
              "      <td>...</td>\n",
              "      <td>...</td>\n",
              "      <td>...</td>\n",
              "    </tr>\n",
              "    <tr>\n",
              "      <th>696</th>\n",
              "      <td>Australia</td>\n",
              "      <td>0</td>\n",
              "      <td>56.0</td>\n",
              "      <td>Female</td>\n",
              "      <td>Completed year 10</td>\n",
              "      <td>Less than $20,000</td>\n",
              "      <td>10000.0</td>\n",
              "      <td>0</td>\n",
              "      <td>Yes</td>\n",
              "      <td>1.0</td>\n",
              "      <td>Same</td>\n",
              "      <td>1</td>\n",
              "    </tr>\n",
              "    <tr>\n",
              "      <th>697</th>\n",
              "      <td>Australia</td>\n",
              "      <td>0</td>\n",
              "      <td>38.0</td>\n",
              "      <td>Female</td>\n",
              "      <td>Completed year 10</td>\n",
              "      <td>$30,001 - $40,000</td>\n",
              "      <td>35000.5</td>\n",
              "      <td>6</td>\n",
              "      <td>Yes</td>\n",
              "      <td>2.0</td>\n",
              "      <td>Same</td>\n",
              "      <td>1</td>\n",
              "    </tr>\n",
              "    <tr>\n",
              "      <th>698</th>\n",
              "      <td>Australia</td>\n",
              "      <td>0</td>\n",
              "      <td>24.0</td>\n",
              "      <td>Female</td>\n",
              "      <td>Diploma</td>\n",
              "      <td>$20,001 - $30,000</td>\n",
              "      <td>25000.5</td>\n",
              "      <td>6</td>\n",
              "      <td>No</td>\n",
              "      <td>2.0</td>\n",
              "      <td>Less</td>\n",
              "      <td>1</td>\n",
              "    </tr>\n",
              "    <tr>\n",
              "      <th>699</th>\n",
              "      <td>Australia</td>\n",
              "      <td>0</td>\n",
              "      <td>50.0</td>\n",
              "      <td>Male</td>\n",
              "      <td>Post-graduate degree</td>\n",
              "      <td>$30,001 - $40,000</td>\n",
              "      <td>35000.5</td>\n",
              "      <td>2</td>\n",
              "      <td>Yes</td>\n",
              "      <td>5.0</td>\n",
              "      <td>Same</td>\n",
              "      <td>1</td>\n",
              "    </tr>\n",
              "    <tr>\n",
              "      <th>700</th>\n",
              "      <td>Australia</td>\n",
              "      <td>0</td>\n",
              "      <td>32.0</td>\n",
              "      <td>Male</td>\n",
              "      <td>Degree</td>\n",
              "      <td>More than $70,000</td>\n",
              "      <td>85000.5</td>\n",
              "      <td>8</td>\n",
              "      <td>Yes</td>\n",
              "      <td>0.0</td>\n",
              "      <td>Same</td>\n",
              "      <td>0</td>\n",
              "    </tr>\n",
              "  </tbody>\n",
              "</table>\n",
              "<p>700 rows × 12 columns</p>\n",
              "</div>\n",
              "      <button class=\"colab-df-convert\" onclick=\"convertToInteractive('df-23b62519-413a-48c3-8269-c72f6bdb1728')\"\n",
              "              title=\"Convert this dataframe to an interactive table.\"\n",
              "              style=\"display:none;\">\n",
              "        \n",
              "  <svg xmlns=\"http://www.w3.org/2000/svg\" height=\"24px\"viewBox=\"0 0 24 24\"\n",
              "       width=\"24px\">\n",
              "    <path d=\"M0 0h24v24H0V0z\" fill=\"none\"/>\n",
              "    <path d=\"M18.56 5.44l.94 2.06.94-2.06 2.06-.94-2.06-.94-.94-2.06-.94 2.06-2.06.94zm-11 1L8.5 8.5l.94-2.06 2.06-.94-2.06-.94L8.5 2.5l-.94 2.06-2.06.94zm10 10l.94 2.06.94-2.06 2.06-.94-2.06-.94-.94-2.06-.94 2.06-2.06.94z\"/><path d=\"M17.41 7.96l-1.37-1.37c-.4-.4-.92-.59-1.43-.59-.52 0-1.04.2-1.43.59L10.3 9.45l-7.72 7.72c-.78.78-.78 2.05 0 2.83L4 21.41c.39.39.9.59 1.41.59.51 0 1.02-.2 1.41-.59l7.78-7.78 2.81-2.81c.8-.78.8-2.07 0-2.86zM5.41 20L4 18.59l7.72-7.72 1.47 1.35L5.41 20z\"/>\n",
              "  </svg>\n",
              "      </button>\n",
              "      \n",
              "  <style>\n",
              "    .colab-df-container {\n",
              "      display:flex;\n",
              "      flex-wrap:wrap;\n",
              "      gap: 12px;\n",
              "    }\n",
              "\n",
              "    .colab-df-convert {\n",
              "      background-color: #E8F0FE;\n",
              "      border: none;\n",
              "      border-radius: 50%;\n",
              "      cursor: pointer;\n",
              "      display: none;\n",
              "      fill: #1967D2;\n",
              "      height: 32px;\n",
              "      padding: 0 0 0 0;\n",
              "      width: 32px;\n",
              "    }\n",
              "\n",
              "    .colab-df-convert:hover {\n",
              "      background-color: #E2EBFA;\n",
              "      box-shadow: 0px 1px 2px rgba(60, 64, 67, 0.3), 0px 1px 3px 1px rgba(60, 64, 67, 0.15);\n",
              "      fill: #174EA6;\n",
              "    }\n",
              "\n",
              "    [theme=dark] .colab-df-convert {\n",
              "      background-color: #3B4455;\n",
              "      fill: #D2E3FC;\n",
              "    }\n",
              "\n",
              "    [theme=dark] .colab-df-convert:hover {\n",
              "      background-color: #434B5C;\n",
              "      box-shadow: 0px 1px 3px 1px rgba(0, 0, 0, 0.15);\n",
              "      filter: drop-shadow(0px 1px 2px rgba(0, 0, 0, 0.3));\n",
              "      fill: #FFFFFF;\n",
              "    }\n",
              "  </style>\n",
              "\n",
              "      <script>\n",
              "        const buttonEl =\n",
              "          document.querySelector('#df-23b62519-413a-48c3-8269-c72f6bdb1728 button.colab-df-convert');\n",
              "        buttonEl.style.display =\n",
              "          google.colab.kernel.accessAllowed ? 'block' : 'none';\n",
              "\n",
              "        async function convertToInteractive(key) {\n",
              "          const element = document.querySelector('#df-23b62519-413a-48c3-8269-c72f6bdb1728');\n",
              "          const dataTable =\n",
              "            await google.colab.kernel.invokeFunction('convertToInteractive',\n",
              "                                                     [key], {});\n",
              "          if (!dataTable) return;\n",
              "\n",
              "          const docLinkHtml = 'Like what you see? Visit the ' +\n",
              "            '<a target=\"_blank\" href=https://colab.research.google.com/notebooks/data_table.ipynb>data table notebook</a>'\n",
              "            + ' to learn more about interactive tables.';\n",
              "          element.innerHTML = '';\n",
              "          dataTable['output_type'] = 'display_data';\n",
              "          await google.colab.output.renderOutput(dataTable, element);\n",
              "          const docLink = document.createElement('div');\n",
              "          docLink.innerHTML = docLinkHtml;\n",
              "          element.appendChild(docLink);\n",
              "        }\n",
              "      </script>\n",
              "    </div>\n",
              "  </div>\n",
              "  "
            ]
          },
          "metadata": {},
          "execution_count": 34
        }
      ]
    },
    {
      "cell_type": "code",
      "source": [
        "df.isna().sum()"
      ],
      "metadata": {
        "colab": {
          "base_uri": "https://localhost:8080/"
        },
        "id": "9n1sAFh8tIsY",
        "outputId": "2777c82e-7db4-400f-d83d-022f2ade2183"
      },
      "execution_count": null,
      "outputs": [
        {
          "output_type": "execute_result",
          "data": {
            "text/plain": [
              "Country         0\n",
              "SeeWhales       0\n",
              "Age            10\n",
              "Gender          0\n",
              "Education       0\n",
              "Income_AUD     27\n",
              "Income         27\n",
              "AdultWhales     0\n",
              "YoungWhales     0\n",
              "Max_wtp         0\n",
              "wtp             0\n",
              "PayConserve     0\n",
              "dtype: int64"
            ]
          },
          "metadata": {},
          "execution_count": 35
        }
      ]
    },
    {
      "cell_type": "code",
      "source": [
        "df.isna().all"
      ],
      "metadata": {
        "colab": {
          "base_uri": "https://localhost:8080/"
        },
        "id": "bkI86hVetUPN",
        "outputId": "944ad73b-e65b-4baa-8da0-ffe3cdcfc975"
      },
      "execution_count": null,
      "outputs": [
        {
          "output_type": "execute_result",
          "data": {
            "text/plain": [
              "<bound method NDFrame._add_numeric_operations.<locals>.all of      Country  SeeWhales    Age  Gender  Education  Income_AUD  Income  \\\n",
              "0      False      False  False   False      False       False   False   \n",
              "1      False      False  False   False      False       False   False   \n",
              "2      False      False  False   False      False       False   False   \n",
              "3      False      False  False   False      False       False   False   \n",
              "4      False      False  False   False      False        True    True   \n",
              "..       ...        ...    ...     ...        ...         ...     ...   \n",
              "696    False      False  False   False      False       False   False   \n",
              "697    False      False  False   False      False       False   False   \n",
              "698    False      False  False   False      False       False   False   \n",
              "699    False      False  False   False      False       False   False   \n",
              "700    False      False  False   False      False       False   False   \n",
              "\n",
              "     AdultWhales  YoungWhales  Max_wtp    wtp  PayConserve  \n",
              "0          False        False    False  False        False  \n",
              "1          False        False    False  False        False  \n",
              "2          False        False    False  False        False  \n",
              "3          False        False    False  False        False  \n",
              "4          False        False    False  False        False  \n",
              "..           ...          ...      ...    ...          ...  \n",
              "696        False        False    False  False        False  \n",
              "697        False        False    False  False        False  \n",
              "698        False        False    False  False        False  \n",
              "699        False        False    False  False        False  \n",
              "700        False        False    False  False        False  \n",
              "\n",
              "[701 rows x 12 columns]>"
            ]
          },
          "metadata": {},
          "execution_count": 36
        }
      ]
    },
    {
      "cell_type": "code",
      "source": [
        "df.dropna()"
      ],
      "metadata": {
        "colab": {
          "base_uri": "https://localhost:8080/",
          "height": 424
        },
        "id": "GkjTml13t6a3",
        "outputId": "c0f7f4db-3e39-4548-897f-ec82157afb26"
      },
      "execution_count": null,
      "outputs": [
        {
          "output_type": "execute_result",
          "data": {
            "text/plain": [
              "       Country  SeeWhales   Age  Gender             Education  \\\n",
              "0    Australia          1  31.0  Female               Diploma   \n",
              "1           UK          0  22.0  Female                Degree   \n",
              "2          USA          0  46.0  Female                Degree   \n",
              "3       France          0  37.0  Female               Diploma   \n",
              "5    Australia          0  65.0    Male  Post-graduate degree   \n",
              "..         ...        ...   ...     ...                   ...   \n",
              "696  Australia          0  56.0  Female     Completed year 10   \n",
              "697  Australia          0  38.0  Female     Completed year 10   \n",
              "698  Australia          0  24.0  Female               Diploma   \n",
              "699  Australia          0  50.0    Male  Post-graduate degree   \n",
              "700  Australia          0  32.0    Male                Degree   \n",
              "\n",
              "            Income_AUD   Income  AdultWhales YoungWhales  Max_wtp   wtp  \\\n",
              "0    $60,001 - $70,000  65000.5            2         Yes      0.0  Less   \n",
              "1    Less than $20,000  10000.0            6          No      0.0  More   \n",
              "2    More than $70,000  85000.5            7          No      0.0  More   \n",
              "3    $20,001 - $30,000  25000.5            4         Yes      0.0  More   \n",
              "5    $40,001 - $50,000  45000.5            3         Yes      1.0  Same   \n",
              "..                 ...      ...          ...         ...      ...   ...   \n",
              "696  Less than $20,000  10000.0            0         Yes      1.0  Same   \n",
              "697  $30,001 - $40,000  35000.5            6         Yes      2.0  Same   \n",
              "698  $20,001 - $30,000  25000.5            6          No      2.0  Less   \n",
              "699  $30,001 - $40,000  35000.5            2         Yes      5.0  Same   \n",
              "700  More than $70,000  85000.5            8         Yes      0.0  Same   \n",
              "\n",
              "     PayConserve  \n",
              "0              1  \n",
              "1              0  \n",
              "2              0  \n",
              "3              1  \n",
              "5              1  \n",
              "..           ...  \n",
              "696            1  \n",
              "697            1  \n",
              "698            1  \n",
              "699            1  \n",
              "700            0  \n",
              "\n",
              "[668 rows x 12 columns]"
            ],
            "text/html": [
              "\n",
              "  <div id=\"df-ce4d89cb-eaa7-49c3-bba8-3ed4ea3c65ff\">\n",
              "    <div class=\"colab-df-container\">\n",
              "      <div>\n",
              "<style scoped>\n",
              "    .dataframe tbody tr th:only-of-type {\n",
              "        vertical-align: middle;\n",
              "    }\n",
              "\n",
              "    .dataframe tbody tr th {\n",
              "        vertical-align: top;\n",
              "    }\n",
              "\n",
              "    .dataframe thead th {\n",
              "        text-align: right;\n",
              "    }\n",
              "</style>\n",
              "<table border=\"1\" class=\"dataframe\">\n",
              "  <thead>\n",
              "    <tr style=\"text-align: right;\">\n",
              "      <th></th>\n",
              "      <th>Country</th>\n",
              "      <th>SeeWhales</th>\n",
              "      <th>Age</th>\n",
              "      <th>Gender</th>\n",
              "      <th>Education</th>\n",
              "      <th>Income_AUD</th>\n",
              "      <th>Income</th>\n",
              "      <th>AdultWhales</th>\n",
              "      <th>YoungWhales</th>\n",
              "      <th>Max_wtp</th>\n",
              "      <th>wtp</th>\n",
              "      <th>PayConserve</th>\n",
              "    </tr>\n",
              "  </thead>\n",
              "  <tbody>\n",
              "    <tr>\n",
              "      <th>0</th>\n",
              "      <td>Australia</td>\n",
              "      <td>1</td>\n",
              "      <td>31.0</td>\n",
              "      <td>Female</td>\n",
              "      <td>Diploma</td>\n",
              "      <td>$60,001 - $70,000</td>\n",
              "      <td>65000.5</td>\n",
              "      <td>2</td>\n",
              "      <td>Yes</td>\n",
              "      <td>0.0</td>\n",
              "      <td>Less</td>\n",
              "      <td>1</td>\n",
              "    </tr>\n",
              "    <tr>\n",
              "      <th>1</th>\n",
              "      <td>UK</td>\n",
              "      <td>0</td>\n",
              "      <td>22.0</td>\n",
              "      <td>Female</td>\n",
              "      <td>Degree</td>\n",
              "      <td>Less than $20,000</td>\n",
              "      <td>10000.0</td>\n",
              "      <td>6</td>\n",
              "      <td>No</td>\n",
              "      <td>0.0</td>\n",
              "      <td>More</td>\n",
              "      <td>0</td>\n",
              "    </tr>\n",
              "    <tr>\n",
              "      <th>2</th>\n",
              "      <td>USA</td>\n",
              "      <td>0</td>\n",
              "      <td>46.0</td>\n",
              "      <td>Female</td>\n",
              "      <td>Degree</td>\n",
              "      <td>More than $70,000</td>\n",
              "      <td>85000.5</td>\n",
              "      <td>7</td>\n",
              "      <td>No</td>\n",
              "      <td>0.0</td>\n",
              "      <td>More</td>\n",
              "      <td>0</td>\n",
              "    </tr>\n",
              "    <tr>\n",
              "      <th>3</th>\n",
              "      <td>France</td>\n",
              "      <td>0</td>\n",
              "      <td>37.0</td>\n",
              "      <td>Female</td>\n",
              "      <td>Diploma</td>\n",
              "      <td>$20,001 - $30,000</td>\n",
              "      <td>25000.5</td>\n",
              "      <td>4</td>\n",
              "      <td>Yes</td>\n",
              "      <td>0.0</td>\n",
              "      <td>More</td>\n",
              "      <td>1</td>\n",
              "    </tr>\n",
              "    <tr>\n",
              "      <th>5</th>\n",
              "      <td>Australia</td>\n",
              "      <td>0</td>\n",
              "      <td>65.0</td>\n",
              "      <td>Male</td>\n",
              "      <td>Post-graduate degree</td>\n",
              "      <td>$40,001 - $50,000</td>\n",
              "      <td>45000.5</td>\n",
              "      <td>3</td>\n",
              "      <td>Yes</td>\n",
              "      <td>1.0</td>\n",
              "      <td>Same</td>\n",
              "      <td>1</td>\n",
              "    </tr>\n",
              "    <tr>\n",
              "      <th>...</th>\n",
              "      <td>...</td>\n",
              "      <td>...</td>\n",
              "      <td>...</td>\n",
              "      <td>...</td>\n",
              "      <td>...</td>\n",
              "      <td>...</td>\n",
              "      <td>...</td>\n",
              "      <td>...</td>\n",
              "      <td>...</td>\n",
              "      <td>...</td>\n",
              "      <td>...</td>\n",
              "      <td>...</td>\n",
              "    </tr>\n",
              "    <tr>\n",
              "      <th>696</th>\n",
              "      <td>Australia</td>\n",
              "      <td>0</td>\n",
              "      <td>56.0</td>\n",
              "      <td>Female</td>\n",
              "      <td>Completed year 10</td>\n",
              "      <td>Less than $20,000</td>\n",
              "      <td>10000.0</td>\n",
              "      <td>0</td>\n",
              "      <td>Yes</td>\n",
              "      <td>1.0</td>\n",
              "      <td>Same</td>\n",
              "      <td>1</td>\n",
              "    </tr>\n",
              "    <tr>\n",
              "      <th>697</th>\n",
              "      <td>Australia</td>\n",
              "      <td>0</td>\n",
              "      <td>38.0</td>\n",
              "      <td>Female</td>\n",
              "      <td>Completed year 10</td>\n",
              "      <td>$30,001 - $40,000</td>\n",
              "      <td>35000.5</td>\n",
              "      <td>6</td>\n",
              "      <td>Yes</td>\n",
              "      <td>2.0</td>\n",
              "      <td>Same</td>\n",
              "      <td>1</td>\n",
              "    </tr>\n",
              "    <tr>\n",
              "      <th>698</th>\n",
              "      <td>Australia</td>\n",
              "      <td>0</td>\n",
              "      <td>24.0</td>\n",
              "      <td>Female</td>\n",
              "      <td>Diploma</td>\n",
              "      <td>$20,001 - $30,000</td>\n",
              "      <td>25000.5</td>\n",
              "      <td>6</td>\n",
              "      <td>No</td>\n",
              "      <td>2.0</td>\n",
              "      <td>Less</td>\n",
              "      <td>1</td>\n",
              "    </tr>\n",
              "    <tr>\n",
              "      <th>699</th>\n",
              "      <td>Australia</td>\n",
              "      <td>0</td>\n",
              "      <td>50.0</td>\n",
              "      <td>Male</td>\n",
              "      <td>Post-graduate degree</td>\n",
              "      <td>$30,001 - $40,000</td>\n",
              "      <td>35000.5</td>\n",
              "      <td>2</td>\n",
              "      <td>Yes</td>\n",
              "      <td>5.0</td>\n",
              "      <td>Same</td>\n",
              "      <td>1</td>\n",
              "    </tr>\n",
              "    <tr>\n",
              "      <th>700</th>\n",
              "      <td>Australia</td>\n",
              "      <td>0</td>\n",
              "      <td>32.0</td>\n",
              "      <td>Male</td>\n",
              "      <td>Degree</td>\n",
              "      <td>More than $70,000</td>\n",
              "      <td>85000.5</td>\n",
              "      <td>8</td>\n",
              "      <td>Yes</td>\n",
              "      <td>0.0</td>\n",
              "      <td>Same</td>\n",
              "      <td>0</td>\n",
              "    </tr>\n",
              "  </tbody>\n",
              "</table>\n",
              "<p>668 rows × 12 columns</p>\n",
              "</div>\n",
              "      <button class=\"colab-df-convert\" onclick=\"convertToInteractive('df-ce4d89cb-eaa7-49c3-bba8-3ed4ea3c65ff')\"\n",
              "              title=\"Convert this dataframe to an interactive table.\"\n",
              "              style=\"display:none;\">\n",
              "        \n",
              "  <svg xmlns=\"http://www.w3.org/2000/svg\" height=\"24px\"viewBox=\"0 0 24 24\"\n",
              "       width=\"24px\">\n",
              "    <path d=\"M0 0h24v24H0V0z\" fill=\"none\"/>\n",
              "    <path d=\"M18.56 5.44l.94 2.06.94-2.06 2.06-.94-2.06-.94-.94-2.06-.94 2.06-2.06.94zm-11 1L8.5 8.5l.94-2.06 2.06-.94-2.06-.94L8.5 2.5l-.94 2.06-2.06.94zm10 10l.94 2.06.94-2.06 2.06-.94-2.06-.94-.94-2.06-.94 2.06-2.06.94z\"/><path d=\"M17.41 7.96l-1.37-1.37c-.4-.4-.92-.59-1.43-.59-.52 0-1.04.2-1.43.59L10.3 9.45l-7.72 7.72c-.78.78-.78 2.05 0 2.83L4 21.41c.39.39.9.59 1.41.59.51 0 1.02-.2 1.41-.59l7.78-7.78 2.81-2.81c.8-.78.8-2.07 0-2.86zM5.41 20L4 18.59l7.72-7.72 1.47 1.35L5.41 20z\"/>\n",
              "  </svg>\n",
              "      </button>\n",
              "      \n",
              "  <style>\n",
              "    .colab-df-container {\n",
              "      display:flex;\n",
              "      flex-wrap:wrap;\n",
              "      gap: 12px;\n",
              "    }\n",
              "\n",
              "    .colab-df-convert {\n",
              "      background-color: #E8F0FE;\n",
              "      border: none;\n",
              "      border-radius: 50%;\n",
              "      cursor: pointer;\n",
              "      display: none;\n",
              "      fill: #1967D2;\n",
              "      height: 32px;\n",
              "      padding: 0 0 0 0;\n",
              "      width: 32px;\n",
              "    }\n",
              "\n",
              "    .colab-df-convert:hover {\n",
              "      background-color: #E2EBFA;\n",
              "      box-shadow: 0px 1px 2px rgba(60, 64, 67, 0.3), 0px 1px 3px 1px rgba(60, 64, 67, 0.15);\n",
              "      fill: #174EA6;\n",
              "    }\n",
              "\n",
              "    [theme=dark] .colab-df-convert {\n",
              "      background-color: #3B4455;\n",
              "      fill: #D2E3FC;\n",
              "    }\n",
              "\n",
              "    [theme=dark] .colab-df-convert:hover {\n",
              "      background-color: #434B5C;\n",
              "      box-shadow: 0px 1px 3px 1px rgba(0, 0, 0, 0.15);\n",
              "      filter: drop-shadow(0px 1px 2px rgba(0, 0, 0, 0.3));\n",
              "      fill: #FFFFFF;\n",
              "    }\n",
              "  </style>\n",
              "\n",
              "      <script>\n",
              "        const buttonEl =\n",
              "          document.querySelector('#df-ce4d89cb-eaa7-49c3-bba8-3ed4ea3c65ff button.colab-df-convert');\n",
              "        buttonEl.style.display =\n",
              "          google.colab.kernel.accessAllowed ? 'block' : 'none';\n",
              "\n",
              "        async function convertToInteractive(key) {\n",
              "          const element = document.querySelector('#df-ce4d89cb-eaa7-49c3-bba8-3ed4ea3c65ff');\n",
              "          const dataTable =\n",
              "            await google.colab.kernel.invokeFunction('convertToInteractive',\n",
              "                                                     [key], {});\n",
              "          if (!dataTable) return;\n",
              "\n",
              "          const docLinkHtml = 'Like what you see? Visit the ' +\n",
              "            '<a target=\"_blank\" href=https://colab.research.google.com/notebooks/data_table.ipynb>data table notebook</a>'\n",
              "            + ' to learn more about interactive tables.';\n",
              "          element.innerHTML = '';\n",
              "          dataTable['output_type'] = 'display_data';\n",
              "          await google.colab.output.renderOutput(dataTable, element);\n",
              "          const docLink = document.createElement('div');\n",
              "          docLink.innerHTML = docLinkHtml;\n",
              "          element.appendChild(docLink);\n",
              "        }\n",
              "      </script>\n",
              "    </div>\n",
              "  </div>\n",
              "  "
            ]
          },
          "metadata": {},
          "execution_count": 37
        }
      ]
    },
    {
      "cell_type": "code",
      "source": [
        "g=df.dropna()"
      ],
      "metadata": {
        "id": "DFtAU5NYt-BP"
      },
      "execution_count": null,
      "outputs": []
    },
    {
      "cell_type": "markdown",
      "source": [
        "# Visualización de datos"
      ],
      "metadata": {
        "id": "mFA5KW6j6WzJ"
      }
    },
    {
      "cell_type": "markdown",
      "source": [
        "### Visualización univariada"
      ],
      "metadata": {
        "id": "aSkpj5ZT6avx"
      }
    },
    {
      "cell_type": "code",
      "source": [
        "sns.histplot(g['Age'])"
      ],
      "metadata": {
        "colab": {
          "base_uri": "https://localhost:8080/",
          "height": 296
        },
        "id": "Aw5HXNpWuM6J",
        "outputId": "0dd37896-e6f0-4fa0-f8f2-017cff9c3cf3"
      },
      "execution_count": null,
      "outputs": [
        {
          "output_type": "execute_result",
          "data": {
            "text/plain": [
              "<matplotlib.axes._subplots.AxesSubplot at 0x7f451f4c3110>"
            ]
          },
          "metadata": {},
          "execution_count": 39
        },
        {
          "output_type": "display_data",
          "data": {
            "text/plain": [
              "<Figure size 432x288 with 1 Axes>"
            ],
            "image/png": "[encoded data removed]"
          },
          "metadata": {
            "needs_background": "light"
          }
        }
      ]
    },
    {
      "cell_type": "markdown",
      "source": [
        "Las edades varian entre 13 y 82, se muestra una asimetria positiva, la moda se encuentra entre la edad de 25-30 años."
      ],
      "metadata": {
        "id": "oN8dhX0Bu9sH"
      }
    },
    {
      "cell_type": "code",
      "source": [
        "sns.histplot(g['Income'])"
      ],
      "metadata": {
        "colab": {
          "base_uri": "https://localhost:8080/",
          "height": 296
        },
        "id": "fIe94kSmu3b-",
        "outputId": "391b2b8c-476c-430f-8aa8-9f911b6ff265"
      },
      "execution_count": null,
      "outputs": [
        {
          "output_type": "execute_result",
          "data": {
            "text/plain": [
              "<matplotlib.axes._subplots.AxesSubplot at 0x7f451f3dfed0>"
            ]
          },
          "metadata": {},
          "execution_count": 40
        },
        {
          "output_type": "display_data",
          "data": {
            "text/plain": [
              "<Figure size 432x288 with 1 Axes>"
            ],
            "image/png": "[encoded data removed]"
          },
          "metadata": {
            "needs_background": "light"
          }
        }
      ]
    },
    {
      "cell_type": "markdown",
      "source": [
        "Los ingresos en dolares australianos van desde 10000 hasta 80000, la moda se encuentra en 10000 y 80000 dolares australianos\n"
      ],
      "metadata": {
        "id": "hlaC6eHiw4vm"
      }
    },
    {
      "cell_type": "code",
      "source": [
        "sns.histplot(g['AdultWhales'])"
      ],
      "metadata": {
        "colab": {
          "base_uri": "https://localhost:8080/",
          "height": 297
        },
        "id": "7bQTAOyEwhFR",
        "outputId": "4823df62-73c5-4756-e6f2-f5c315152da7"
      },
      "execution_count": null,
      "outputs": [
        {
          "output_type": "execute_result",
          "data": {
            "text/plain": [
              "<matplotlib.axes._subplots.AxesSubplot at 0x7f451f431690>"
            ]
          },
          "metadata": {},
          "execution_count": 41
        },
        {
          "output_type": "display_data",
          "data": {
            "text/plain": [
              "<Figure size 432x288 with 1 Axes>"
            ],
            "image/png": "[encoded data removed]"
          },
          "metadata": {
            "needs_background": "light"
          }
        }
      ]
    },
    {
      "cell_type": "markdown",
      "source": [
        "El número de ballenas adultas se encuentran desde 0 hasta 30, evidenciando una  mayor frecuencia entre 5 y 10 ballenas adultas, vistas cerca de 120 veces."
      ],
      "metadata": {
        "id": "DjGu-oPGxT0v"
      }
    },
    {
      "cell_type": "code",
      "source": [
        "sns.histplot(g['Max_wtp'], bins=5)"
      ],
      "metadata": {
        "colab": {
          "base_uri": "https://localhost:8080/",
          "height": 297
        },
        "id": "bgZezBGGwqN_",
        "outputId": "4ba7a417-300b-4fb6-c972-1a00150da4a6"
      },
      "execution_count": null,
      "outputs": [
        {
          "output_type": "execute_result",
          "data": {
            "text/plain": [
              "<matplotlib.axes._subplots.AxesSubplot at 0x7f451f2bff10>"
            ]
          },
          "metadata": {},
          "execution_count": 42
        },
        {
          "output_type": "display_data",
          "data": {
            "text/plain": [
              "<Figure size 432x288 with 1 Axes>"
            ],
            "image/png": "[encoded data removed]"
          },
          "metadata": {
            "needs_background": "light"
          }
        }
      ]
    },
    {
      "cell_type": "markdown",
      "source": [
        "La mayoria de personas su máxima disposición a pagar es baja.\n",
        "\n"
      ],
      "metadata": {
        "id": "P6RRPwPByeT5"
      }
    },
    {
      "cell_type": "markdown",
      "source": [
        "***Categóricas***"
      ],
      "metadata": {
        "id": "AlrXqzhhyvWQ"
      }
    },
    {
      "cell_type": "code",
      "source": [
        "Country = g['Country'].value_counts()\n",
        "Country"
      ],
      "metadata": {
        "colab": {
          "base_uri": "https://localhost:8080/"
        },
        "id": "c0c2egbgyHaX",
        "outputId": "5a7b2d1b-3cfc-4ba5-f0a8-40c569350bd5"
      },
      "execution_count": null,
      "outputs": [
        {
          "output_type": "execute_result",
          "data": {
            "text/plain": [
              "Australia          479\n",
              "UK                  69\n",
              "Germany             24\n",
              "New Zealand         18\n",
              "The Netherlands     15\n",
              "USA                 13\n",
              "Ireland             13\n",
              "Sweden               6\n",
              "France               5\n",
              "Italy                5\n",
              "Switzerland          5\n",
              "Denmark              3\n",
              "Spain                2\n",
              "Canada               2\n",
              "Singapore            2\n",
              "Israel               1\n",
              "Kenya                1\n",
              "Czech Republic       1\n",
              "China                1\n",
              "Norway               1\n",
              "Belgium              1\n",
              "South Africa         1\n",
              "Name: Country, dtype: int64"
            ]
          },
          "metadata": {},
          "execution_count": 43
        }
      ]
    },
    {
      "cell_type": "code",
      "source": [
        "Country.index"
      ],
      "metadata": {
        "colab": {
          "base_uri": "https://localhost:8080/"
        },
        "id": "qPcD-Qd7zL6p",
        "outputId": "a460e161-3f29-4485-ee6e-7a6892d7f5c8"
      },
      "execution_count": null,
      "outputs": [
        {
          "output_type": "execute_result",
          "data": {
            "text/plain": [
              "Index(['Australia', 'UK', 'Germany', 'New Zealand', 'The Netherlands', 'USA',\n",
              "       'Ireland', 'Sweden', 'France', 'Italy', 'Switzerland', 'Denmark',\n",
              "       'Spain', 'Canada', 'Singapore', 'Israel', 'Kenya', 'Czech Republic',\n",
              "       'China', 'Norway', 'Belgium', 'South Africa'],\n",
              "      dtype='object')"
            ]
          },
          "metadata": {},
          "execution_count": 44
        }
      ]
    },
    {
      "cell_type": "code",
      "source": [
        "Country.values"
      ],
      "metadata": {
        "colab": {
          "base_uri": "https://localhost:8080/"
        },
        "id": "Bp9lYQd9zSpI",
        "outputId": "b9ee9c60-1ae5-4cfc-f16c-4523816af711"
      },
      "execution_count": null,
      "outputs": [
        {
          "output_type": "execute_result",
          "data": {
            "text/plain": [
              "array([479,  69,  24,  18,  15,  13,  13,   6,   5,   5,   5,   3,   2,\n",
              "         2,   2,   1,   1,   1,   1,   1,   1,   1])"
            ]
          },
          "metadata": {},
          "execution_count": 45
        }
      ]
    },
    {
      "cell_type": "code",
      "source": [
        "sns.barplot(x=Country.values, y=Country.index)"
      ],
      "metadata": {
        "colab": {
          "base_uri": "https://localhost:8080/",
          "height": 282
        },
        "id": "4RUlN8iZzXeg",
        "outputId": "c994b664-e62e-4431-99ac-25c12e06c3c6"
      },
      "execution_count": null,
      "outputs": [
        {
          "output_type": "execute_result",
          "data": {
            "text/plain": [
              "<matplotlib.axes._subplots.AxesSubplot at 0x7f451f35fd10>"
            ]
          },
          "metadata": {},
          "execution_count": 46
        },
        {
          "output_type": "display_data",
          "data": {
            "text/plain": [
              "<Figure size 432x288 with 1 Axes>"
            ],
            "image/png": "[encoded data removed]"
          },
          "metadata": {
            "needs_background": "light"
          }
        }
      ]
    },
    {
      "cell_type": "markdown",
      "source": [
        "De acuerdo con la gráfica, la mayoria de los datos corresponden a australianos con más de 450 personas, le sigue de UK y alemanes."
      ],
      "metadata": {
        "id": "QHsO7YiTztyR"
      }
    },
    {
      "cell_type": "code",
      "source": [
        "Gender = g['Gender'].value_counts()\n",
        "Gender"
      ],
      "metadata": {
        "colab": {
          "base_uri": "https://localhost:8080/"
        },
        "id": "bEk6Yzjjzeo4",
        "outputId": "dc79f220-c9a4-476b-e2f4-daeb41b69ec8"
      },
      "execution_count": null,
      "outputs": [
        {
          "output_type": "execute_result",
          "data": {
            "text/plain": [
              "Female    416\n",
              "Male      252\n",
              "Name: Gender, dtype: int64"
            ]
          },
          "metadata": {},
          "execution_count": 47
        }
      ]
    },
    {
      "cell_type": "code",
      "source": [
        "Gender.index"
      ],
      "metadata": {
        "colab": {
          "base_uri": "https://localhost:8080/"
        },
        "id": "ymD1bhNU0UVp",
        "outputId": "42d599a9-ea33-453d-c795-fab712309e45"
      },
      "execution_count": null,
      "outputs": [
        {
          "output_type": "execute_result",
          "data": {
            "text/plain": [
              "Index(['Female', 'Male'], dtype='object')"
            ]
          },
          "metadata": {},
          "execution_count": 48
        }
      ]
    },
    {
      "cell_type": "code",
      "source": [
        "Gender.values"
      ],
      "metadata": {
        "colab": {
          "base_uri": "https://localhost:8080/"
        },
        "id": "zcGpZWB-0dUI",
        "outputId": "27adb0a3-7dfc-4be4-884d-2e343d26e1b1"
      },
      "execution_count": null,
      "outputs": [
        {
          "output_type": "execute_result",
          "data": {
            "text/plain": [
              "array([416, 252])"
            ]
          },
          "metadata": {},
          "execution_count": 49
        }
      ]
    },
    {
      "cell_type": "code",
      "source": [
        "sns.barplot(x=Gender.index, y=Gender.values)"
      ],
      "metadata": {
        "colab": {
          "base_uri": "https://localhost:8080/",
          "height": 282
        },
        "id": "g5RLrU4R0gWR",
        "outputId": "55539c13-3c2e-4cac-e8b0-e6c3d63bb344"
      },
      "execution_count": null,
      "outputs": [
        {
          "output_type": "execute_result",
          "data": {
            "text/plain": [
              "<matplotlib.axes._subplots.AxesSubplot at 0x7f451f14c810>"
            ]
          },
          "metadata": {},
          "execution_count": 50
        },
        {
          "output_type": "display_data",
          "data": {
            "text/plain": [
              "<Figure size 432x288 with 1 Axes>"
            ],
            "image/png": "[encoded data removed]"
          },
          "metadata": {
            "needs_background": "light"
          }
        }
      ]
    },
    {
      "cell_type": "code",
      "source": [
        "plt.pie(Gender.values, labels=Gender.index, autopct=\"%0.1f %%\")\n",
        "plt.show()"
      ],
      "metadata": {
        "colab": {
          "base_uri": "https://localhost:8080/",
          "height": 248
        },
        "id": "0VGdB_hgDjIi",
        "outputId": "338ecce5-6d3c-4380-ed94-e4cf14d988be"
      },
      "execution_count": null,
      "outputs": [
        {
          "output_type": "display_data",
          "data": {
            "text/plain": [
              "<Figure size 432x288 with 1 Axes>"
            ],
            "image/png": "[encoded data removed]"
          },
          "metadata": {}
        }
      ]
    },
    {
      "cell_type": "markdown",
      "source": [
        "De acuerdo con los datos la mayoría son mujeres, es decir el 62.3% y los hombres son un 37.7%"
      ],
      "metadata": {
        "id": "s2mm_Vbe0sEX"
      }
    },
    {
      "cell_type": "code",
      "source": [
        "Education = g['Education'].value_counts()\n",
        "Education"
      ],
      "metadata": {
        "colab": {
          "base_uri": "https://localhost:8080/"
        },
        "id": "VPGu6UOR0o8-",
        "outputId": "3adf305e-664d-4f2e-85d5-066aec5cb211"
      },
      "execution_count": null,
      "outputs": [
        {
          "output_type": "execute_result",
          "data": {
            "text/plain": [
              "Degree                      164\n",
              "Completed year 12            99\n",
              "Completed year 10            95\n",
              "Diploma                      85\n",
              "Post-graduate degree         83\n",
              "Trade certificate            73\n",
              "Some secondary schooling     52\n",
              "Primary only                 16\n",
              "Other - Specify               1\n",
              "Name: Education, dtype: int64"
            ]
          },
          "metadata": {},
          "execution_count": 52
        }
      ]
    },
    {
      "cell_type": "code",
      "source": [
        "Education.index"
      ],
      "metadata": {
        "colab": {
          "base_uri": "https://localhost:8080/"
        },
        "id": "T0l8mDDd1FN1",
        "outputId": "1420ddf8-368d-4a48-fdf4-f6a4aaff4d86"
      },
      "execution_count": null,
      "outputs": [
        {
          "output_type": "execute_result",
          "data": {
            "text/plain": [
              "Index(['Degree', 'Completed year 12', 'Completed year 10', 'Diploma',\n",
              "       'Post-graduate degree', 'Trade certificate', 'Some secondary schooling',\n",
              "       'Primary only', 'Other - Specify'],\n",
              "      dtype='object')"
            ]
          },
          "metadata": {},
          "execution_count": 53
        }
      ]
    },
    {
      "cell_type": "code",
      "source": [
        "Education.values"
      ],
      "metadata": {
        "colab": {
          "base_uri": "https://localhost:8080/"
        },
        "id": "yvByk5jN1LWk",
        "outputId": "b7fbf615-98a7-43a9-c0da-ba28f5557703"
      },
      "execution_count": null,
      "outputs": [
        {
          "output_type": "execute_result",
          "data": {
            "text/plain": [
              "array([164,  99,  95,  85,  83,  73,  52,  16,   1])"
            ]
          },
          "metadata": {},
          "execution_count": 54
        }
      ]
    },
    {
      "cell_type": "code",
      "source": [
        "sns.barplot(x=Education.values, y=Education.index)"
      ],
      "metadata": {
        "colab": {
          "base_uri": "https://localhost:8080/",
          "height": 282
        },
        "id": "k-l2MvkH1Np7",
        "outputId": "0f770796-8dbc-49b4-f96f-51b11ae5e6b6"
      },
      "execution_count": null,
      "outputs": [
        {
          "output_type": "execute_result",
          "data": {
            "text/plain": [
              "<matplotlib.axes._subplots.AxesSubplot at 0x7f451f50de10>"
            ]
          },
          "metadata": {},
          "execution_count": 55
        },
        {
          "output_type": "display_data",
          "data": {
            "text/plain": [
              "<Figure size 432x288 with 1 Axes>"
            ],
            "image/png": "[encoded data removed]"
          },
          "metadata": {
            "needs_background": "light"
          }
        }
      ]
    },
    {
      "cell_type": "code",
      "source": [
        "plt.pie(Education.values, labels=Education.index, autopct=\"%0.1f %%\")\n",
        "plt.show()"
      ],
      "metadata": {
        "colab": {
          "base_uri": "https://localhost:8080/",
          "height": 248
        },
        "id": "Z3XybFd2Dpag",
        "outputId": "fc820760-30c7-42ee-e503-f807b7c510a2"
      },
      "execution_count": null,
      "outputs": [
        {
          "output_type": "display_data",
          "data": {
            "text/plain": [
              "<Figure size 432x288 with 1 Axes>"
            ],
            "image/png": "[encoded data removed]"
          },
          "metadata": {}
        }
      ]
    },
    {
      "cell_type": "markdown",
      "source": [
        "La mayoria de la población tiene una carrera universitaria (correspondiente a un 24.6%), y la minoría de población tiene otro tipo de educación que no están especificados (correspondiente a un 0.1%)."
      ],
      "metadata": {
        "id": "FVAedtYx1dn6"
      }
    },
    {
      "cell_type": "code",
      "source": [
        "Income_AUD = g['Income_AUD'].value_counts()\n",
        "Income_AUD"
      ],
      "metadata": {
        "colab": {
          "base_uri": "https://localhost:8080/"
        },
        "id": "vGy84WPJ1WS6",
        "outputId": "7e7cf803-6a90-4368-c85b-c533c14e1938"
      },
      "execution_count": null,
      "outputs": [
        {
          "output_type": "execute_result",
          "data": {
            "text/plain": [
              "More than $70,000    138\n",
              "Less than $20,000    135\n",
              "$30,001 - $40,000    116\n",
              "$20,001 - $30,000     87\n",
              "$50,001 - $60,000     79\n",
              "$40,001 - $50,000     62\n",
              "$60,001 - $70,000     51\n",
              "Name: Income_AUD, dtype: int64"
            ]
          },
          "metadata": {},
          "execution_count": 57
        }
      ]
    },
    {
      "cell_type": "code",
      "source": [
        "Income_AUD. index"
      ],
      "metadata": {
        "colab": {
          "base_uri": "https://localhost:8080/"
        },
        "id": "kgrekv1i2x5k",
        "outputId": "b04ded52-38b9-4a74-b48b-f7efd033fbb1"
      },
      "execution_count": null,
      "outputs": [
        {
          "output_type": "execute_result",
          "data": {
            "text/plain": [
              "Index(['More than $70,000', 'Less than $20,000', '$30,001 - $40,000',\n",
              "       '$20,001 - $30,000', '$50,001 - $60,000', '$40,001 - $50,000',\n",
              "       '$60,001 - $70,000'],\n",
              "      dtype='object')"
            ]
          },
          "metadata": {},
          "execution_count": 58
        }
      ]
    },
    {
      "cell_type": "code",
      "source": [
        "Income_AUD. values"
      ],
      "metadata": {
        "colab": {
          "base_uri": "https://localhost:8080/"
        },
        "id": "j0sJ9DuF24sF",
        "outputId": "48337175-c4ad-4ec7-9763-baa687b08a5d"
      },
      "execution_count": null,
      "outputs": [
        {
          "output_type": "execute_result",
          "data": {
            "text/plain": [
              "array([138, 135, 116,  87,  79,  62,  51])"
            ]
          },
          "metadata": {},
          "execution_count": 59
        }
      ]
    },
    {
      "cell_type": "code",
      "source": [
        "sns.barplot(x=Income_AUD.values, y=Income_AUD.index)"
      ],
      "metadata": {
        "colab": {
          "base_uri": "https://localhost:8080/",
          "height": 282
        },
        "id": "e_CcXtY727zs",
        "outputId": "9dc9df66-0e11-4b19-c1ca-f8d2c5c40d65"
      },
      "execution_count": null,
      "outputs": [
        {
          "output_type": "execute_result",
          "data": {
            "text/plain": [
              "<matplotlib.axes._subplots.AxesSubplot at 0x7f45441d7bd0>"
            ]
          },
          "metadata": {},
          "execution_count": 61
        },
        {
          "output_type": "display_data",
          "data": {
            "text/plain": [
              "<Figure size 432x288 with 1 Axes>"
            ],
            "image/png": "[encoded data removed]"
          },
          "metadata": {
            "needs_background": "light"
          }
        }
      ]
    },
    {
      "cell_type": "code",
      "source": [
        "plt.pie(Income_AUD.values, labels=Income_AUD.index, autopct=\"%0.1f %%\")\n",
        "plt.show()"
      ],
      "metadata": {
        "colab": {
          "base_uri": "https://localhost:8080/",
          "height": 248
        },
        "id": "nt35Lde2ECTT",
        "outputId": "946a5d0c-d703-4198-f541-249b5efcaa61"
      },
      "execution_count": null,
      "outputs": [
        {
          "output_type": "display_data",
          "data": {
            "text/plain": [
              "<Figure size 432x288 with 1 Axes>"
            ],
            "image/png": "[encoded data removed]"
          },
          "metadata": {}
        }
      ]
    },
    {
      "cell_type": "markdown",
      "source": [
        "La mayoria de la población tiene un ingreso de más de 70 000, correspondiente al 20.7%"
      ],
      "metadata": {
        "id": "E8Ssth6Z3HQ8"
      }
    },
    {
      "cell_type": "code",
      "source": [
        "YoungWhales = g['YoungWhales'].value_counts()\n",
        "YoungWhales "
      ],
      "metadata": {
        "colab": {
          "base_uri": "https://localhost:8080/"
        },
        "id": "3YsS-AuO3Eis",
        "outputId": "aaf546e0-a791-4c28-f232-dcd120404752"
      },
      "execution_count": null,
      "outputs": [
        {
          "output_type": "execute_result",
          "data": {
            "text/plain": [
              "Yes    495\n",
              "No     173\n",
              "Name: YoungWhales, dtype: int64"
            ]
          },
          "metadata": {},
          "execution_count": 62
        }
      ]
    },
    {
      "cell_type": "code",
      "source": [
        "YoungWhales.index"
      ],
      "metadata": {
        "colab": {
          "base_uri": "https://localhost:8080/"
        },
        "id": "C3gY287V3laE",
        "outputId": "803bcec1-bb87-40a5-8201-6d9cbaf514a9"
      },
      "execution_count": null,
      "outputs": [
        {
          "output_type": "execute_result",
          "data": {
            "text/plain": [
              "Index(['Yes', 'No'], dtype='object')"
            ]
          },
          "metadata": {},
          "execution_count": 63
        }
      ]
    },
    {
      "cell_type": "code",
      "source": [
        "YoungWhales.values"
      ],
      "metadata": {
        "colab": {
          "base_uri": "https://localhost:8080/"
        },
        "id": "O_zNeWC03qWj",
        "outputId": "a62e7afa-864c-489f-96b7-9f5dec779945"
      },
      "execution_count": null,
      "outputs": [
        {
          "output_type": "execute_result",
          "data": {
            "text/plain": [
              "array([495, 173])"
            ]
          },
          "metadata": {},
          "execution_count": 64
        }
      ]
    },
    {
      "cell_type": "code",
      "source": [
        "sns.barplot(x=YoungWhales.index, y=YoungWhales.values)"
      ],
      "metadata": {
        "colab": {
          "base_uri": "https://localhost:8080/",
          "height": 282
        },
        "id": "nsZlxHE23sZr",
        "outputId": "1b1855c1-8dea-4474-a4bc-715a0ac9204a"
      },
      "execution_count": null,
      "outputs": [
        {
          "output_type": "execute_result",
          "data": {
            "text/plain": [
              "<matplotlib.axes._subplots.AxesSubplot at 0x7f451ed46b50>"
            ]
          },
          "metadata": {},
          "execution_count": 65
        },
        {
          "output_type": "display_data",
          "data": {
            "text/plain": [
              "<Figure size 432x288 with 1 Axes>"
            ],
            "image/png": "[encoded data removed]"
          },
          "metadata": {
            "needs_background": "light"
          }
        }
      ]
    },
    {
      "cell_type": "markdown",
      "source": [
        "La mayoria de personas, si vieron las ballenas jóvenes "
      ],
      "metadata": {
        "id": "bDX4o96g366r"
      }
    },
    {
      "cell_type": "code",
      "source": [
        "wtp = g['wtp'].value_counts()\n",
        "wtp"
      ],
      "metadata": {
        "colab": {
          "base_uri": "https://localhost:8080/"
        },
        "id": "C1xWcorw32c7",
        "outputId": "ed0af394-9b47-4805-d4d8-8820e56ba57e"
      },
      "execution_count": null,
      "outputs": [
        {
          "output_type": "execute_result",
          "data": {
            "text/plain": [
              "Less    268\n",
              "More    257\n",
              "Same    143\n",
              "Name: wtp, dtype: int64"
            ]
          },
          "metadata": {},
          "execution_count": 66
        }
      ]
    },
    {
      "cell_type": "code",
      "source": [
        "wtp.index"
      ],
      "metadata": {
        "colab": {
          "base_uri": "https://localhost:8080/"
        },
        "id": "8kA-mEmC4NWi",
        "outputId": "138770ad-2b35-4fd5-ebb2-3cb039830184"
      },
      "execution_count": null,
      "outputs": [
        {
          "output_type": "execute_result",
          "data": {
            "text/plain": [
              "Index(['Less', 'More', 'Same'], dtype='object')"
            ]
          },
          "metadata": {},
          "execution_count": 67
        }
      ]
    },
    {
      "cell_type": "code",
      "source": [
        "wtp.values"
      ],
      "metadata": {
        "colab": {
          "base_uri": "https://localhost:8080/"
        },
        "id": "lGjOA1A04QJb",
        "outputId": "21e1f702-06ef-4b24-8d6d-f4f7b5315285"
      },
      "execution_count": null,
      "outputs": [
        {
          "output_type": "execute_result",
          "data": {
            "text/plain": [
              "array([268, 257, 143])"
            ]
          },
          "metadata": {},
          "execution_count": 68
        }
      ]
    },
    {
      "cell_type": "code",
      "source": [
        "sns.barplot(x=wtp.index, y=wtp.values)"
      ],
      "metadata": {
        "colab": {
          "base_uri": "https://localhost:8080/",
          "height": 282
        },
        "id": "IGvMvdOD4SKy",
        "outputId": "baa6af1d-1862-4f46-da64-eec34f6da0cc"
      },
      "execution_count": null,
      "outputs": [
        {
          "output_type": "execute_result",
          "data": {
            "text/plain": [
              "<matplotlib.axes._subplots.AxesSubplot at 0x7f451ecc4ad0>"
            ]
          },
          "metadata": {},
          "execution_count": 69
        },
        {
          "output_type": "display_data",
          "data": {
            "text/plain": [
              "<Figure size 432x288 with 1 Axes>"
            ],
            "image/png": "[encoded data removed]"
          },
          "metadata": {
            "needs_background": "light"
          }
        }
      ]
    },
    {
      "cell_type": "markdown",
      "source": [
        "La mayoria de las personas no estan dispuestas a pagar por la conservación de las ballenas."
      ],
      "metadata": {
        "id": "AG7Oe43x4fGa"
      }
    },
    {
      "cell_type": "code",
      "source": [
        "PayConserve = g['PayConserve'].value_counts()\n",
        "PayConserve "
      ],
      "metadata": {
        "colab": {
          "base_uri": "https://localhost:8080/"
        },
        "id": "LvW18Tcu4Zqa",
        "outputId": "f07d6c39-e0ab-40e5-d34c-8a269de62b18"
      },
      "execution_count": null,
      "outputs": [
        {
          "output_type": "execute_result",
          "data": {
            "text/plain": [
              "1    447\n",
              "0    221\n",
              "Name: PayConserve, dtype: int64"
            ]
          },
          "metadata": {},
          "execution_count": 70
        }
      ]
    },
    {
      "cell_type": "code",
      "source": [
        "PayConserve.index"
      ],
      "metadata": {
        "colab": {
          "base_uri": "https://localhost:8080/"
        },
        "id": "i1_FZryN5al9",
        "outputId": "8e026e69-fd14-4496-a18d-24c45e7b294e"
      },
      "execution_count": null,
      "outputs": [
        {
          "output_type": "execute_result",
          "data": {
            "text/plain": [
              "Int64Index([1, 0], dtype='int64')"
            ]
          },
          "metadata": {},
          "execution_count": 71
        }
      ]
    },
    {
      "cell_type": "code",
      "source": [
        "PayConserve.values"
      ],
      "metadata": {
        "colab": {
          "base_uri": "https://localhost:8080/"
        },
        "id": "IOsvsP-25c2z",
        "outputId": "76c855f1-eacb-4cc8-cdc4-80175c8db43c"
      },
      "execution_count": null,
      "outputs": [
        {
          "output_type": "execute_result",
          "data": {
            "text/plain": [
              "array([447, 221])"
            ]
          },
          "metadata": {},
          "execution_count": 72
        }
      ]
    },
    {
      "cell_type": "code",
      "source": [
        "sns.barplot(x=PayConserve.index, y=PayConserve.values)"
      ],
      "metadata": {
        "colab": {
          "base_uri": "https://localhost:8080/",
          "height": 282
        },
        "id": "qUw7FyY15dnN",
        "outputId": "f8f0c459-0568-4cbe-94e5-61f252b068b5"
      },
      "execution_count": null,
      "outputs": [
        {
          "output_type": "execute_result",
          "data": {
            "text/plain": [
              "<matplotlib.axes._subplots.AxesSubplot at 0x7f451ec27550>"
            ]
          },
          "metadata": {},
          "execution_count": 73
        },
        {
          "output_type": "display_data",
          "data": {
            "text/plain": [
              "<Figure size 432x288 with 1 Axes>"
            ],
            "image/png": "[encoded data removed]"
          },
          "metadata": {
            "needs_background": "light"
          }
        }
      ]
    },
    {
      "cell_type": "markdown",
      "source": [
        "La mayoria de las personas si estan dispuestas a pagar 2 dólares cada semana por 10 años, para conservar el espacio de avistamiento de ballenas."
      ],
      "metadata": {
        "id": "cKGeiGZc5vZz"
      }
    },
    {
      "cell_type": "markdown",
      "source": [
        "### Visualización bivariada"
      ],
      "metadata": {
        "id": "npiYuXBa6gMS"
      }
    },
    {
      "cell_type": "code",
      "source": [
        "sns.boxplot(data=g, x='PayConserve', y='Country')"
      ],
      "metadata": {
        "colab": {
          "base_uri": "https://localhost:8080/",
          "height": 296
        },
        "id": "y2NgjAQT8y8L",
        "outputId": "9827afb5-36b2-4a9c-b18f-e46de96690b5"
      },
      "execution_count": null,
      "outputs": [
        {
          "output_type": "execute_result",
          "data": {
            "text/plain": [
              "<matplotlib.axes._subplots.AxesSubplot at 0x7f451ec04350>"
            ]
          },
          "metadata": {},
          "execution_count": 74
        },
        {
          "output_type": "display_data",
          "data": {
            "text/plain": [
              "<Figure size 432x288 with 1 Axes>"
            ],
            "image/png": "[encoded data removed]"
          },
          "metadata": {
            "needs_background": "light"
          }
        }
      ]
    },
    {
      "cell_type": "markdown",
      "source": [
        "* En países como Australia, Reino Unido, Francia y Nueva Zelanda se tiene una disposición a pagar uniformemente de 0 a 1, es decir se evidencia que la población está unida en el pago por conservar\n",
        "* Existen datos atípicos en 4 paises\n",
        "* Se puede afirmar que las naciones que generan mayor contaminación, sus ciudadanos muestran poco compromiso con el cuidado de la conservación de los ecosistemas las ballenas como China y Estados Unidos"
      ],
      "metadata": {
        "id": "_uiCG4RDnujl"
      }
    },
    {
      "cell_type": "code",
      "source": [
        "m = pd.crosstab(g['SeeWhales'], g['PayConserve']).stack().reset_index()\n",
        "sns.barplot(data = m, x='SeeWhales', y=0, hue='PayConserve')"
      ],
      "metadata": {
        "colab": {
          "base_uri": "https://localhost:8080/",
          "height": 300
        },
        "id": "_n8K5ti-KHe2",
        "outputId": "dd5d3876-0220-4c18-9560-4401d75e330e"
      },
      "execution_count": null,
      "outputs": [
        {
          "output_type": "execute_result",
          "data": {
            "text/plain": [
              "<matplotlib.axes._subplots.AxesSubplot at 0x7f451f12a310>"
            ]
          },
          "metadata": {},
          "execution_count": 75
        },
        {
          "output_type": "display_data",
          "data": {
            "text/plain": [
              "<Figure size 432x288 with 1 Axes>"
            ],
            "image/png": "[encoded data removed]"
          },
          "metadata": {
            "needs_background": "light"
          }
        }
      ]
    },
    {
      "cell_type": "markdown",
      "source": [
        "* En la gráfica se evidencia que tanto las personas que han visto ballenas como las que no, la mayoría están dispuestos a pagar por la conservación del ecosistema.\n",
        "* Por otra parte, las personas que están dispuestas a pagar por la conservación y han visto ballenas, son más del doble de los que no están dispuestos a pagar.\n",
        "* Adicionalmente, las personas que están dispuestas a pagar por la conservación y NO han visto ballenas, son menos del doble de los que no están dispuestos a pagar."
      ],
      "metadata": {
        "id": "M8384_3qiSsR"
      }
    },
    {
      "cell_type": "code",
      "source": [
        "sns.boxplot(data=g, x='PayConserve', y='Age')"
      ],
      "metadata": {
        "colab": {
          "base_uri": "https://localhost:8080/",
          "height": 296
        },
        "id": "AjSH1r5s6xEo",
        "outputId": "ce94e12c-d30b-4f12-eece-0a9ce9ace702"
      },
      "execution_count": null,
      "outputs": [
        {
          "output_type": "execute_result",
          "data": {
            "text/plain": [
              "<matplotlib.axes._subplots.AxesSubplot at 0x7f451eedf050>"
            ]
          },
          "metadata": {},
          "execution_count": 76
        },
        {
          "output_type": "display_data",
          "data": {
            "text/plain": [
              "<Figure size 432x288 with 1 Axes>"
            ],
            "image/png": "[encoded data removed]"
          },
          "metadata": {
            "needs_background": "light"
          }
        }
      ]
    },
    {
      "cell_type": "markdown",
      "source": [
        "Se observa una asimetría positiva entre quienes no pagarían por conservar las ballenas, es decir se evidencia que la media es mayor que la mediana, en el caso de quienes pagarían por la conservación tiene un mínimo de 13 y un máximo cercano a 81, con esto se puede suponer que las generaciones actuales le están dando mayor relevancia a la preservación de las especies."
      ],
      "metadata": {
        "id": "SORDqVkkocdQ"
      }
    },
    {
      "cell_type": "code",
      "source": [
        "m = pd.crosstab(g['Gender'], g['PayConserve']).stack().reset_index()\n",
        "sns.barplot(data = m, x='Gender', y=0, hue='PayConserve')"
      ],
      "metadata": {
        "colab": {
          "base_uri": "https://localhost:8080/",
          "height": 296
        },
        "id": "ACoD41-eN5Ww",
        "outputId": "64ed105c-e2b2-4769-f4fe-5fcf9a9b8d67"
      },
      "execution_count": null,
      "outputs": [
        {
          "output_type": "execute_result",
          "data": {
            "text/plain": [
              "<matplotlib.axes._subplots.AxesSubplot at 0x7f451ea451d0>"
            ]
          },
          "metadata": {},
          "execution_count": 77
        },
        {
          "output_type": "display_data",
          "data": {
            "text/plain": [
              "<Figure size 432x288 with 1 Axes>"
            ],
            "image/png": "[encoded data removed]"
          },
          "metadata": {
            "needs_background": "light"
          }
        }
      ]
    },
    {
      "cell_type": "markdown",
      "source": [
        "* En los dos géneros la mayoría están dispuestos pagar por la conservación.\n",
        "* En el caso de los hombres, la disposición pagar es el doble a comparación de los que no.\n",
        "* En el caso de las mujeres, la disposción a pagar  comparación de os e no, es un poco más del doble."
      ],
      "metadata": {
        "id": "GcHMj_fql_k4"
      }
    },
    {
      "cell_type": "code",
      "source": [
        "m = pd.crosstab(g['Education'], g['PayConserve']).stack().reset_index()\n",
        "sns.barplot(data = m, y='Education', x=0, hue='PayConserve')"
      ],
      "metadata": {
        "colab": {
          "base_uri": "https://localhost:8080/",
          "height": 296
        },
        "id": "vpv0FJozO_Hk",
        "outputId": "491c043b-2df4-4097-8bbd-89c25c41f761"
      },
      "execution_count": null,
      "outputs": [
        {
          "output_type": "execute_result",
          "data": {
            "text/plain": [
              "<matplotlib.axes._subplots.AxesSubplot at 0x7f451e9baa50>"
            ]
          },
          "metadata": {},
          "execution_count": 78
        },
        {
          "output_type": "display_data",
          "data": {
            "text/plain": [
              "<Figure size 432x288 with 1 Axes>"
            ],
            "image/png": "[encoded data removed]"
          },
          "metadata": {
            "needs_background": "light"
          }
        }
      ]
    },
    {
      "cell_type": "markdown",
      "source": [
        "De acuerdo con la gráfica, de las 9 categorías de educación sólo en una (correspondiente a las personas que solo tienen primaria)\n",
        " la mayoría no están dispuestas a pagar por la conservación del ecosistema de avistamiento de ballenas."
      ],
      "metadata": {
        "id": "OLbOQhxwrfUa"
      }
    },
    {
      "cell_type": "code",
      "source": [
        "m = pd.crosstab(g['Income_AUD'], g['PayConserve']).stack().reset_index()\n",
        "sns.barplot(data = m, y='Income_AUD', x=0, hue='PayConserve')"
      ],
      "metadata": {
        "colab": {
          "base_uri": "https://localhost:8080/",
          "height": 296
        },
        "id": "D0_Idhkc7nP3",
        "outputId": "6e29dcf3-4fc3-4fe5-f657-f7fe15c3ed2d"
      },
      "execution_count": null,
      "outputs": [
        {
          "output_type": "execute_result",
          "data": {
            "text/plain": [
              "<matplotlib.axes._subplots.AxesSubplot at 0x7f451e99e850>"
            ]
          },
          "metadata": {},
          "execution_count": 79
        },
        {
          "output_type": "display_data",
          "data": {
            "text/plain": [
              "<Figure size 432x288 with 1 Axes>"
            ],
            "image/png": "[encoded data removed]"
          },
          "metadata": {
            "needs_background": "light"
          }
        }
      ]
    },
    {
      "cell_type": "markdown",
      "source": [
        "La mayoría de las personas están dispuesta a pagar por la conservación del ecosistema de avistamiento de ballenas. Hay que tener en cuenta que estos datos categorizados son rangos y existe la posibilidad de un sesgo por datos que no se encuentren dentro de estos rangos."
      ],
      "metadata": {
        "id": "Dut8y-JKtYPC"
      }
    },
    {
      "cell_type": "code",
      "source": [
        "sns.boxplot(data=g, x='PayConserve', y='Income')"
      ],
      "metadata": {
        "colab": {
          "base_uri": "https://localhost:8080/",
          "height": 296
        },
        "id": "Dk7An29n7qVW",
        "outputId": "13e7fc16-12b5-46ba-8710-f9ab732caffa"
      },
      "execution_count": null,
      "outputs": [
        {
          "output_type": "execute_result",
          "data": {
            "text/plain": [
              "<matplotlib.axes._subplots.AxesSubplot at 0x7f451e7a5f90>"
            ]
          },
          "metadata": {},
          "execution_count": 80
        },
        {
          "output_type": "display_data",
          "data": {
            "text/plain": [
              "<Figure size 432x288 with 1 Axes>"
            ],
            "image/png": "[encoded data removed]"
          },
          "metadata": {
            "needs_background": "light"
          }
        }
      ]
    },
    {
      "cell_type": "markdown",
      "source": [
        "Las personas que tienen mayores ingresos tienen menor disposición a pagar en pro de la conservación de los lugares para avistamiento de las ballenas, visto de otra forma se quiere pagar solo lo necesario por esto, además las personas con ingresos por encima de los 30000 dólares australianos empiezan a pensar en aportar a esta actividad."
      ],
      "metadata": {
        "id": "xgOniijEoxDJ"
      }
    },
    {
      "cell_type": "code",
      "source": [
        "sns.boxplot(data=g, x='PayConserve', y='AdultWhales')"
      ],
      "metadata": {
        "colab": {
          "base_uri": "https://localhost:8080/",
          "height": 296
        },
        "id": "xOm5HRzT7sJu",
        "outputId": "575a7a01-1dce-43e2-a416-651f44b670e6"
      },
      "execution_count": null,
      "outputs": [
        {
          "output_type": "execute_result",
          "data": {
            "text/plain": [
              "<matplotlib.axes._subplots.AxesSubplot at 0x7f451e859d50>"
            ]
          },
          "metadata": {},
          "execution_count": 81
        },
        {
          "output_type": "display_data",
          "data": {
            "text/plain": [
              "<Figure size 432x288 with 1 Axes>"
            ],
            "image/png": "[encoded data removed]"
          },
          "metadata": {
            "needs_background": "light"
          }
        }
      ]
    },
    {
      "cell_type": "markdown",
      "source": [
        "Las personas que han observado las ballenas se encuentran segmentados en dos grupos, en el que si aportaría por visualizar a las ballenas se notan datos atípicos, el más relevante es quien ha visto 30 ballenas adultas."
      ],
      "metadata": {
        "id": "BvuXvKJUo_2o"
      }
    },
    {
      "cell_type": "code",
      "source": [
        "m = pd.crosstab(g['YoungWhales'], g['PayConserve']).stack().reset_index()\n",
        "sns.barplot(data = m, x='YoungWhales', y=0, hue='PayConserve')"
      ],
      "metadata": {
        "colab": {
          "base_uri": "https://localhost:8080/",
          "height": 296
        },
        "id": "CvOj_eUu7urP",
        "outputId": "96011c72-34f7-403a-ac94-235c076f2295"
      },
      "execution_count": null,
      "outputs": [
        {
          "output_type": "execute_result",
          "data": {
            "text/plain": [
              "<matplotlib.axes._subplots.AxesSubplot at 0x7f451e759d10>"
            ]
          },
          "metadata": {},
          "execution_count": 82
        },
        {
          "output_type": "display_data",
          "data": {
            "text/plain": [
              "<Figure size 432x288 with 1 Axes>"
            ],
            "image/png": "[encoded data removed]"
          },
          "metadata": {
            "needs_background": "light"
          }
        }
      ]
    },
    {
      "cell_type": "markdown",
      "source": [
        "* Las personas que han visto como las que no han visto ballenas jóvenes, la mayoría están dispuestas a pagar por la consevación del espacio.\n",
        "* En el caso de los que si han visto ballenas jóvenes, más de la mitad estan dispuestos a paga por la conservaión del entorno."
      ],
      "metadata": {
        "id": "1q85pOfnuiYm"
      }
    },
    {
      "cell_type": "code",
      "source": [
        "sns.boxplot(data=g, x='PayConserve', y='Max_wtp')"
      ],
      "metadata": {
        "colab": {
          "base_uri": "https://localhost:8080/",
          "height": 296
        },
        "id": "eghIWwjo7xOe",
        "outputId": "48306691-a5d9-43f8-a9b1-cfc2696bbbca"
      },
      "execution_count": null,
      "outputs": [
        {
          "output_type": "execute_result",
          "data": {
            "text/plain": [
              "<matplotlib.axes._subplots.AxesSubplot at 0x7f451e2e22d0>"
            ]
          },
          "metadata": {},
          "execution_count": 86
        },
        {
          "output_type": "display_data",
          "data": {
            "text/plain": [
              "<Figure size 432x288 with 1 Axes>"
            ],
            "image/png": "[encoded data removed]"
          },
          "metadata": {
            "needs_background": "light"
          }
        }
      ]
    },
    {
      "cell_type": "code",
      "source": [
        "m = pd.crosstab(g['wtp'], g['PayConserve']).stack().reset_index()\n",
        "sns.barplot(data = m, x='wtp', y=0, hue='PayConserve')"
      ],
      "metadata": {
        "colab": {
          "base_uri": "https://localhost:8080/",
          "height": 296
        },
        "id": "P_laB9FaxYi5",
        "outputId": "6b593fde-b308-4669-b593-ff088ca2e2a0"
      },
      "execution_count": null,
      "outputs": [
        {
          "output_type": "execute_result",
          "data": {
            "text/plain": [
              "<matplotlib.axes._subplots.AxesSubplot at 0x7f451e2d0590>"
            ]
          },
          "metadata": {},
          "execution_count": 87
        },
        {
          "output_type": "display_data",
          "data": {
            "text/plain": [
              "<Figure size 432x288 with 1 Axes>"
            ],
            "image/png": "[encoded data removed]"
          },
          "metadata": {
            "needs_background": "light"
          }
        }
      ]
    },
    {
      "cell_type": "markdown",
      "source": [
        "* Se observa que en la categoria *Less* y *Same*, que la mayoría estan dispuetos a pagar por la conservación.\n",
        "* Se encuentra en la categoría *More* una especie de paradója, pues corresponde a las personas que estan más dispuestas a pagar por la conservación, sin embargo al comparar con el *PayConseve* que correponde a la disposición a pagar pero con valores definidos (2 dólares semanales por 10 años), la mayoría no estan dispuesto a pagar. Esto se puede deber a que no tenian la información completa."
      ],
      "metadata": {
        "id": "LksSAQT5xczm"
      }
    },
    {
      "cell_type": "markdown",
      "source": [
        "# Cambio de valores"
      ],
      "metadata": {
        "id": "YFV9uSvfUGL9"
      }
    },
    {
      "cell_type": "code",
      "source": [
        "g.Gender = g.Gender.replace({'Female':1, 'Male':0})"
      ],
      "metadata": {
        "colab": {
          "base_uri": "https://localhost:8080/"
        },
        "id": "wieY0BUbfJPt",
        "outputId": "647c7fdf-968b-468a-86e1-734933fc9333"
      },
      "execution_count": null,
      "outputs": [
        {
          "output_type": "stream",
          "name": "stderr",
          "text": [
            "/usr/local/lib/python3.7/dist-packages/pandas/core/generic.py:5516: SettingWithCopyWarning: \n",
            "A value is trying to be set on a copy of a slice from a DataFrame.\n",
            "Try using .loc[row_indexer,col_indexer] = value instead\n",
            "\n",
            "See the caveats in the documentation: https://pandas.pydata.org/pandas-docs/stable/user_guide/indexing.html#returning-a-view-versus-a-copy\n",
            "  self[name] = value\n"
          ]
        }
      ]
    },
    {
      "cell_type": "code",
      "source": [
        "g.YoungWhales = g.YoungWhales.replace({'Yes':1, 'No':0})"
      ],
      "metadata": {
        "id": "rgXmfXZCfRGC"
      },
      "execution_count": null,
      "outputs": []
    },
    {
      "cell_type": "code",
      "source": [
        "g"
      ],
      "metadata": {
        "colab": {
          "base_uri": "https://localhost:8080/",
          "height": 424
        },
        "id": "hLDk9a6IfZKy",
        "outputId": "fe1b5674-a17a-4010-efc0-6f6e377a5ccc"
      },
      "execution_count": null,
      "outputs": [
        {
          "output_type": "execute_result",
          "data": {
            "text/plain": [
              "       Country  SeeWhales   Age  Gender             Education  \\\n",
              "0    Australia          1  31.0       1               Diploma   \n",
              "1           UK          0  22.0       1                Degree   \n",
              "2          USA          0  46.0       1                Degree   \n",
              "3       France          0  37.0       1               Diploma   \n",
              "5    Australia          0  65.0       0  Post-graduate degree   \n",
              "..         ...        ...   ...     ...                   ...   \n",
              "696  Australia          0  56.0       1     Completed year 10   \n",
              "697  Australia          0  38.0       1     Completed year 10   \n",
              "698  Australia          0  24.0       1               Diploma   \n",
              "699  Australia          0  50.0       0  Post-graduate degree   \n",
              "700  Australia          0  32.0       0                Degree   \n",
              "\n",
              "            Income_AUD   Income  AdultWhales  YoungWhales  Max_wtp   wtp  \\\n",
              "0    $60,001 - $70,000  65000.5            2            1      0.0  Less   \n",
              "1    Less than $20,000  10000.0            6            0      0.0  More   \n",
              "2    More than $70,000  85000.5            7            0      0.0  More   \n",
              "3    $20,001 - $30,000  25000.5            4            1      0.0  More   \n",
              "5    $40,001 - $50,000  45000.5            3            1      1.0  Same   \n",
              "..                 ...      ...          ...          ...      ...   ...   \n",
              "696  Less than $20,000  10000.0            0            1      1.0  Same   \n",
              "697  $30,001 - $40,000  35000.5            6            1      2.0  Same   \n",
              "698  $20,001 - $30,000  25000.5            6            0      2.0  Less   \n",
              "699  $30,001 - $40,000  35000.5            2            1      5.0  Same   \n",
              "700  More than $70,000  85000.5            8            1      0.0  Same   \n",
              "\n",
              "     PayConserve  \n",
              "0              1  \n",
              "1              0  \n",
              "2              0  \n",
              "3              1  \n",
              "5              1  \n",
              "..           ...  \n",
              "696            1  \n",
              "697            1  \n",
              "698            1  \n",
              "699            1  \n",
              "700            0  \n",
              "\n",
              "[668 rows x 12 columns]"
            ],
            "text/html": [
              "\n",
              "  <div id=\"df-7f1a866f-efaa-4fd1-8ba6-70b58951761f\">\n",
              "    <div class=\"colab-df-container\">\n",
              "      <div>\n",
              "<style scoped>\n",
              "    .dataframe tbody tr th:only-of-type {\n",
              "        vertical-align: middle;\n",
              "    }\n",
              "\n",
              "    .dataframe tbody tr th {\n",
              "        vertical-align: top;\n",
              "    }\n",
              "\n",
              "    .dataframe thead th {\n",
              "        text-align: right;\n",
              "    }\n",
              "</style>\n",
              "<table border=\"1\" class=\"dataframe\">\n",
              "  <thead>\n",
              "    <tr style=\"text-align: right;\">\n",
              "      <th></th>\n",
              "      <th>Country</th>\n",
              "      <th>SeeWhales</th>\n",
              "      <th>Age</th>\n",
              "      <th>Gender</th>\n",
              "      <th>Education</th>\n",
              "      <th>Income_AUD</th>\n",
              "      <th>Income</th>\n",
              "      <th>AdultWhales</th>\n",
              "      <th>YoungWhales</th>\n",
              "      <th>Max_wtp</th>\n",
              "      <th>wtp</th>\n",
              "      <th>PayConserve</th>\n",
              "    </tr>\n",
              "  </thead>\n",
              "  <tbody>\n",
              "    <tr>\n",
              "      <th>0</th>\n",
              "      <td>Australia</td>\n",
              "      <td>1</td>\n",
              "      <td>31.0</td>\n",
              "      <td>1</td>\n",
              "      <td>Diploma</td>\n",
              "      <td>$60,001 - $70,000</td>\n",
              "      <td>65000.5</td>\n",
              "      <td>2</td>\n",
              "      <td>1</td>\n",
              "      <td>0.0</td>\n",
              "      <td>Less</td>\n",
              "      <td>1</td>\n",
              "    </tr>\n",
              "    <tr>\n",
              "      <th>1</th>\n",
              "      <td>UK</td>\n",
              "      <td>0</td>\n",
              "      <td>22.0</td>\n",
              "      <td>1</td>\n",
              "      <td>Degree</td>\n",
              "      <td>Less than $20,000</td>\n",
              "      <td>10000.0</td>\n",
              "      <td>6</td>\n",
              "      <td>0</td>\n",
              "      <td>0.0</td>\n",
              "      <td>More</td>\n",
              "      <td>0</td>\n",
              "    </tr>\n",
              "    <tr>\n",
              "      <th>2</th>\n",
              "      <td>USA</td>\n",
              "      <td>0</td>\n",
              "      <td>46.0</td>\n",
              "      <td>1</td>\n",
              "      <td>Degree</td>\n",
              "      <td>More than $70,000</td>\n",
              "      <td>85000.5</td>\n",
              "      <td>7</td>\n",
              "      <td>0</td>\n",
              "      <td>0.0</td>\n",
              "      <td>More</td>\n",
              "      <td>0</td>\n",
              "    </tr>\n",
              "    <tr>\n",
              "      <th>3</th>\n",
              "      <td>France</td>\n",
              "      <td>0</td>\n",
              "      <td>37.0</td>\n",
              "      <td>1</td>\n",
              "      <td>Diploma</td>\n",
              "      <td>$20,001 - $30,000</td>\n",
              "      <td>25000.5</td>\n",
              "      <td>4</td>\n",
              "      <td>1</td>\n",
              "      <td>0.0</td>\n",
              "      <td>More</td>\n",
              "      <td>1</td>\n",
              "    </tr>\n",
              "    <tr>\n",
              "      <th>5</th>\n",
              "      <td>Australia</td>\n",
              "      <td>0</td>\n",
              "      <td>65.0</td>\n",
              "      <td>0</td>\n",
              "      <td>Post-graduate degree</td>\n",
              "      <td>$40,001 - $50,000</td>\n",
              "      <td>45000.5</td>\n",
              "      <td>3</td>\n",
              "      <td>1</td>\n",
              "      <td>1.0</td>\n",
              "      <td>Same</td>\n",
              "      <td>1</td>\n",
              "    </tr>\n",
              "    <tr>\n",
              "      <th>...</th>\n",
              "      <td>...</td>\n",
              "      <td>...</td>\n",
              "      <td>...</td>\n",
              "      <td>...</td>\n",
              "      <td>...</td>\n",
              "      <td>...</td>\n",
              "      <td>...</td>\n",
              "      <td>...</td>\n",
              "      <td>...</td>\n",
              "      <td>...</td>\n",
              "      <td>...</td>\n",
              "      <td>...</td>\n",
              "    </tr>\n",
              "    <tr>\n",
              "      <th>696</th>\n",
              "      <td>Australia</td>\n",
              "      <td>0</td>\n",
              "      <td>56.0</td>\n",
              "      <td>1</td>\n",
              "      <td>Completed year 10</td>\n",
              "      <td>Less than $20,000</td>\n",
              "      <td>10000.0</td>\n",
              "      <td>0</td>\n",
              "      <td>1</td>\n",
              "      <td>1.0</td>\n",
              "      <td>Same</td>\n",
              "      <td>1</td>\n",
              "    </tr>\n",
              "    <tr>\n",
              "      <th>697</th>\n",
              "      <td>Australia</td>\n",
              "      <td>0</td>\n",
              "      <td>38.0</td>\n",
              "      <td>1</td>\n",
              "      <td>Completed year 10</td>\n",
              "      <td>$30,001 - $40,000</td>\n",
              "      <td>35000.5</td>\n",
              "      <td>6</td>\n",
              "      <td>1</td>\n",
              "      <td>2.0</td>\n",
              "      <td>Same</td>\n",
              "      <td>1</td>\n",
              "    </tr>\n",
              "    <tr>\n",
              "      <th>698</th>\n",
              "      <td>Australia</td>\n",
              "      <td>0</td>\n",
              "      <td>24.0</td>\n",
              "      <td>1</td>\n",
              "      <td>Diploma</td>\n",
              "      <td>$20,001 - $30,000</td>\n",
              "      <td>25000.5</td>\n",
              "      <td>6</td>\n",
              "      <td>0</td>\n",
              "      <td>2.0</td>\n",
              "      <td>Less</td>\n",
              "      <td>1</td>\n",
              "    </tr>\n",
              "    <tr>\n",
              "      <th>699</th>\n",
              "      <td>Australia</td>\n",
              "      <td>0</td>\n",
              "      <td>50.0</td>\n",
              "      <td>0</td>\n",
              "      <td>Post-graduate degree</td>\n",
              "      <td>$30,001 - $40,000</td>\n",
              "      <td>35000.5</td>\n",
              "      <td>2</td>\n",
              "      <td>1</td>\n",
              "      <td>5.0</td>\n",
              "      <td>Same</td>\n",
              "      <td>1</td>\n",
              "    </tr>\n",
              "    <tr>\n",
              "      <th>700</th>\n",
              "      <td>Australia</td>\n",
              "      <td>0</td>\n",
              "      <td>32.0</td>\n",
              "      <td>0</td>\n",
              "      <td>Degree</td>\n",
              "      <td>More than $70,000</td>\n",
              "      <td>85000.5</td>\n",
              "      <td>8</td>\n",
              "      <td>1</td>\n",
              "      <td>0.0</td>\n",
              "      <td>Same</td>\n",
              "      <td>0</td>\n",
              "    </tr>\n",
              "  </tbody>\n",
              "</table>\n",
              "<p>668 rows × 12 columns</p>\n",
              "</div>\n",
              "      <button class=\"colab-df-convert\" onclick=\"convertToInteractive('df-7f1a866f-efaa-4fd1-8ba6-70b58951761f')\"\n",
              "              title=\"Convert this dataframe to an interactive table.\"\n",
              "              style=\"display:none;\">\n",
              "        \n",
              "  <svg xmlns=\"http://www.w3.org/2000/svg\" height=\"24px\"viewBox=\"0 0 24 24\"\n",
              "       width=\"24px\">\n",
              "    <path d=\"M0 0h24v24H0V0z\" fill=\"none\"/>\n",
              "    <path d=\"M18.56 5.44l.94 2.06.94-2.06 2.06-.94-2.06-.94-.94-2.06-.94 2.06-2.06.94zm-11 1L8.5 8.5l.94-2.06 2.06-.94-2.06-.94L8.5 2.5l-.94 2.06-2.06.94zm10 10l.94 2.06.94-2.06 2.06-.94-2.06-.94-.94-2.06-.94 2.06-2.06.94z\"/><path d=\"M17.41 7.96l-1.37-1.37c-.4-.4-.92-.59-1.43-.59-.52 0-1.04.2-1.43.59L10.3 9.45l-7.72 7.72c-.78.78-.78 2.05 0 2.83L4 21.41c.39.39.9.59 1.41.59.51 0 1.02-.2 1.41-.59l7.78-7.78 2.81-2.81c.8-.78.8-2.07 0-2.86zM5.41 20L4 18.59l7.72-7.72 1.47 1.35L5.41 20z\"/>\n",
              "  </svg>\n",
              "      </button>\n",
              "      \n",
              "  <style>\n",
              "    .colab-df-container {\n",
              "      display:flex;\n",
              "      flex-wrap:wrap;\n",
              "      gap: 12px;\n",
              "    }\n",
              "\n",
              "    .colab-df-convert {\n",
              "      background-color: #E8F0FE;\n",
              "      border: none;\n",
              "      border-radius: 50%;\n",
              "      cursor: pointer;\n",
              "      display: none;\n",
              "      fill: #1967D2;\n",
              "      height: 32px;\n",
              "      padding: 0 0 0 0;\n",
              "      width: 32px;\n",
              "    }\n",
              "\n",
              "    .colab-df-convert:hover {\n",
              "      background-color: #E2EBFA;\n",
              "      box-shadow: 0px 1px 2px rgba(60, 64, 67, 0.3), 0px 1px 3px 1px rgba(60, 64, 67, 0.15);\n",
              "      fill: #174EA6;\n",
              "    }\n",
              "\n",
              "    [theme=dark] .colab-df-convert {\n",
              "      background-color: #3B4455;\n",
              "      fill: #D2E3FC;\n",
              "    }\n",
              "\n",
              "    [theme=dark] .colab-df-convert:hover {\n",
              "      background-color: #434B5C;\n",
              "      box-shadow: 0px 1px 3px 1px rgba(0, 0, 0, 0.15);\n",
              "      filter: drop-shadow(0px 1px 2px rgba(0, 0, 0, 0.3));\n",
              "      fill: #FFFFFF;\n",
              "    }\n",
              "  </style>\n",
              "\n",
              "      <script>\n",
              "        const buttonEl =\n",
              "          document.querySelector('#df-7f1a866f-efaa-4fd1-8ba6-70b58951761f button.colab-df-convert');\n",
              "        buttonEl.style.display =\n",
              "          google.colab.kernel.accessAllowed ? 'block' : 'none';\n",
              "\n",
              "        async function convertToInteractive(key) {\n",
              "          const element = document.querySelector('#df-7f1a866f-efaa-4fd1-8ba6-70b58951761f');\n",
              "          const dataTable =\n",
              "            await google.colab.kernel.invokeFunction('convertToInteractive',\n",
              "                                                     [key], {});\n",
              "          if (!dataTable) return;\n",
              "\n",
              "          const docLinkHtml = 'Like what you see? Visit the ' +\n",
              "            '<a target=\"_blank\" href=https://colab.research.google.com/notebooks/data_table.ipynb>data table notebook</a>'\n",
              "            + ' to learn more about interactive tables.';\n",
              "          element.innerHTML = '';\n",
              "          dataTable['output_type'] = 'display_data';\n",
              "          await google.colab.output.renderOutput(dataTable, element);\n",
              "          const docLink = document.createElement('div');\n",
              "          docLink.innerHTML = docLinkHtml;\n",
              "          element.appendChild(docLink);\n",
              "        }\n",
              "      </script>\n",
              "    </div>\n",
              "  </div>\n",
              "  "
            ]
          },
          "metadata": {},
          "execution_count": 90
        }
      ]
    },
    {
      "cell_type": "code",
      "source": [
        "g['Education_N'] = g['Education']\n",
        "g"
      ],
      "metadata": {
        "colab": {
          "base_uri": "https://localhost:8080/",
          "height": 528
        },
        "id": "wpKD3nGJ-Cv8",
        "outputId": "f2a551d9-fc7c-451e-ad2b-10b9f7c8423a"
      },
      "execution_count": null,
      "outputs": [
        {
          "output_type": "stream",
          "name": "stderr",
          "text": [
            "/usr/local/lib/python3.7/dist-packages/ipykernel_launcher.py:1: SettingWithCopyWarning: \n",
            "A value is trying to be set on a copy of a slice from a DataFrame.\n",
            "Try using .loc[row_indexer,col_indexer] = value instead\n",
            "\n",
            "See the caveats in the documentation: https://pandas.pydata.org/pandas-docs/stable/user_guide/indexing.html#returning-a-view-versus-a-copy\n",
            "  \"\"\"Entry point for launching an IPython kernel.\n"
          ]
        },
        {
          "output_type": "execute_result",
          "data": {
            "text/plain": [
              "       Country  SeeWhales   Age  Gender             Education  \\\n",
              "0    Australia          1  31.0       1               Diploma   \n",
              "1           UK          0  22.0       1                Degree   \n",
              "2          USA          0  46.0       1                Degree   \n",
              "3       France          0  37.0       1               Diploma   \n",
              "5    Australia          0  65.0       0  Post-graduate degree   \n",
              "..         ...        ...   ...     ...                   ...   \n",
              "696  Australia          0  56.0       1     Completed year 10   \n",
              "697  Australia          0  38.0       1     Completed year 10   \n",
              "698  Australia          0  24.0       1               Diploma   \n",
              "699  Australia          0  50.0       0  Post-graduate degree   \n",
              "700  Australia          0  32.0       0                Degree   \n",
              "\n",
              "            Income_AUD   Income  AdultWhales  YoungWhales  Max_wtp   wtp  \\\n",
              "0    $60,001 - $70,000  65000.5            2            1      0.0  Less   \n",
              "1    Less than $20,000  10000.0            6            0      0.0  More   \n",
              "2    More than $70,000  85000.5            7            0      0.0  More   \n",
              "3    $20,001 - $30,000  25000.5            4            1      0.0  More   \n",
              "5    $40,001 - $50,000  45000.5            3            1      1.0  Same   \n",
              "..                 ...      ...          ...          ...      ...   ...   \n",
              "696  Less than $20,000  10000.0            0            1      1.0  Same   \n",
              "697  $30,001 - $40,000  35000.5            6            1      2.0  Same   \n",
              "698  $20,001 - $30,000  25000.5            6            0      2.0  Less   \n",
              "699  $30,001 - $40,000  35000.5            2            1      5.0  Same   \n",
              "700  More than $70,000  85000.5            8            1      0.0  Same   \n",
              "\n",
              "     PayConserve           Education_N  \n",
              "0              1               Diploma  \n",
              "1              0                Degree  \n",
              "2              0                Degree  \n",
              "3              1               Diploma  \n",
              "5              1  Post-graduate degree  \n",
              "..           ...                   ...  \n",
              "696            1     Completed year 10  \n",
              "697            1     Completed year 10  \n",
              "698            1               Diploma  \n",
              "699            1  Post-graduate degree  \n",
              "700            0                Degree  \n",
              "\n",
              "[668 rows x 13 columns]"
            ],
            "text/html": [
              "\n",
              "  <div id=\"df-c20a9ffa-43b8-488f-b092-72972f790837\">\n",
              "    <div class=\"colab-df-container\">\n",
              "      <div>\n",
              "<style scoped>\n",
              "    .dataframe tbody tr th:only-of-type {\n",
              "        vertical-align: middle;\n",
              "    }\n",
              "\n",
              "    .dataframe tbody tr th {\n",
              "        vertical-align: top;\n",
              "    }\n",
              "\n",
              "    .dataframe thead th {\n",
              "        text-align: right;\n",
              "    }\n",
              "</style>\n",
              "<table border=\"1\" class=\"dataframe\">\n",
              "  <thead>\n",
              "    <tr style=\"text-align: right;\">\n",
              "      <th></th>\n",
              "      <th>Country</th>\n",
              "      <th>SeeWhales</th>\n",
              "      <th>Age</th>\n",
              "      <th>Gender</th>\n",
              "      <th>Education</th>\n",
              "      <th>Income_AUD</th>\n",
              "      <th>Income</th>\n",
              "      <th>AdultWhales</th>\n",
              "      <th>YoungWhales</th>\n",
              "      <th>Max_wtp</th>\n",
              "      <th>wtp</th>\n",
              "      <th>PayConserve</th>\n",
              "      <th>Education_N</th>\n",
              "    </tr>\n",
              "  </thead>\n",
              "  <tbody>\n",
              "    <tr>\n",
              "      <th>0</th>\n",
              "      <td>Australia</td>\n",
              "      <td>1</td>\n",
              "      <td>31.0</td>\n",
              "      <td>1</td>\n",
              "      <td>Diploma</td>\n",
              "      <td>$60,001 - $70,000</td>\n",
              "      <td>65000.5</td>\n",
              "      <td>2</td>\n",
              "      <td>1</td>\n",
              "      <td>0.0</td>\n",
              "      <td>Less</td>\n",
              "      <td>1</td>\n",
              "      <td>Diploma</td>\n",
              "    </tr>\n",
              "    <tr>\n",
              "      <th>1</th>\n",
              "      <td>UK</td>\n",
              "      <td>0</td>\n",
              "      <td>22.0</td>\n",
              "      <td>1</td>\n",
              "      <td>Degree</td>\n",
              "      <td>Less than $20,000</td>\n",
              "      <td>10000.0</td>\n",
              "      <td>6</td>\n",
              "      <td>0</td>\n",
              "      <td>0.0</td>\n",
              "      <td>More</td>\n",
              "      <td>0</td>\n",
              "      <td>Degree</td>\n",
              "    </tr>\n",
              "    <tr>\n",
              "      <th>2</th>\n",
              "      <td>USA</td>\n",
              "      <td>0</td>\n",
              "      <td>46.0</td>\n",
              "      <td>1</td>\n",
              "      <td>Degree</td>\n",
              "      <td>More than $70,000</td>\n",
              "      <td>85000.5</td>\n",
              "      <td>7</td>\n",
              "      <td>0</td>\n",
              "      <td>0.0</td>\n",
              "      <td>More</td>\n",
              "      <td>0</td>\n",
              "      <td>Degree</td>\n",
              "    </tr>\n",
              "    <tr>\n",
              "      <th>3</th>\n",
              "      <td>France</td>\n",
              "      <td>0</td>\n",
              "      <td>37.0</td>\n",
              "      <td>1</td>\n",
              "      <td>Diploma</td>\n",
              "      <td>$20,001 - $30,000</td>\n",
              "      <td>25000.5</td>\n",
              "      <td>4</td>\n",
              "      <td>1</td>\n",
              "      <td>0.0</td>\n",
              "      <td>More</td>\n",
              "      <td>1</td>\n",
              "      <td>Diploma</td>\n",
              "    </tr>\n",
              "    <tr>\n",
              "      <th>5</th>\n",
              "      <td>Australia</td>\n",
              "      <td>0</td>\n",
              "      <td>65.0</td>\n",
              "      <td>0</td>\n",
              "      <td>Post-graduate degree</td>\n",
              "      <td>$40,001 - $50,000</td>\n",
              "      <td>45000.5</td>\n",
              "      <td>3</td>\n",
              "      <td>1</td>\n",
              "      <td>1.0</td>\n",
              "      <td>Same</td>\n",
              "      <td>1</td>\n",
              "      <td>Post-graduate degree</td>\n",
              "    </tr>\n",
              "    <tr>\n",
              "      <th>...</th>\n",
              "      <td>...</td>\n",
              "      <td>...</td>\n",
              "      <td>...</td>\n",
              "      <td>...</td>\n",
              "      <td>...</td>\n",
              "      <td>...</td>\n",
              "      <td>...</td>\n",
              "      <td>...</td>\n",
              "      <td>...</td>\n",
              "      <td>...</td>\n",
              "      <td>...</td>\n",
              "      <td>...</td>\n",
              "      <td>...</td>\n",
              "    </tr>\n",
              "    <tr>\n",
              "      <th>696</th>\n",
              "      <td>Australia</td>\n",
              "      <td>0</td>\n",
              "      <td>56.0</td>\n",
              "      <td>1</td>\n",
              "      <td>Completed year 10</td>\n",
              "      <td>Less than $20,000</td>\n",
              "      <td>10000.0</td>\n",
              "      <td>0</td>\n",
              "      <td>1</td>\n",
              "      <td>1.0</td>\n",
              "      <td>Same</td>\n",
              "      <td>1</td>\n",
              "      <td>Completed year 10</td>\n",
              "    </tr>\n",
              "    <tr>\n",
              "      <th>697</th>\n",
              "      <td>Australia</td>\n",
              "      <td>0</td>\n",
              "      <td>38.0</td>\n",
              "      <td>1</td>\n",
              "      <td>Completed year 10</td>\n",
              "      <td>$30,001 - $40,000</td>\n",
              "      <td>35000.5</td>\n",
              "      <td>6</td>\n",
              "      <td>1</td>\n",
              "      <td>2.0</td>\n",
              "      <td>Same</td>\n",
              "      <td>1</td>\n",
              "      <td>Completed year 10</td>\n",
              "    </tr>\n",
              "    <tr>\n",
              "      <th>698</th>\n",
              "      <td>Australia</td>\n",
              "      <td>0</td>\n",
              "      <td>24.0</td>\n",
              "      <td>1</td>\n",
              "      <td>Diploma</td>\n",
              "      <td>$20,001 - $30,000</td>\n",
              "      <td>25000.5</td>\n",
              "      <td>6</td>\n",
              "      <td>0</td>\n",
              "      <td>2.0</td>\n",
              "      <td>Less</td>\n",
              "      <td>1</td>\n",
              "      <td>Diploma</td>\n",
              "    </tr>\n",
              "    <tr>\n",
              "      <th>699</th>\n",
              "      <td>Australia</td>\n",
              "      <td>0</td>\n",
              "      <td>50.0</td>\n",
              "      <td>0</td>\n",
              "      <td>Post-graduate degree</td>\n",
              "      <td>$30,001 - $40,000</td>\n",
              "      <td>35000.5</td>\n",
              "      <td>2</td>\n",
              "      <td>1</td>\n",
              "      <td>5.0</td>\n",
              "      <td>Same</td>\n",
              "      <td>1</td>\n",
              "      <td>Post-graduate degree</td>\n",
              "    </tr>\n",
              "    <tr>\n",
              "      <th>700</th>\n",
              "      <td>Australia</td>\n",
              "      <td>0</td>\n",
              "      <td>32.0</td>\n",
              "      <td>0</td>\n",
              "      <td>Degree</td>\n",
              "      <td>More than $70,000</td>\n",
              "      <td>85000.5</td>\n",
              "      <td>8</td>\n",
              "      <td>1</td>\n",
              "      <td>0.0</td>\n",
              "      <td>Same</td>\n",
              "      <td>0</td>\n",
              "      <td>Degree</td>\n",
              "    </tr>\n",
              "  </tbody>\n",
              "</table>\n",
              "<p>668 rows × 13 columns</p>\n",
              "</div>\n",
              "      <button class=\"colab-df-convert\" onclick=\"convertToInteractive('df-c20a9ffa-43b8-488f-b092-72972f790837')\"\n",
              "              title=\"Convert this dataframe to an interactive table.\"\n",
              "              style=\"display:none;\">\n",
              "        \n",
              "  <svg xmlns=\"http://www.w3.org/2000/svg\" height=\"24px\"viewBox=\"0 0 24 24\"\n",
              "       width=\"24px\">\n",
              "    <path d=\"M0 0h24v24H0V0z\" fill=\"none\"/>\n",
              "    <path d=\"M18.56 5.44l.94 2.06.94-2.06 2.06-.94-2.06-.94-.94-2.06-.94 2.06-2.06.94zm-11 1L8.5 8.5l.94-2.06 2.06-.94-2.06-.94L8.5 2.5l-.94 2.06-2.06.94zm10 10l.94 2.06.94-2.06 2.06-.94-2.06-.94-.94-2.06-.94 2.06-2.06.94z\"/><path d=\"M17.41 7.96l-1.37-1.37c-.4-.4-.92-.59-1.43-.59-.52 0-1.04.2-1.43.59L10.3 9.45l-7.72 7.72c-.78.78-.78 2.05 0 2.83L4 21.41c.39.39.9.59 1.41.59.51 0 1.02-.2 1.41-.59l7.78-7.78 2.81-2.81c.8-.78.8-2.07 0-2.86zM5.41 20L4 18.59l7.72-7.72 1.47 1.35L5.41 20z\"/>\n",
              "  </svg>\n",
              "      </button>\n",
              "      \n",
              "  <style>\n",
              "    .colab-df-container {\n",
              "      display:flex;\n",
              "      flex-wrap:wrap;\n",
              "      gap: 12px;\n",
              "    }\n",
              "\n",
              "    .colab-df-convert {\n",
              "      background-color: #E8F0FE;\n",
              "      border: none;\n",
              "      border-radius: 50%;\n",
              "      cursor: pointer;\n",
              "      display: none;\n",
              "      fill: #1967D2;\n",
              "      height: 32px;\n",
              "      padding: 0 0 0 0;\n",
              "      width: 32px;\n",
              "    }\n",
              "\n",
              "    .colab-df-convert:hover {\n",
              "      background-color: #E2EBFA;\n",
              "      box-shadow: 0px 1px 2px rgba(60, 64, 67, 0.3), 0px 1px 3px 1px rgba(60, 64, 67, 0.15);\n",
              "      fill: #174EA6;\n",
              "    }\n",
              "\n",
              "    [theme=dark] .colab-df-convert {\n",
              "      background-color: #3B4455;\n",
              "      fill: #D2E3FC;\n",
              "    }\n",
              "\n",
              "    [theme=dark] .colab-df-convert:hover {\n",
              "      background-color: #434B5C;\n",
              "      box-shadow: 0px 1px 3px 1px rgba(0, 0, 0, 0.15);\n",
              "      filter: drop-shadow(0px 1px 2px rgba(0, 0, 0, 0.3));\n",
              "      fill: #FFFFFF;\n",
              "    }\n",
              "  </style>\n",
              "\n",
              "      <script>\n",
              "        const buttonEl =\n",
              "          document.querySelector('#df-c20a9ffa-43b8-488f-b092-72972f790837 button.colab-df-convert');\n",
              "        buttonEl.style.display =\n",
              "          google.colab.kernel.accessAllowed ? 'block' : 'none';\n",
              "\n",
              "        async function convertToInteractive(key) {\n",
              "          const element = document.querySelector('#df-c20a9ffa-43b8-488f-b092-72972f790837');\n",
              "          const dataTable =\n",
              "            await google.colab.kernel.invokeFunction('convertToInteractive',\n",
              "                                                     [key], {});\n",
              "          if (!dataTable) return;\n",
              "\n",
              "          const docLinkHtml = 'Like what you see? Visit the ' +\n",
              "            '<a target=\"_blank\" href=https://colab.research.google.com/notebooks/data_table.ipynb>data table notebook</a>'\n",
              "            + ' to learn more about interactive tables.';\n",
              "          element.innerHTML = '';\n",
              "          dataTable['output_type'] = 'display_data';\n",
              "          await google.colab.output.renderOutput(dataTable, element);\n",
              "          const docLink = document.createElement('div');\n",
              "          docLink.innerHTML = docLinkHtml;\n",
              "          element.appendChild(docLink);\n",
              "        }\n",
              "      </script>\n",
              "    </div>\n",
              "  </div>\n",
              "  "
            ]
          },
          "metadata": {},
          "execution_count": 91
        }
      ]
    },
    {
      "cell_type": "code",
      "source": [
        "Education_N = g['Education_N'].value_counts()\n",
        "Education_N"
      ],
      "metadata": {
        "colab": {
          "base_uri": "https://localhost:8080/"
        },
        "id": "i8Ler76OACCj",
        "outputId": "c0817fb2-9a7d-481f-a8cd-87400dc88b82"
      },
      "execution_count": null,
      "outputs": [
        {
          "output_type": "execute_result",
          "data": {
            "text/plain": [
              "Degree                      164\n",
              "Completed year 12            99\n",
              "Completed year 10            95\n",
              "Diploma                      85\n",
              "Post-graduate degree         83\n",
              "Trade certificate            73\n",
              "Some secondary schooling     52\n",
              "Primary only                 16\n",
              "Other - Specify               1\n",
              "Name: Education_N, dtype: int64"
            ]
          },
          "metadata": {},
          "execution_count": 92
        }
      ]
    },
    {
      "cell_type": "code",
      "source": [
        "g.Education_N = g.Education_N.replace({'Other - Specify':0, \n",
        "                                           'Primary only':1, \n",
        "                                           'Some secondary schooling':2, \n",
        "                                           'Completed year 10':3,\n",
        "                                           'Completed year 12':4,\n",
        "                                           'Diploma':5,\n",
        "                                           'Trade certificate':6,\n",
        "                                           'Degree':7,\n",
        "                                           'Post-graduate degree':8})"
      ],
      "metadata": {
        "colab": {
          "base_uri": "https://localhost:8080/"
        },
        "id": "AkoYHbXE_904",
        "outputId": "6f3bebc5-b773-4b1b-b907-78fb04e3db50"
      },
      "execution_count": null,
      "outputs": [
        {
          "output_type": "stream",
          "name": "stderr",
          "text": [
            "/usr/local/lib/python3.7/dist-packages/pandas/core/generic.py:5516: SettingWithCopyWarning: \n",
            "A value is trying to be set on a copy of a slice from a DataFrame.\n",
            "Try using .loc[row_indexer,col_indexer] = value instead\n",
            "\n",
            "See the caveats in the documentation: https://pandas.pydata.org/pandas-docs/stable/user_guide/indexing.html#returning-a-view-versus-a-copy\n",
            "  self[name] = value\n"
          ]
        }
      ]
    },
    {
      "cell_type": "code",
      "source": [
        "g"
      ],
      "metadata": {
        "colab": {
          "base_uri": "https://localhost:8080/",
          "height": 424
        },
        "id": "Kipj48wXCRPB",
        "outputId": "7c9a798a-d8b2-49f5-9c5f-d86626fb5bc0"
      },
      "execution_count": null,
      "outputs": [
        {
          "output_type": "execute_result",
          "data": {
            "text/plain": [
              "       Country  SeeWhales   Age  Gender             Education  \\\n",
              "0    Australia          1  31.0       1               Diploma   \n",
              "1           UK          0  22.0       1                Degree   \n",
              "2          USA          0  46.0       1                Degree   \n",
              "3       France          0  37.0       1               Diploma   \n",
              "5    Australia          0  65.0       0  Post-graduate degree   \n",
              "..         ...        ...   ...     ...                   ...   \n",
              "696  Australia          0  56.0       1     Completed year 10   \n",
              "697  Australia          0  38.0       1     Completed year 10   \n",
              "698  Australia          0  24.0       1               Diploma   \n",
              "699  Australia          0  50.0       0  Post-graduate degree   \n",
              "700  Australia          0  32.0       0                Degree   \n",
              "\n",
              "            Income_AUD   Income  AdultWhales  YoungWhales  Max_wtp   wtp  \\\n",
              "0    $60,001 - $70,000  65000.5            2            1      0.0  Less   \n",
              "1    Less than $20,000  10000.0            6            0      0.0  More   \n",
              "2    More than $70,000  85000.5            7            0      0.0  More   \n",
              "3    $20,001 - $30,000  25000.5            4            1      0.0  More   \n",
              "5    $40,001 - $50,000  45000.5            3            1      1.0  Same   \n",
              "..                 ...      ...          ...          ...      ...   ...   \n",
              "696  Less than $20,000  10000.0            0            1      1.0  Same   \n",
              "697  $30,001 - $40,000  35000.5            6            1      2.0  Same   \n",
              "698  $20,001 - $30,000  25000.5            6            0      2.0  Less   \n",
              "699  $30,001 - $40,000  35000.5            2            1      5.0  Same   \n",
              "700  More than $70,000  85000.5            8            1      0.0  Same   \n",
              "\n",
              "     PayConserve  Education_N  \n",
              "0              1            5  \n",
              "1              0            7  \n",
              "2              0            7  \n",
              "3              1            5  \n",
              "5              1            8  \n",
              "..           ...          ...  \n",
              "696            1            3  \n",
              "697            1            3  \n",
              "698            1            5  \n",
              "699            1            8  \n",
              "700            0            7  \n",
              "\n",
              "[668 rows x 13 columns]"
            ],
            "text/html": [
              "\n",
              "  <div id=\"df-df40e031-e65d-4630-8d6f-d7bd3c5e6054\">\n",
              "    <div class=\"colab-df-container\">\n",
              "      <div>\n",
              "<style scoped>\n",
              "    .dataframe tbody tr th:only-of-type {\n",
              "        vertical-align: middle;\n",
              "    }\n",
              "\n",
              "    .dataframe tbody tr th {\n",
              "        vertical-align: top;\n",
              "    }\n",
              "\n",
              "    .dataframe thead th {\n",
              "        text-align: right;\n",
              "    }\n",
              "</style>\n",
              "<table border=\"1\" class=\"dataframe\">\n",
              "  <thead>\n",
              "    <tr style=\"text-align: right;\">\n",
              "      <th></th>\n",
              "      <th>Country</th>\n",
              "      <th>SeeWhales</th>\n",
              "      <th>Age</th>\n",
              "      <th>Gender</th>\n",
              "      <th>Education</th>\n",
              "      <th>Income_AUD</th>\n",
              "      <th>Income</th>\n",
              "      <th>AdultWhales</th>\n",
              "      <th>YoungWhales</th>\n",
              "      <th>Max_wtp</th>\n",
              "      <th>wtp</th>\n",
              "      <th>PayConserve</th>\n",
              "      <th>Education_N</th>\n",
              "    </tr>\n",
              "  </thead>\n",
              "  <tbody>\n",
              "    <tr>\n",
              "      <th>0</th>\n",
              "      <td>Australia</td>\n",
              "      <td>1</td>\n",
              "      <td>31.0</td>\n",
              "      <td>1</td>\n",
              "      <td>Diploma</td>\n",
              "      <td>$60,001 - $70,000</td>\n",
              "      <td>65000.5</td>\n",
              "      <td>2</td>\n",
              "      <td>1</td>\n",
              "      <td>0.0</td>\n",
              "      <td>Less</td>\n",
              "      <td>1</td>\n",
              "      <td>5</td>\n",
              "    </tr>\n",
              "    <tr>\n",
              "      <th>1</th>\n",
              "      <td>UK</td>\n",
              "      <td>0</td>\n",
              "      <td>22.0</td>\n",
              "      <td>1</td>\n",
              "      <td>Degree</td>\n",
              "      <td>Less than $20,000</td>\n",
              "      <td>10000.0</td>\n",
              "      <td>6</td>\n",
              "      <td>0</td>\n",
              "      <td>0.0</td>\n",
              "      <td>More</td>\n",
              "      <td>0</td>\n",
              "      <td>7</td>\n",
              "    </tr>\n",
              "    <tr>\n",
              "      <th>2</th>\n",
              "      <td>USA</td>\n",
              "      <td>0</td>\n",
              "      <td>46.0</td>\n",
              "      <td>1</td>\n",
              "      <td>Degree</td>\n",
              "      <td>More than $70,000</td>\n",
              "      <td>85000.5</td>\n",
              "      <td>7</td>\n",
              "      <td>0</td>\n",
              "      <td>0.0</td>\n",
              "      <td>More</td>\n",
              "      <td>0</td>\n",
              "      <td>7</td>\n",
              "    </tr>\n",
              "    <tr>\n",
              "      <th>3</th>\n",
              "      <td>France</td>\n",
              "      <td>0</td>\n",
              "      <td>37.0</td>\n",
              "      <td>1</td>\n",
              "      <td>Diploma</td>\n",
              "      <td>$20,001 - $30,000</td>\n",
              "      <td>25000.5</td>\n",
              "      <td>4</td>\n",
              "      <td>1</td>\n",
              "      <td>0.0</td>\n",
              "      <td>More</td>\n",
              "      <td>1</td>\n",
              "      <td>5</td>\n",
              "    </tr>\n",
              "    <tr>\n",
              "      <th>5</th>\n",
              "      <td>Australia</td>\n",
              "      <td>0</td>\n",
              "      <td>65.0</td>\n",
              "      <td>0</td>\n",
              "      <td>Post-graduate degree</td>\n",
              "      <td>$40,001 - $50,000</td>\n",
              "      <td>45000.5</td>\n",
              "      <td>3</td>\n",
              "      <td>1</td>\n",
              "      <td>1.0</td>\n",
              "      <td>Same</td>\n",
              "      <td>1</td>\n",
              "      <td>8</td>\n",
              "    </tr>\n",
              "    <tr>\n",
              "      <th>...</th>\n",
              "      <td>...</td>\n",
              "      <td>...</td>\n",
              "      <td>...</td>\n",
              "      <td>...</td>\n",
              "      <td>...</td>\n",
              "      <td>...</td>\n",
              "      <td>...</td>\n",
              "      <td>...</td>\n",
              "      <td>...</td>\n",
              "      <td>...</td>\n",
              "      <td>...</td>\n",
              "      <td>...</td>\n",
              "      <td>...</td>\n",
              "    </tr>\n",
              "    <tr>\n",
              "      <th>696</th>\n",
              "      <td>Australia</td>\n",
              "      <td>0</td>\n",
              "      <td>56.0</td>\n",
              "      <td>1</td>\n",
              "      <td>Completed year 10</td>\n",
              "      <td>Less than $20,000</td>\n",
              "      <td>10000.0</td>\n",
              "      <td>0</td>\n",
              "      <td>1</td>\n",
              "      <td>1.0</td>\n",
              "      <td>Same</td>\n",
              "      <td>1</td>\n",
              "      <td>3</td>\n",
              "    </tr>\n",
              "    <tr>\n",
              "      <th>697</th>\n",
              "      <td>Australia</td>\n",
              "      <td>0</td>\n",
              "      <td>38.0</td>\n",
              "      <td>1</td>\n",
              "      <td>Completed year 10</td>\n",
              "      <td>$30,001 - $40,000</td>\n",
              "      <td>35000.5</td>\n",
              "      <td>6</td>\n",
              "      <td>1</td>\n",
              "      <td>2.0</td>\n",
              "      <td>Same</td>\n",
              "      <td>1</td>\n",
              "      <td>3</td>\n",
              "    </tr>\n",
              "    <tr>\n",
              "      <th>698</th>\n",
              "      <td>Australia</td>\n",
              "      <td>0</td>\n",
              "      <td>24.0</td>\n",
              "      <td>1</td>\n",
              "      <td>Diploma</td>\n",
              "      <td>$20,001 - $30,000</td>\n",
              "      <td>25000.5</td>\n",
              "      <td>6</td>\n",
              "      <td>0</td>\n",
              "      <td>2.0</td>\n",
              "      <td>Less</td>\n",
              "      <td>1</td>\n",
              "      <td>5</td>\n",
              "    </tr>\n",
              "    <tr>\n",
              "      <th>699</th>\n",
              "      <td>Australia</td>\n",
              "      <td>0</td>\n",
              "      <td>50.0</td>\n",
              "      <td>0</td>\n",
              "      <td>Post-graduate degree</td>\n",
              "      <td>$30,001 - $40,000</td>\n",
              "      <td>35000.5</td>\n",
              "      <td>2</td>\n",
              "      <td>1</td>\n",
              "      <td>5.0</td>\n",
              "      <td>Same</td>\n",
              "      <td>1</td>\n",
              "      <td>8</td>\n",
              "    </tr>\n",
              "    <tr>\n",
              "      <th>700</th>\n",
              "      <td>Australia</td>\n",
              "      <td>0</td>\n",
              "      <td>32.0</td>\n",
              "      <td>0</td>\n",
              "      <td>Degree</td>\n",
              "      <td>More than $70,000</td>\n",
              "      <td>85000.5</td>\n",
              "      <td>8</td>\n",
              "      <td>1</td>\n",
              "      <td>0.0</td>\n",
              "      <td>Same</td>\n",
              "      <td>0</td>\n",
              "      <td>7</td>\n",
              "    </tr>\n",
              "  </tbody>\n",
              "</table>\n",
              "<p>668 rows × 13 columns</p>\n",
              "</div>\n",
              "      <button class=\"colab-df-convert\" onclick=\"convertToInteractive('df-df40e031-e65d-4630-8d6f-d7bd3c5e6054')\"\n",
              "              title=\"Convert this dataframe to an interactive table.\"\n",
              "              style=\"display:none;\">\n",
              "        \n",
              "  <svg xmlns=\"http://www.w3.org/2000/svg\" height=\"24px\"viewBox=\"0 0 24 24\"\n",
              "       width=\"24px\">\n",
              "    <path d=\"M0 0h24v24H0V0z\" fill=\"none\"/>\n",
              "    <path d=\"M18.56 5.44l.94 2.06.94-2.06 2.06-.94-2.06-.94-.94-2.06-.94 2.06-2.06.94zm-11 1L8.5 8.5l.94-2.06 2.06-.94-2.06-.94L8.5 2.5l-.94 2.06-2.06.94zm10 10l.94 2.06.94-2.06 2.06-.94-2.06-.94-.94-2.06-.94 2.06-2.06.94z\"/><path d=\"M17.41 7.96l-1.37-1.37c-.4-.4-.92-.59-1.43-.59-.52 0-1.04.2-1.43.59L10.3 9.45l-7.72 7.72c-.78.78-.78 2.05 0 2.83L4 21.41c.39.39.9.59 1.41.59.51 0 1.02-.2 1.41-.59l7.78-7.78 2.81-2.81c.8-.78.8-2.07 0-2.86zM5.41 20L4 18.59l7.72-7.72 1.47 1.35L5.41 20z\"/>\n",
              "  </svg>\n",
              "      </button>\n",
              "      \n",
              "  <style>\n",
              "    .colab-df-container {\n",
              "      display:flex;\n",
              "      flex-wrap:wrap;\n",
              "      gap: 12px;\n",
              "    }\n",
              "\n",
              "    .colab-df-convert {\n",
              "      background-color: #E8F0FE;\n",
              "      border: none;\n",
              "      border-radius: 50%;\n",
              "      cursor: pointer;\n",
              "      display: none;\n",
              "      fill: #1967D2;\n",
              "      height: 32px;\n",
              "      padding: 0 0 0 0;\n",
              "      width: 32px;\n",
              "    }\n",
              "\n",
              "    .colab-df-convert:hover {\n",
              "      background-color: #E2EBFA;\n",
              "      box-shadow: 0px 1px 2px rgba(60, 64, 67, 0.3), 0px 1px 3px 1px rgba(60, 64, 67, 0.15);\n",
              "      fill: #174EA6;\n",
              "    }\n",
              "\n",
              "    [theme=dark] .colab-df-convert {\n",
              "      background-color: #3B4455;\n",
              "      fill: #D2E3FC;\n",
              "    }\n",
              "\n",
              "    [theme=dark] .colab-df-convert:hover {\n",
              "      background-color: #434B5C;\n",
              "      box-shadow: 0px 1px 3px 1px rgba(0, 0, 0, 0.15);\n",
              "      filter: drop-shadow(0px 1px 2px rgba(0, 0, 0, 0.3));\n",
              "      fill: #FFFFFF;\n",
              "    }\n",
              "  </style>\n",
              "\n",
              "      <script>\n",
              "        const buttonEl =\n",
              "          document.querySelector('#df-df40e031-e65d-4630-8d6f-d7bd3c5e6054 button.colab-df-convert');\n",
              "        buttonEl.style.display =\n",
              "          google.colab.kernel.accessAllowed ? 'block' : 'none';\n",
              "\n",
              "        async function convertToInteractive(key) {\n",
              "          const element = document.querySelector('#df-df40e031-e65d-4630-8d6f-d7bd3c5e6054');\n",
              "          const dataTable =\n",
              "            await google.colab.kernel.invokeFunction('convertToInteractive',\n",
              "                                                     [key], {});\n",
              "          if (!dataTable) return;\n",
              "\n",
              "          const docLinkHtml = 'Like what you see? Visit the ' +\n",
              "            '<a target=\"_blank\" href=https://colab.research.google.com/notebooks/data_table.ipynb>data table notebook</a>'\n",
              "            + ' to learn more about interactive tables.';\n",
              "          element.innerHTML = '';\n",
              "          dataTable['output_type'] = 'display_data';\n",
              "          await google.colab.output.renderOutput(dataTable, element);\n",
              "          const docLink = document.createElement('div');\n",
              "          docLink.innerHTML = docLinkHtml;\n",
              "          element.appendChild(docLink);\n",
              "        }\n",
              "      </script>\n",
              "    </div>\n",
              "  </div>\n",
              "  "
            ]
          },
          "metadata": {},
          "execution_count": 94
        }
      ]
    },
    {
      "cell_type": "code",
      "source": [
        "Education_N = g['Education_N'].value_counts()\n",
        "Education_N"
      ],
      "metadata": {
        "colab": {
          "base_uri": "https://localhost:8080/"
        },
        "id": "yKEdkAPhCTdL",
        "outputId": "0cd004d4-7b5e-4254-d03e-9062326c3e96"
      },
      "execution_count": null,
      "outputs": [
        {
          "output_type": "execute_result",
          "data": {
            "text/plain": [
              "7    164\n",
              "4     99\n",
              "3     95\n",
              "5     85\n",
              "8     83\n",
              "6     73\n",
              "2     52\n",
              "1     16\n",
              "0      1\n",
              "Name: Education_N, dtype: int64"
            ]
          },
          "metadata": {},
          "execution_count": 95
        }
      ]
    },
    {
      "cell_type": "markdown",
      "source": [
        "La variable de la nueva colummna llamada *Education_N*, está pensada como las escalas de medición, entre mayor título obtenga mayor es la puntuación. "
      ],
      "metadata": {
        "id": "tkEyogsXI6Ad"
      }
    },
    {
      "cell_type": "markdown",
      "source": [
        "# Análisis de correlación"
      ],
      "metadata": {
        "id": "9I-GDf8iSJYJ"
      }
    },
    {
      "cell_type": "code",
      "source": [
        "g.corr(method='pearson')"
      ],
      "metadata": {
        "colab": {
          "base_uri": "https://localhost:8080/",
          "height": 332
        },
        "id": "9c7SfEPYSKn8",
        "outputId": "0f982622-4b5c-4443-95b7-d2f13eb0bdd5"
      },
      "execution_count": null,
      "outputs": [
        {
          "output_type": "execute_result",
          "data": {
            "text/plain": [
              "             SeeWhales       Age    Gender    Income  AdultWhales  \\\n",
              "SeeWhales     1.000000  0.132323  0.004086 -0.016512     0.059876   \n",
              "Age           0.132323  1.000000 -0.105724 -0.099886     0.090113   \n",
              "Gender        0.004086 -0.105724  1.000000 -0.103052    -0.070860   \n",
              "Income       -0.016512 -0.099886 -0.103052  1.000000     0.059070   \n",
              "AdultWhales   0.059876  0.090113 -0.070860  0.059070     1.000000   \n",
              "YoungWhales   0.074203  0.031347 -0.058259  0.117574    -0.005848   \n",
              "Max_wtp       0.072767 -0.051015 -0.019567  0.051494     0.243281   \n",
              "PayConserve   0.080293 -0.101716  0.010691 -0.016063     0.040078   \n",
              "Education_N  -0.048032 -0.255627 -0.098282  0.305992     0.015848   \n",
              "\n",
              "             YoungWhales   Max_wtp  PayConserve  Education_N  \n",
              "SeeWhales       0.074203  0.072767     0.080293    -0.048032  \n",
              "Age             0.031347 -0.051015    -0.101716    -0.255627  \n",
              "Gender         -0.058259 -0.019567     0.010691    -0.098282  \n",
              "Income          0.117574  0.051494    -0.016063     0.305992  \n",
              "AdultWhales    -0.005848  0.243281     0.040078     0.015848  \n",
              "YoungWhales     1.000000  0.047691     0.012819     0.017451  \n",
              "Max_wtp         0.047691  1.000000     0.125401     0.044611  \n",
              "PayConserve     0.012819  0.125401     1.000000     0.073109  \n",
              "Education_N     0.017451  0.044611     0.073109     1.000000  "
            ],
            "text/html": [
              "\n",
              "  <div id=\"df-d8a6b414-f833-435b-ae21-bb2782617692\">\n",
              "    <div class=\"colab-df-container\">\n",
              "      <div>\n",
              "<style scoped>\n",
              "    .dataframe tbody tr th:only-of-type {\n",
              "        vertical-align: middle;\n",
              "    }\n",
              "\n",
              "    .dataframe tbody tr th {\n",
              "        vertical-align: top;\n",
              "    }\n",
              "\n",
              "    .dataframe thead th {\n",
              "        text-align: right;\n",
              "    }\n",
              "</style>\n",
              "<table border=\"1\" class=\"dataframe\">\n",
              "  <thead>\n",
              "    <tr style=\"text-align: right;\">\n",
              "      <th></th>\n",
              "      <th>SeeWhales</th>\n",
              "      <th>Age</th>\n",
              "      <th>Gender</th>\n",
              "      <th>Income</th>\n",
              "      <th>AdultWhales</th>\n",
              "      <th>YoungWhales</th>\n",
              "      <th>Max_wtp</th>\n",
              "      <th>PayConserve</th>\n",
              "      <th>Education_N</th>\n",
              "    </tr>\n",
              "  </thead>\n",
              "  <tbody>\n",
              "    <tr>\n",
              "      <th>SeeWhales</th>\n",
              "      <td>1.000000</td>\n",
              "      <td>0.132323</td>\n",
              "      <td>0.004086</td>\n",
              "      <td>-0.016512</td>\n",
              "      <td>0.059876</td>\n",
              "      <td>0.074203</td>\n",
              "      <td>0.072767</td>\n",
              "      <td>0.080293</td>\n",
              "      <td>-0.048032</td>\n",
              "    </tr>\n",
              "    <tr>\n",
              "      <th>Age</th>\n",
              "      <td>0.132323</td>\n",
              "      <td>1.000000</td>\n",
              "      <td>-0.105724</td>\n",
              "      <td>-0.099886</td>\n",
              "      <td>0.090113</td>\n",
              "      <td>0.031347</td>\n",
              "      <td>-0.051015</td>\n",
              "      <td>-0.101716</td>\n",
              "      <td>-0.255627</td>\n",
              "    </tr>\n",
              "    <tr>\n",
              "      <th>Gender</th>\n",
              "      <td>0.004086</td>\n",
              "      <td>-0.105724</td>\n",
              "      <td>1.000000</td>\n",
              "      <td>-0.103052</td>\n",
              "      <td>-0.070860</td>\n",
              "      <td>-0.058259</td>\n",
              "      <td>-0.019567</td>\n",
              "      <td>0.010691</td>\n",
              "      <td>-0.098282</td>\n",
              "    </tr>\n",
              "    <tr>\n",
              "      <th>Income</th>\n",
              "      <td>-0.016512</td>\n",
              "      <td>-0.099886</td>\n",
              "      <td>-0.103052</td>\n",
              "      <td>1.000000</td>\n",
              "      <td>0.059070</td>\n",
              "      <td>0.117574</td>\n",
              "      <td>0.051494</td>\n",
              "      <td>-0.016063</td>\n",
              "      <td>0.305992</td>\n",
              "    </tr>\n",
              "    <tr>\n",
              "      <th>AdultWhales</th>\n",
              "      <td>0.059876</td>\n",
              "      <td>0.090113</td>\n",
              "      <td>-0.070860</td>\n",
              "      <td>0.059070</td>\n",
              "      <td>1.000000</td>\n",
              "      <td>-0.005848</td>\n",
              "      <td>0.243281</td>\n",
              "      <td>0.040078</td>\n",
              "      <td>0.015848</td>\n",
              "    </tr>\n",
              "    <tr>\n",
              "      <th>YoungWhales</th>\n",
              "      <td>0.074203</td>\n",
              "      <td>0.031347</td>\n",
              "      <td>-0.058259</td>\n",
              "      <td>0.117574</td>\n",
              "      <td>-0.005848</td>\n",
              "      <td>1.000000</td>\n",
              "      <td>0.047691</td>\n",
              "      <td>0.012819</td>\n",
              "      <td>0.017451</td>\n",
              "    </tr>\n",
              "    <tr>\n",
              "      <th>Max_wtp</th>\n",
              "      <td>0.072767</td>\n",
              "      <td>-0.051015</td>\n",
              "      <td>-0.019567</td>\n",
              "      <td>0.051494</td>\n",
              "      <td>0.243281</td>\n",
              "      <td>0.047691</td>\n",
              "      <td>1.000000</td>\n",
              "      <td>0.125401</td>\n",
              "      <td>0.044611</td>\n",
              "    </tr>\n",
              "    <tr>\n",
              "      <th>PayConserve</th>\n",
              "      <td>0.080293</td>\n",
              "      <td>-0.101716</td>\n",
              "      <td>0.010691</td>\n",
              "      <td>-0.016063</td>\n",
              "      <td>0.040078</td>\n",
              "      <td>0.012819</td>\n",
              "      <td>0.125401</td>\n",
              "      <td>1.000000</td>\n",
              "      <td>0.073109</td>\n",
              "    </tr>\n",
              "    <tr>\n",
              "      <th>Education_N</th>\n",
              "      <td>-0.048032</td>\n",
              "      <td>-0.255627</td>\n",
              "      <td>-0.098282</td>\n",
              "      <td>0.305992</td>\n",
              "      <td>0.015848</td>\n",
              "      <td>0.017451</td>\n",
              "      <td>0.044611</td>\n",
              "      <td>0.073109</td>\n",
              "      <td>1.000000</td>\n",
              "    </tr>\n",
              "  </tbody>\n",
              "</table>\n",
              "</div>\n",
              "      <button class=\"colab-df-convert\" onclick=\"convertToInteractive('df-d8a6b414-f833-435b-ae21-bb2782617692')\"\n",
              "              title=\"Convert this dataframe to an interactive table.\"\n",
              "              style=\"display:none;\">\n",
              "        \n",
              "  <svg xmlns=\"http://www.w3.org/2000/svg\" height=\"24px\"viewBox=\"0 0 24 24\"\n",
              "       width=\"24px\">\n",
              "    <path d=\"M0 0h24v24H0V0z\" fill=\"none\"/>\n",
              "    <path d=\"M18.56 5.44l.94 2.06.94-2.06 2.06-.94-2.06-.94-.94-2.06-.94 2.06-2.06.94zm-11 1L8.5 8.5l.94-2.06 2.06-.94-2.06-.94L8.5 2.5l-.94 2.06-2.06.94zm10 10l.94 2.06.94-2.06 2.06-.94-2.06-.94-.94-2.06-.94 2.06-2.06.94z\"/><path d=\"M17.41 7.96l-1.37-1.37c-.4-.4-.92-.59-1.43-.59-.52 0-1.04.2-1.43.59L10.3 9.45l-7.72 7.72c-.78.78-.78 2.05 0 2.83L4 21.41c.39.39.9.59 1.41.59.51 0 1.02-.2 1.41-.59l7.78-7.78 2.81-2.81c.8-.78.8-2.07 0-2.86zM5.41 20L4 18.59l7.72-7.72 1.47 1.35L5.41 20z\"/>\n",
              "  </svg>\n",
              "      </button>\n",
              "      \n",
              "  <style>\n",
              "    .colab-df-container {\n",
              "      display:flex;\n",
              "      flex-wrap:wrap;\n",
              "      gap: 12px;\n",
              "    }\n",
              "\n",
              "    .colab-df-convert {\n",
              "      background-color: #E8F0FE;\n",
              "      border: none;\n",
              "      border-radius: 50%;\n",
              "      cursor: pointer;\n",
              "      display: none;\n",
              "      fill: #1967D2;\n",
              "      height: 32px;\n",
              "      padding: 0 0 0 0;\n",
              "      width: 32px;\n",
              "    }\n",
              "\n",
              "    .colab-df-convert:hover {\n",
              "      background-color: #E2EBFA;\n",
              "      box-shadow: 0px 1px 2px rgba(60, 64, 67, 0.3), 0px 1px 3px 1px rgba(60, 64, 67, 0.15);\n",
              "      fill: #174EA6;\n",
              "    }\n",
              "\n",
              "    [theme=dark] .colab-df-convert {\n",
              "      background-color: #3B4455;\n",
              "      fill: #D2E3FC;\n",
              "    }\n",
              "\n",
              "    [theme=dark] .colab-df-convert:hover {\n",
              "      background-color: #434B5C;\n",
              "      box-shadow: 0px 1px 3px 1px rgba(0, 0, 0, 0.15);\n",
              "      filter: drop-shadow(0px 1px 2px rgba(0, 0, 0, 0.3));\n",
              "      fill: #FFFFFF;\n",
              "    }\n",
              "  </style>\n",
              "\n",
              "      <script>\n",
              "        const buttonEl =\n",
              "          document.querySelector('#df-d8a6b414-f833-435b-ae21-bb2782617692 button.colab-df-convert');\n",
              "        buttonEl.style.display =\n",
              "          google.colab.kernel.accessAllowed ? 'block' : 'none';\n",
              "\n",
              "        async function convertToInteractive(key) {\n",
              "          const element = document.querySelector('#df-d8a6b414-f833-435b-ae21-bb2782617692');\n",
              "          const dataTable =\n",
              "            await google.colab.kernel.invokeFunction('convertToInteractive',\n",
              "                                                     [key], {});\n",
              "          if (!dataTable) return;\n",
              "\n",
              "          const docLinkHtml = 'Like what you see? Visit the ' +\n",
              "            '<a target=\"_blank\" href=https://colab.research.google.com/notebooks/data_table.ipynb>data table notebook</a>'\n",
              "            + ' to learn more about interactive tables.';\n",
              "          element.innerHTML = '';\n",
              "          dataTable['output_type'] = 'display_data';\n",
              "          await google.colab.output.renderOutput(dataTable, element);\n",
              "          const docLink = document.createElement('div');\n",
              "          docLink.innerHTML = docLinkHtml;\n",
              "          element.appendChild(docLink);\n",
              "        }\n",
              "      </script>\n",
              "    </div>\n",
              "  </div>\n",
              "  "
            ]
          },
          "metadata": {},
          "execution_count": 96
        }
      ]
    },
    {
      "cell_type": "code",
      "source": [
        "plt.matshow(g.corr(method='pearson'))"
      ],
      "metadata": {
        "colab": {
          "base_uri": "https://localhost:8080/",
          "height": 292
        },
        "id": "XRiDlzq8SOOh",
        "outputId": "df29ee26-13ea-4471-b11d-694f45a58480"
      },
      "execution_count": null,
      "outputs": [
        {
          "output_type": "execute_result",
          "data": {
            "text/plain": [
              "<matplotlib.image.AxesImage at 0x7f451e09fad0>"
            ]
          },
          "metadata": {},
          "execution_count": 100
        },
        {
          "output_type": "display_data",
          "data": {
            "text/plain": [
              "<Figure size 288x288 with 1 Axes>"
            ],
            "image/png": "[encoded data removed]"
          },
          "metadata": {
            "needs_background": "light"
          }
        }
      ]
    },
    {
      "cell_type": "markdown",
      "source": [
        "* Es una matriz simétrica\n",
        "* Correlaciones positivas con respecto a *PayConserve*: SeeWhales, Gender,\tAdultWhales, YoungWhales, Max_wtp, PayConserve y Education_N\n",
        "* Correlaciones negativas con respeco a *PayConserve*: Age and Income"
      ],
      "metadata": {
        "id": "ju2TLn79NFIY"
      }
    },
    {
      "cell_type": "code",
      "source": [
        "g.corr(method='spearman')"
      ],
      "metadata": {
        "colab": {
          "base_uri": "https://localhost:8080/",
          "height": 332
        },
        "id": "KIuX7wGtls4K",
        "outputId": "1f6b5464-b6bc-490d-d699-82b63c85b453"
      },
      "execution_count": null,
      "outputs": [
        {
          "output_type": "execute_result",
          "data": {
            "text/plain": [
              "             SeeWhales       Age    Gender    Income  AdultWhales  \\\n",
              "SeeWhales     1.000000  0.132654  0.004086 -0.013938     0.054898   \n",
              "Age           0.132654  1.000000 -0.108226 -0.057471     0.064349   \n",
              "Gender        0.004086 -0.108226  1.000000 -0.104436    -0.039980   \n",
              "Income       -0.013938 -0.057471 -0.104436  1.000000     0.058659   \n",
              "AdultWhales   0.054898  0.064349 -0.039980  0.058659     1.000000   \n",
              "YoungWhales   0.074203  0.040857 -0.058259  0.121695    -0.012534   \n",
              "Max_wtp      -0.007373 -0.191821  0.001200  0.106140     0.040770   \n",
              "PayConserve   0.080293 -0.097485  0.010691  0.003990     0.015463   \n",
              "Education_N  -0.046062 -0.237542 -0.098877  0.305926    -0.000819   \n",
              "\n",
              "             YoungWhales   Max_wtp  PayConserve  Education_N  \n",
              "SeeWhales       0.074203 -0.007373     0.080293    -0.046062  \n",
              "Age             0.040857 -0.191821    -0.097485    -0.237542  \n",
              "Gender         -0.058259  0.001200     0.010691    -0.098877  \n",
              "Income          0.121695  0.106140     0.003990     0.305926  \n",
              "AdultWhales    -0.012534  0.040770     0.015463    -0.000819  \n",
              "YoungWhales     1.000000  0.047573     0.012819     0.025650  \n",
              "Max_wtp         0.047573  1.000000     0.570777     0.122620  \n",
              "PayConserve     0.012819  0.570777     1.000000     0.069171  \n",
              "Education_N     0.025650  0.122620     0.069171     1.000000  "
            ],
            "text/html": [
              "\n",
              "  <div id=\"df-e726d786-22fb-4738-acaa-c60ec13e805e\">\n",
              "    <div class=\"colab-df-container\">\n",
              "      <div>\n",
              "<style scoped>\n",
              "    .dataframe tbody tr th:only-of-type {\n",
              "        vertical-align: middle;\n",
              "    }\n",
              "\n",
              "    .dataframe tbody tr th {\n",
              "        vertical-align: top;\n",
              "    }\n",
              "\n",
              "    .dataframe thead th {\n",
              "        text-align: right;\n",
              "    }\n",
              "</style>\n",
              "<table border=\"1\" class=\"dataframe\">\n",
              "  <thead>\n",
              "    <tr style=\"text-align: right;\">\n",
              "      <th></th>\n",
              "      <th>SeeWhales</th>\n",
              "      <th>Age</th>\n",
              "      <th>Gender</th>\n",
              "      <th>Income</th>\n",
              "      <th>AdultWhales</th>\n",
              "      <th>YoungWhales</th>\n",
              "      <th>Max_wtp</th>\n",
              "      <th>PayConserve</th>\n",
              "      <th>Education_N</th>\n",
              "    </tr>\n",
              "  </thead>\n",
              "  <tbody>\n",
              "    <tr>\n",
              "      <th>SeeWhales</th>\n",
              "      <td>1.000000</td>\n",
              "      <td>0.132654</td>\n",
              "      <td>0.004086</td>\n",
              "      <td>-0.013938</td>\n",
              "      <td>0.054898</td>\n",
              "      <td>0.074203</td>\n",
              "      <td>-0.007373</td>\n",
              "      <td>0.080293</td>\n",
              "      <td>-0.046062</td>\n",
              "    </tr>\n",
              "    <tr>\n",
              "      <th>Age</th>\n",
              "      <td>0.132654</td>\n",
              "      <td>1.000000</td>\n",
              "      <td>-0.108226</td>\n",
              "      <td>-0.057471</td>\n",
              "      <td>0.064349</td>\n",
              "      <td>0.040857</td>\n",
              "      <td>-0.191821</td>\n",
              "      <td>-0.097485</td>\n",
              "      <td>-0.237542</td>\n",
              "    </tr>\n",
              "    <tr>\n",
              "      <th>Gender</th>\n",
              "      <td>0.004086</td>\n",
              "      <td>-0.108226</td>\n",
              "      <td>1.000000</td>\n",
              "      <td>-0.104436</td>\n",
              "      <td>-0.039980</td>\n",
              "      <td>-0.058259</td>\n",
              "      <td>0.001200</td>\n",
              "      <td>0.010691</td>\n",
              "      <td>-0.098877</td>\n",
              "    </tr>\n",
              "    <tr>\n",
              "      <th>Income</th>\n",
              "      <td>-0.013938</td>\n",
              "      <td>-0.057471</td>\n",
              "      <td>-0.104436</td>\n",
              "      <td>1.000000</td>\n",
              "      <td>0.058659</td>\n",
              "      <td>0.121695</td>\n",
              "      <td>0.106140</td>\n",
              "      <td>0.003990</td>\n",
              "      <td>0.305926</td>\n",
              "    </tr>\n",
              "    <tr>\n",
              "      <th>AdultWhales</th>\n",
              "      <td>0.054898</td>\n",
              "      <td>0.064349</td>\n",
              "      <td>-0.039980</td>\n",
              "      <td>0.058659</td>\n",
              "      <td>1.000000</td>\n",
              "      <td>-0.012534</td>\n",
              "      <td>0.040770</td>\n",
              "      <td>0.015463</td>\n",
              "      <td>-0.000819</td>\n",
              "    </tr>\n",
              "    <tr>\n",
              "      <th>YoungWhales</th>\n",
              "      <td>0.074203</td>\n",
              "      <td>0.040857</td>\n",
              "      <td>-0.058259</td>\n",
              "      <td>0.121695</td>\n",
              "      <td>-0.012534</td>\n",
              "      <td>1.000000</td>\n",
              "      <td>0.047573</td>\n",
              "      <td>0.012819</td>\n",
              "      <td>0.025650</td>\n",
              "    </tr>\n",
              "    <tr>\n",
              "      <th>Max_wtp</th>\n",
              "      <td>-0.007373</td>\n",
              "      <td>-0.191821</td>\n",
              "      <td>0.001200</td>\n",
              "      <td>0.106140</td>\n",
              "      <td>0.040770</td>\n",
              "      <td>0.047573</td>\n",
              "      <td>1.000000</td>\n",
              "      <td>0.570777</td>\n",
              "      <td>0.122620</td>\n",
              "    </tr>\n",
              "    <tr>\n",
              "      <th>PayConserve</th>\n",
              "      <td>0.080293</td>\n",
              "      <td>-0.097485</td>\n",
              "      <td>0.010691</td>\n",
              "      <td>0.003990</td>\n",
              "      <td>0.015463</td>\n",
              "      <td>0.012819</td>\n",
              "      <td>0.570777</td>\n",
              "      <td>1.000000</td>\n",
              "      <td>0.069171</td>\n",
              "    </tr>\n",
              "    <tr>\n",
              "      <th>Education_N</th>\n",
              "      <td>-0.046062</td>\n",
              "      <td>-0.237542</td>\n",
              "      <td>-0.098877</td>\n",
              "      <td>0.305926</td>\n",
              "      <td>-0.000819</td>\n",
              "      <td>0.025650</td>\n",
              "      <td>0.122620</td>\n",
              "      <td>0.069171</td>\n",
              "      <td>1.000000</td>\n",
              "    </tr>\n",
              "  </tbody>\n",
              "</table>\n",
              "</div>\n",
              "      <button class=\"colab-df-convert\" onclick=\"convertToInteractive('df-e726d786-22fb-4738-acaa-c60ec13e805e')\"\n",
              "              title=\"Convert this dataframe to an interactive table.\"\n",
              "              style=\"display:none;\">\n",
              "        \n",
              "  <svg xmlns=\"http://www.w3.org/2000/svg\" height=\"24px\"viewBox=\"0 0 24 24\"\n",
              "       width=\"24px\">\n",
              "    <path d=\"M0 0h24v24H0V0z\" fill=\"none\"/>\n",
              "    <path d=\"M18.56 5.44l.94 2.06.94-2.06 2.06-.94-2.06-.94-.94-2.06-.94 2.06-2.06.94zm-11 1L8.5 8.5l.94-2.06 2.06-.94-2.06-.94L8.5 2.5l-.94 2.06-2.06.94zm10 10l.94 2.06.94-2.06 2.06-.94-2.06-.94-.94-2.06-.94 2.06-2.06.94z\"/><path d=\"M17.41 7.96l-1.37-1.37c-.4-.4-.92-.59-1.43-.59-.52 0-1.04.2-1.43.59L10.3 9.45l-7.72 7.72c-.78.78-.78 2.05 0 2.83L4 21.41c.39.39.9.59 1.41.59.51 0 1.02-.2 1.41-.59l7.78-7.78 2.81-2.81c.8-.78.8-2.07 0-2.86zM5.41 20L4 18.59l7.72-7.72 1.47 1.35L5.41 20z\"/>\n",
              "  </svg>\n",
              "      </button>\n",
              "      \n",
              "  <style>\n",
              "    .colab-df-container {\n",
              "      display:flex;\n",
              "      flex-wrap:wrap;\n",
              "      gap: 12px;\n",
              "    }\n",
              "\n",
              "    .colab-df-convert {\n",
              "      background-color: #E8F0FE;\n",
              "      border: none;\n",
              "      border-radius: 50%;\n",
              "      cursor: pointer;\n",
              "      display: none;\n",
              "      fill: #1967D2;\n",
              "      height: 32px;\n",
              "      padding: 0 0 0 0;\n",
              "      width: 32px;\n",
              "    }\n",
              "\n",
              "    .colab-df-convert:hover {\n",
              "      background-color: #E2EBFA;\n",
              "      box-shadow: 0px 1px 2px rgba(60, 64, 67, 0.3), 0px 1px 3px 1px rgba(60, 64, 67, 0.15);\n",
              "      fill: #174EA6;\n",
              "    }\n",
              "\n",
              "    [theme=dark] .colab-df-convert {\n",
              "      background-color: #3B4455;\n",
              "      fill: #D2E3FC;\n",
              "    }\n",
              "\n",
              "    [theme=dark] .colab-df-convert:hover {\n",
              "      background-color: #434B5C;\n",
              "      box-shadow: 0px 1px 3px 1px rgba(0, 0, 0, 0.15);\n",
              "      filter: drop-shadow(0px 1px 2px rgba(0, 0, 0, 0.3));\n",
              "      fill: #FFFFFF;\n",
              "    }\n",
              "  </style>\n",
              "\n",
              "      <script>\n",
              "        const buttonEl =\n",
              "          document.querySelector('#df-e726d786-22fb-4738-acaa-c60ec13e805e button.colab-df-convert');\n",
              "        buttonEl.style.display =\n",
              "          google.colab.kernel.accessAllowed ? 'block' : 'none';\n",
              "\n",
              "        async function convertToInteractive(key) {\n",
              "          const element = document.querySelector('#df-e726d786-22fb-4738-acaa-c60ec13e805e');\n",
              "          const dataTable =\n",
              "            await google.colab.kernel.invokeFunction('convertToInteractive',\n",
              "                                                     [key], {});\n",
              "          if (!dataTable) return;\n",
              "\n",
              "          const docLinkHtml = 'Like what you see? Visit the ' +\n",
              "            '<a target=\"_blank\" href=https://colab.research.google.com/notebooks/data_table.ipynb>data table notebook</a>'\n",
              "            + ' to learn more about interactive tables.';\n",
              "          element.innerHTML = '';\n",
              "          dataTable['output_type'] = 'display_data';\n",
              "          await google.colab.output.renderOutput(dataTable, element);\n",
              "          const docLink = document.createElement('div');\n",
              "          docLink.innerHTML = docLinkHtml;\n",
              "          element.appendChild(docLink);\n",
              "        }\n",
              "      </script>\n",
              "    </div>\n",
              "  </div>\n",
              "  "
            ]
          },
          "metadata": {},
          "execution_count": 98
        }
      ]
    },
    {
      "cell_type": "code",
      "source": [
        "plt.matshow(g.corr(method='spearman'))"
      ],
      "metadata": {
        "colab": {
          "base_uri": "https://localhost:8080/",
          "height": 292
        },
        "id": "y6uJiSBSnDp4",
        "outputId": "5be2d3a2-2c7c-4215-dcc0-a39c26de7d37"
      },
      "execution_count": null,
      "outputs": [
        {
          "output_type": "execute_result",
          "data": {
            "text/plain": [
              "<matplotlib.image.AxesImage at 0x7f451e11f6d0>"
            ]
          },
          "metadata": {},
          "execution_count": 99
        },
        {
          "output_type": "display_data",
          "data": {
            "text/plain": [
              "<Figure size 288x288 with 1 Axes>"
            ],
            "image/png": "[encoded data removed]"
          },
          "metadata": {
            "needs_background": "light"
          }
        }
      ]
    },
    {
      "cell_type": "markdown",
      "source": [
        "* Es una matriz simétrica\n",
        "Correlaciones positivas con respecto a *PayConserve*: SeeWhales, Gender, Income, AdultWhales, YoungWhales, Max_wtp, PayConserve y Education_N\n",
        "* Las correlaciones más bajas con respecto a la variable *PayConserve* son Age con -0.097485 y Income con 0.003990\n",
        "* Correlaciones negativas con respeco a *PayConserve*: Age"
      ],
      "metadata": {
        "id": "ucl902DKoPwD"
      }
    },
    {
      "cell_type": "markdown",
      "source": [
        "# Modelamiento"
      ],
      "metadata": {
        "id": "lcylZWw1Spqq"
      }
    },
    {
      "cell_type": "code",
      "source": [
        "y = g['PayConserve']\n",
        "X = g[['SeeWhales','Age','Gender','Income','Education_N']]\n",
        "X = sm.add_constant(X)\n",
        "model = sm.OLS(y,X)\n",
        "reg = model.fit()\n",
        "print(reg.summary())"
      ],
      "metadata": {
        "colab": {
          "base_uri": "https://localhost:8080/"
        },
        "id": "Dd15rjZoSgRb",
        "outputId": "28a997e9-53c1-42b1-a116-8384ca85a783"
      },
      "execution_count": null,
      "outputs": [
        {
          "output_type": "stream",
          "name": "stdout",
          "text": [
            "                            OLS Regression Results                            \n",
            "==============================================================================\n",
            "Dep. Variable:            PayConserve   R-squared:                       0.024\n",
            "Model:                            OLS   Adj. R-squared:                  0.016\n",
            "Method:                 Least Squares   F-statistic:                     3.202\n",
            "Date:                Sat, 29 Oct 2022   Prob (F-statistic):            0.00727\n",
            "Time:                        12:21:52   Log-Likelihood:                -436.25\n",
            "No. Observations:                 668   AIC:                             884.5\n",
            "Df Residuals:                     662   BIC:                             911.5\n",
            "Df Model:                           5                                         \n",
            "Covariance Type:            nonrobust                                         \n",
            "===============================================================================\n",
            "                  coef    std err          t      P>|t|      [0.025      0.975]\n",
            "-------------------------------------------------------------------------------\n",
            "const           0.7399      0.092      8.016      0.000       0.559       0.921\n",
            "SeeWhales       0.1351      0.054      2.482      0.013       0.028       0.242\n",
            "Age            -0.0031      0.001     -2.523      0.012      -0.006      -0.001\n",
            "Gender          0.0013      0.038      0.035      0.972      -0.073       0.076\n",
            "Income       -7.98e-07   7.25e-07     -1.100      0.272   -2.22e-06    6.26e-07\n",
            "Education_N     0.0154      0.010      1.567      0.118      -0.004       0.035\n",
            "==============================================================================\n",
            "Omnibus:                    10165.076   Durbin-Watson:                   1.941\n",
            "Prob(Omnibus):                  0.000   Jarque-Bera (JB):              109.252\n",
            "Skew:                          -0.694   Prob(JB):                     1.89e-24\n",
            "Kurtosis:                       1.587   Cond. No.                     2.69e+05\n",
            "==============================================================================\n",
            "\n",
            "Notes:\n",
            "[1] Standard Errors assume that the covariance matrix of the errors is correctly specified.\n",
            "[2] The condition number is large, 2.69e+05. This might indicate that there are\n",
            "strong multicollinearity or other numerical problems.\n"
          ]
        },
        {
          "output_type": "stream",
          "name": "stderr",
          "text": [
            "/usr/local/lib/python3.7/dist-packages/statsmodels/tsa/tsatools.py:142: FutureWarning: In a future version of pandas all arguments of concat except for the argument 'objs' will be keyword-only\n",
            "  x = pd.concat(x[::order], 1)\n"
          ]
        }
      ]
    },
    {
      "cell_type": "markdown",
      "source": [
        "* Variables significativas: *SeeWhales* y *Age* porque el P-valor está por debajo de 0.05 (nivel de significancia). También, porque dentro de sus intervalos de confianza, no se encuentra la hipótesis nula, es decir, el número 0\n",
        "* Variables NO significativas: *Income*, *Gender*, *Education_N*\n",
        "* SeeWhales: Si una persona ha visto ballenas, su probabilidad de disposición a pagar aumenta en 0.1351.\n",
        "* Age: A mayor edad, las personas no estan dispuestas a pagar, pues su probabilidad disminuye en 0.0031\n",
        "* Income: Por una unidad de más en el ingreso, la probabilidad de pagar por la conservación del ecosistema disminuye\n",
        "* Gender: al ser mujer, la probabilidad de pagar por la conservación del ecosistema aumenta\n",
        "* Education_N: a mayor grado de educación, la probabilidad de pagar por la conservación del ecosistema aumenta"
      ],
      "metadata": {
        "id": "qBIC89vjGZDY"
      }
    },
    {
      "cell_type": "markdown",
      "source": [
        "# Conclusión general"
      ],
      "metadata": {
        "id": "qy58bKjDMuVf"
      }
    },
    {
      "cell_type": "markdown",
      "source": [
        "¿Cuál es el efecto de haber visto ballenas en la probabilidad de pagar por conservar 2 dólares cada semana durante años?\n",
        "> El efecto es positivo, es decir si una persona ha visto ballenas, su probabilidad de disposición a pagar aumenta. Esto se puede deber a que quieren repetir la experiencia, compartirla y/o que exista la posibilidad de avistamiento de ballenas para las futuras generaciones como sus hijos."
      ],
      "metadata": {
        "id": "EKGnNjkTM9TK"
      }
    }
  ]
}